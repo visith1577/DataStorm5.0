{
 "cells": [
  {
   "cell_type": "code",
   "execution_count": 1,
   "id": "f0f2fad6",
   "metadata": {
    "_cell_guid": "b1076dfc-b9ad-4769-8c92-a6c4dae69d19",
    "_uuid": "8f2839f25d086af736a60e9eeb907d3b93b6e0e5",
    "execution": {
     "iopub.execute_input": "2024-05-17T06:10:17.531989Z",
     "iopub.status.busy": "2024-05-17T06:10:17.531507Z",
     "iopub.status.idle": "2024-05-17T06:10:18.502997Z",
     "shell.execute_reply": "2024-05-17T06:10:18.501827Z"
    },
    "papermill": {
     "duration": 0.990811,
     "end_time": "2024-05-17T06:10:18.505559",
     "exception": false,
     "start_time": "2024-05-17T06:10:17.514748",
     "status": "completed"
    },
    "tags": []
   },
   "outputs": [
    {
     "name": "stdout",
     "output_type": "stream",
     "text": [
      "/kaggle/input/cleaned-data/cleaned (1).csv\n",
      "/kaggle/input/data-storm-5-0/train_kaggle.csv\n",
      "/kaggle/input/data-storm-5-0/test_kaggle.csv\n"
     ]
    }
   ],
   "source": [
    "# This Python 3 environment comes with many helpful analytics libraries installed\n",
    "# It is defined by the kaggle/python Docker image: https://github.com/kaggle/docker-python\n",
    "# For example, here's several helpful packages to load\n",
    "\n",
    "import numpy as np # linear algebra\n",
    "import pandas as pd # data processing, CSV file I/O (e.g. pd.read_csv)\n",
    "\n",
    "# Input data files are available in the read-only \"../input/\" directory\n",
    "# For example, running this (by clicking run or pressing Shift+Enter) will list all files under the input directory\n",
    "\n",
    "import os\n",
    "for dirname, _, filenames in os.walk('/kaggle/input'):\n",
    "    for filename in filenames:\n",
    "        print(os.path.join(dirname, filename))\n",
    "\n",
    "# You can write up to 20GB to the current directory (/kaggle/working/) that gets preserved as output when you create a version using \"Save & Run All\" \n",
    "# You can also write temporary files to /kaggle/temp/, but they won't be saved outside of the current session"
   ]
  },
  {
   "cell_type": "code",
   "execution_count": 2,
   "id": "0be504a9",
   "metadata": {
    "execution": {
     "iopub.execute_input": "2024-05-17T06:10:18.536906Z",
     "iopub.status.busy": "2024-05-17T06:10:18.536083Z",
     "iopub.status.idle": "2024-05-17T06:10:20.120245Z",
     "shell.execute_reply": "2024-05-17T06:10:20.118799Z"
    },
    "papermill": {
     "duration": 1.603246,
     "end_time": "2024-05-17T06:10:20.123171",
     "exception": false,
     "start_time": "2024-05-17T06:10:18.519925",
     "status": "completed"
    },
    "tags": []
   },
   "outputs": [],
   "source": [
    "clean_set = pd.read_csv('/kaggle/input/cleaned-data/cleaned (1).csv')"
   ]
  },
  {
   "cell_type": "code",
   "execution_count": 3,
   "id": "b0b9fd47",
   "metadata": {
    "execution": {
     "iopub.execute_input": "2024-05-17T06:10:20.154981Z",
     "iopub.status.busy": "2024-05-17T06:10:20.154571Z",
     "iopub.status.idle": "2024-05-17T06:10:20.190523Z",
     "shell.execute_reply": "2024-05-17T06:10:20.189475Z"
    },
    "papermill": {
     "duration": 0.05445,
     "end_time": "2024-05-17T06:10:20.193015",
     "exception": false,
     "start_time": "2024-05-17T06:10:20.138565",
     "status": "completed"
    },
    "tags": []
   },
   "outputs": [
    {
     "data": {
      "text/html": [
       "<div>\n",
       "<style scoped>\n",
       "    .dataframe tbody tr th:only-of-type {\n",
       "        vertical-align: middle;\n",
       "    }\n",
       "\n",
       "    .dataframe tbody tr th {\n",
       "        vertical-align: top;\n",
       "    }\n",
       "\n",
       "    .dataframe thead th {\n",
       "        text-align: right;\n",
       "    }\n",
       "</style>\n",
       "<table border=\"1\" class=\"dataframe\">\n",
       "  <thead>\n",
       "    <tr style=\"text-align: right;\">\n",
       "      <th></th>\n",
       "      <th>Unnamed: 0</th>\n",
       "      <th>Customer_ID</th>\n",
       "      <th>outlet_city</th>\n",
       "      <th>luxury_sales</th>\n",
       "      <th>fresh_sales</th>\n",
       "      <th>dry_sales</th>\n",
       "      <th>cluster_catgeory</th>\n",
       "      <th>total_sales</th>\n",
       "      <th>cluster_city_enco</th>\n",
       "      <th>luxery_sales_ratio</th>\n",
       "      <th>fresh_sales_ratio</th>\n",
       "      <th>dry_sales_ratio</th>\n",
       "    </tr>\n",
       "  </thead>\n",
       "  <tbody>\n",
       "    <tr>\n",
       "      <th>0</th>\n",
       "      <td>131072</td>\n",
       "      <td>10370993.0</td>\n",
       "      <td>Moratuwa</td>\n",
       "      <td>2072.47</td>\n",
       "      <td>1462.92</td>\n",
       "      <td>8046.06</td>\n",
       "      <td>4.0</td>\n",
       "      <td>11581.45</td>\n",
       "      <td>3</td>\n",
       "      <td>0.18</td>\n",
       "      <td>0.13</td>\n",
       "      <td>0.69</td>\n",
       "    </tr>\n",
       "    <tr>\n",
       "      <th>1</th>\n",
       "      <td>131073</td>\n",
       "      <td>10751334.0</td>\n",
       "      <td>Nuwara Eliya</td>\n",
       "      <td>1500.60</td>\n",
       "      <td>1200.48</td>\n",
       "      <td>6502.60</td>\n",
       "      <td>4.0</td>\n",
       "      <td>9203.68</td>\n",
       "      <td>4</td>\n",
       "      <td>0.16</td>\n",
       "      <td>0.13</td>\n",
       "      <td>0.71</td>\n",
       "    </tr>\n",
       "    <tr>\n",
       "      <th>2</th>\n",
       "      <td>131074</td>\n",
       "      <td>10482183.0</td>\n",
       "      <td>Dehiwala-Mount Lavinia</td>\n",
       "      <td>2862.00</td>\n",
       "      <td>1431.00</td>\n",
       "      <td>9444.60</td>\n",
       "      <td>4.0</td>\n",
       "      <td>13737.60</td>\n",
       "      <td>2</td>\n",
       "      <td>0.21</td>\n",
       "      <td>0.10</td>\n",
       "      <td>0.69</td>\n",
       "    </tr>\n",
       "    <tr>\n",
       "      <th>3</th>\n",
       "      <td>131075</td>\n",
       "      <td>10594832.0</td>\n",
       "      <td>Kelaniya</td>\n",
       "      <td>2103.15</td>\n",
       "      <td>1822.73</td>\n",
       "      <td>9394.07</td>\n",
       "      <td>4.0</td>\n",
       "      <td>13319.95</td>\n",
       "      <td>2</td>\n",
       "      <td>0.16</td>\n",
       "      <td>0.14</td>\n",
       "      <td>0.71</td>\n",
       "    </tr>\n",
       "    <tr>\n",
       "      <th>4</th>\n",
       "      <td>131076</td>\n",
       "      <td>10418774.0</td>\n",
       "      <td>Peliyagoda</td>\n",
       "      <td>1115.46</td>\n",
       "      <td>619.70</td>\n",
       "      <td>4275.93</td>\n",
       "      <td>4.0</td>\n",
       "      <td>6011.09</td>\n",
       "      <td>2</td>\n",
       "      <td>0.19</td>\n",
       "      <td>0.10</td>\n",
       "      <td>0.71</td>\n",
       "    </tr>\n",
       "  </tbody>\n",
       "</table>\n",
       "</div>"
      ],
      "text/plain": [
       "   Unnamed: 0  Customer_ID             outlet_city  luxury_sales  fresh_sales  \\\n",
       "0      131072   10370993.0                Moratuwa       2072.47      1462.92   \n",
       "1      131073   10751334.0            Nuwara Eliya       1500.60      1200.48   \n",
       "2      131074   10482183.0  Dehiwala-Mount Lavinia       2862.00      1431.00   \n",
       "3      131075   10594832.0                Kelaniya       2103.15      1822.73   \n",
       "4      131076   10418774.0              Peliyagoda       1115.46       619.70   \n",
       "\n",
       "   dry_sales  cluster_catgeory  total_sales  cluster_city_enco  \\\n",
       "0    8046.06               4.0     11581.45                  3   \n",
       "1    6502.60               4.0      9203.68                  4   \n",
       "2    9444.60               4.0     13737.60                  2   \n",
       "3    9394.07               4.0     13319.95                  2   \n",
       "4    4275.93               4.0      6011.09                  2   \n",
       "\n",
       "   luxery_sales_ratio  fresh_sales_ratio  dry_sales_ratio  \n",
       "0                0.18               0.13             0.69  \n",
       "1                0.16               0.13             0.71  \n",
       "2                0.21               0.10             0.69  \n",
       "3                0.16               0.14             0.71  \n",
       "4                0.19               0.10             0.71  "
      ]
     },
     "execution_count": 3,
     "metadata": {},
     "output_type": "execute_result"
    }
   ],
   "source": [
    "clean_set.head()"
   ]
  },
  {
   "cell_type": "code",
   "execution_count": 4,
   "id": "f4fdbe79",
   "metadata": {
    "execution": {
     "iopub.execute_input": "2024-05-17T06:10:20.228075Z",
     "iopub.status.busy": "2024-05-17T06:10:20.227619Z",
     "iopub.status.idle": "2024-05-17T06:10:20.257816Z",
     "shell.execute_reply": "2024-05-17T06:10:20.256236Z"
    },
    "papermill": {
     "duration": 0.050607,
     "end_time": "2024-05-17T06:10:20.260874",
     "exception": false,
     "start_time": "2024-05-17T06:10:20.210267",
     "status": "completed"
    },
    "tags": []
   },
   "outputs": [],
   "source": [
    "clean_set = clean_set.drop(columns=['Customer_ID', 'luxury_sales', 'fresh_sales', 'total_sales', 'cluster_city_enco', 'dry_sales'])"
   ]
  },
  {
   "cell_type": "code",
   "execution_count": 5,
   "id": "52ce26d4",
   "metadata": {
    "execution": {
     "iopub.execute_input": "2024-05-17T06:10:20.292669Z",
     "iopub.status.busy": "2024-05-17T06:10:20.292299Z",
     "iopub.status.idle": "2024-05-17T06:10:20.316058Z",
     "shell.execute_reply": "2024-05-17T06:10:20.314773Z"
    },
    "papermill": {
     "duration": 0.04281,
     "end_time": "2024-05-17T06:10:20.319006",
     "exception": false,
     "start_time": "2024-05-17T06:10:20.276196",
     "status": "completed"
    },
    "tags": []
   },
   "outputs": [],
   "source": [
    "clean_set = clean_set.drop(columns=[clean_set.columns[0]])"
   ]
  },
  {
   "cell_type": "code",
   "execution_count": 6,
   "id": "5f75c372",
   "metadata": {
    "execution": {
     "iopub.execute_input": "2024-05-17T06:10:20.350449Z",
     "iopub.status.busy": "2024-05-17T06:10:20.350039Z",
     "iopub.status.idle": "2024-05-17T06:10:20.368101Z",
     "shell.execute_reply": "2024-05-17T06:10:20.366845Z"
    },
    "papermill": {
     "duration": 0.037043,
     "end_time": "2024-05-17T06:10:20.370704",
     "exception": false,
     "start_time": "2024-05-17T06:10:20.333661",
     "status": "completed"
    },
    "tags": []
   },
   "outputs": [
    {
     "data": {
      "text/html": [
       "<div>\n",
       "<style scoped>\n",
       "    .dataframe tbody tr th:only-of-type {\n",
       "        vertical-align: middle;\n",
       "    }\n",
       "\n",
       "    .dataframe tbody tr th {\n",
       "        vertical-align: top;\n",
       "    }\n",
       "\n",
       "    .dataframe thead th {\n",
       "        text-align: right;\n",
       "    }\n",
       "</style>\n",
       "<table border=\"1\" class=\"dataframe\">\n",
       "  <thead>\n",
       "    <tr style=\"text-align: right;\">\n",
       "      <th></th>\n",
       "      <th>outlet_city</th>\n",
       "      <th>cluster_catgeory</th>\n",
       "      <th>luxery_sales_ratio</th>\n",
       "      <th>fresh_sales_ratio</th>\n",
       "      <th>dry_sales_ratio</th>\n",
       "    </tr>\n",
       "  </thead>\n",
       "  <tbody>\n",
       "    <tr>\n",
       "      <th>0</th>\n",
       "      <td>Moratuwa</td>\n",
       "      <td>4.0</td>\n",
       "      <td>0.18</td>\n",
       "      <td>0.13</td>\n",
       "      <td>0.69</td>\n",
       "    </tr>\n",
       "    <tr>\n",
       "      <th>1</th>\n",
       "      <td>Nuwara Eliya</td>\n",
       "      <td>4.0</td>\n",
       "      <td>0.16</td>\n",
       "      <td>0.13</td>\n",
       "      <td>0.71</td>\n",
       "    </tr>\n",
       "    <tr>\n",
       "      <th>2</th>\n",
       "      <td>Dehiwala-Mount Lavinia</td>\n",
       "      <td>4.0</td>\n",
       "      <td>0.21</td>\n",
       "      <td>0.10</td>\n",
       "      <td>0.69</td>\n",
       "    </tr>\n",
       "    <tr>\n",
       "      <th>3</th>\n",
       "      <td>Kelaniya</td>\n",
       "      <td>4.0</td>\n",
       "      <td>0.16</td>\n",
       "      <td>0.14</td>\n",
       "      <td>0.71</td>\n",
       "    </tr>\n",
       "    <tr>\n",
       "      <th>4</th>\n",
       "      <td>Peliyagoda</td>\n",
       "      <td>4.0</td>\n",
       "      <td>0.19</td>\n",
       "      <td>0.10</td>\n",
       "      <td>0.71</td>\n",
       "    </tr>\n",
       "  </tbody>\n",
       "</table>\n",
       "</div>"
      ],
      "text/plain": [
       "              outlet_city  cluster_catgeory  luxery_sales_ratio  \\\n",
       "0                Moratuwa               4.0                0.18   \n",
       "1            Nuwara Eliya               4.0                0.16   \n",
       "2  Dehiwala-Mount Lavinia               4.0                0.21   \n",
       "3                Kelaniya               4.0                0.16   \n",
       "4              Peliyagoda               4.0                0.19   \n",
       "\n",
       "   fresh_sales_ratio  dry_sales_ratio  \n",
       "0               0.13             0.69  \n",
       "1               0.13             0.71  \n",
       "2               0.10             0.69  \n",
       "3               0.14             0.71  \n",
       "4               0.10             0.71  "
      ]
     },
     "execution_count": 6,
     "metadata": {},
     "output_type": "execute_result"
    }
   ],
   "source": [
    "clean_set.head()"
   ]
  },
  {
   "cell_type": "code",
   "execution_count": 7,
   "id": "731511b0",
   "metadata": {
    "execution": {
     "iopub.execute_input": "2024-05-17T06:10:20.403335Z",
     "iopub.status.busy": "2024-05-17T06:10:20.402924Z",
     "iopub.status.idle": "2024-05-17T06:10:20.502026Z",
     "shell.execute_reply": "2024-05-17T06:10:20.500935Z"
    },
    "papermill": {
     "duration": 0.118013,
     "end_time": "2024-05-17T06:10:20.504526",
     "exception": false,
     "start_time": "2024-05-17T06:10:20.386513",
     "status": "completed"
    },
    "tags": []
   },
   "outputs": [],
   "source": [
    "# test set\n",
    "test = pd.read_csv('/kaggle/input/data-storm-5-0/test_kaggle.csv')"
   ]
  },
  {
   "cell_type": "code",
   "execution_count": 8,
   "id": "38c3aee8",
   "metadata": {
    "execution": {
     "iopub.execute_input": "2024-05-17T06:10:20.536290Z",
     "iopub.status.busy": "2024-05-17T06:10:20.535871Z",
     "iopub.status.idle": "2024-05-17T06:10:20.550342Z",
     "shell.execute_reply": "2024-05-17T06:10:20.548220Z"
    },
    "papermill": {
     "duration": 0.034174,
     "end_time": "2024-05-17T06:10:20.553811",
     "exception": false,
     "start_time": "2024-05-17T06:10:20.519637",
     "status": "completed"
    },
    "tags": []
   },
   "outputs": [
    {
     "data": {
      "text/html": [
       "<div>\n",
       "<style scoped>\n",
       "    .dataframe tbody tr th:only-of-type {\n",
       "        vertical-align: middle;\n",
       "    }\n",
       "\n",
       "    .dataframe tbody tr th {\n",
       "        vertical-align: top;\n",
       "    }\n",
       "\n",
       "    .dataframe thead th {\n",
       "        text-align: right;\n",
       "    }\n",
       "</style>\n",
       "<table border=\"1\" class=\"dataframe\">\n",
       "  <thead>\n",
       "    <tr style=\"text-align: right;\">\n",
       "      <th></th>\n",
       "      <th>Customer_ID</th>\n",
       "      <th>outlet_city</th>\n",
       "      <th>luxury_sales</th>\n",
       "      <th>fresh_sales</th>\n",
       "      <th>dry_sales</th>\n",
       "    </tr>\n",
       "  </thead>\n",
       "  <tbody>\n",
       "    <tr>\n",
       "      <th>0</th>\n",
       "      <td>33574</td>\n",
       "      <td>batticaloa</td>\n",
       "      <td>2686.5</td>\n",
       "      <td>3582</td>\n",
       "      <td>12537</td>\n",
       "    </tr>\n",
       "    <tr>\n",
       "      <th>1</th>\n",
       "      <td>10089</td>\n",
       "      <td>batticaloa</td>\n",
       "      <td>1717.56</td>\n",
       "      <td>2576.34</td>\n",
       "      <td>9446.58</td>\n",
       "    </tr>\n",
       "    <tr>\n",
       "      <th>2</th>\n",
       "      <td>38329</td>\n",
       "      <td>batticaloa</td>\n",
       "      <td>854.04</td>\n",
       "      <td>1242.24</td>\n",
       "      <td>5201.88</td>\n",
       "    </tr>\n",
       "    <tr>\n",
       "      <th>3</th>\n",
       "      <td>11376</td>\n",
       "      <td>batticaloa</td>\n",
       "      <td>1638.12</td>\n",
       "      <td>2320.67</td>\n",
       "      <td>9282.68</td>\n",
       "    </tr>\n",
       "    <tr>\n",
       "      <th>4</th>\n",
       "      <td>12410</td>\n",
       "      <td>batticaloa</td>\n",
       "      <td>1039.09</td>\n",
       "      <td>1518.67</td>\n",
       "      <td>5435.24</td>\n",
       "    </tr>\n",
       "  </tbody>\n",
       "</table>\n",
       "</div>"
      ],
      "text/plain": [
       "   Customer_ID outlet_city luxury_sales fresh_sales dry_sales\n",
       "0        33574  batticaloa       2686.5        3582     12537\n",
       "1        10089  batticaloa      1717.56     2576.34   9446.58\n",
       "2        38329  batticaloa       854.04     1242.24   5201.88\n",
       "3        11376  batticaloa      1638.12     2320.67   9282.68\n",
       "4        12410  batticaloa      1039.09     1518.67   5435.24"
      ]
     },
     "execution_count": 8,
     "metadata": {},
     "output_type": "execute_result"
    }
   ],
   "source": [
    "test.head()"
   ]
  },
  {
   "cell_type": "code",
   "execution_count": 9,
   "id": "ed3e081e",
   "metadata": {
    "execution": {
     "iopub.execute_input": "2024-05-17T06:10:20.587876Z",
     "iopub.status.busy": "2024-05-17T06:10:20.587478Z",
     "iopub.status.idle": "2024-05-17T06:10:20.596105Z",
     "shell.execute_reply": "2024-05-17T06:10:20.595028Z"
    },
    "papermill": {
     "duration": 0.029802,
     "end_time": "2024-05-17T06:10:20.599381",
     "exception": false,
     "start_time": "2024-05-17T06:10:20.569579",
     "status": "completed"
    },
    "tags": []
   },
   "outputs": [],
   "source": [
    "clean_set['cluster_catgeory'] = clean_set['cluster_catgeory'].astype(int)"
   ]
  },
  {
   "cell_type": "code",
   "execution_count": 10,
   "id": "3fe3180e",
   "metadata": {
    "execution": {
     "iopub.execute_input": "2024-05-17T06:10:20.632913Z",
     "iopub.status.busy": "2024-05-17T06:10:20.632539Z",
     "iopub.status.idle": "2024-05-17T06:10:20.657110Z",
     "shell.execute_reply": "2024-05-17T06:10:20.656088Z"
    },
    "papermill": {
     "duration": 0.044029,
     "end_time": "2024-05-17T06:10:20.659980",
     "exception": false,
     "start_time": "2024-05-17T06:10:20.615951",
     "status": "completed"
    },
    "tags": []
   },
   "outputs": [],
   "source": [
    "label_mapping = {1: 0, 2: 1, 3: 2, 4: 3, 5: 4, 6: 5}\n",
    "\n",
    "clean_set['cluster_catgeory'] = clean_set['cluster_catgeory'].replace(label_mapping)"
   ]
  },
  {
   "cell_type": "code",
   "execution_count": 11,
   "id": "424598b0",
   "metadata": {
    "execution": {
     "iopub.execute_input": "2024-05-17T06:10:20.691788Z",
     "iopub.status.busy": "2024-05-17T06:10:20.691415Z",
     "iopub.status.idle": "2024-05-17T06:10:20.700695Z",
     "shell.execute_reply": "2024-05-17T06:10:20.699885Z"
    },
    "papermill": {
     "duration": 0.028041,
     "end_time": "2024-05-17T06:10:20.703083",
     "exception": false,
     "start_time": "2024-05-17T06:10:20.675042",
     "status": "completed"
    },
    "tags": []
   },
   "outputs": [],
   "source": [
    "clean_set = clean_set.drop(columns=['outlet_city'])"
   ]
  },
  {
   "cell_type": "code",
   "execution_count": 12,
   "id": "5f7aa5f5",
   "metadata": {
    "execution": {
     "iopub.execute_input": "2024-05-17T06:10:20.735121Z",
     "iopub.status.busy": "2024-05-17T06:10:20.734695Z",
     "iopub.status.idle": "2024-05-17T06:10:22.174958Z",
     "shell.execute_reply": "2024-05-17T06:10:22.173441Z"
    },
    "papermill": {
     "duration": 1.459655,
     "end_time": "2024-05-17T06:10:22.177736",
     "exception": false,
     "start_time": "2024-05-17T06:10:20.718081",
     "status": "completed"
    },
    "tags": []
   },
   "outputs": [],
   "source": [
    "from sklearn.model_selection import train_test_split\n",
    "X = clean_set.drop(columns=['cluster_catgeory'])\n",
    "y = clean_set['cluster_catgeory']\n",
    "\n",
    "X_train, X_val, y_train, y_val = train_test_split(X, y, test_size=0.3, random_state=42)"
   ]
  },
  {
   "cell_type": "code",
   "execution_count": 13,
   "id": "4faccb96",
   "metadata": {
    "execution": {
     "iopub.execute_input": "2024-05-17T06:10:22.211006Z",
     "iopub.status.busy": "2024-05-17T06:10:22.210553Z",
     "iopub.status.idle": "2024-05-17T06:10:22.226118Z",
     "shell.execute_reply": "2024-05-17T06:10:22.225000Z"
    },
    "papermill": {
     "duration": 0.035395,
     "end_time": "2024-05-17T06:10:22.228545",
     "exception": false,
     "start_time": "2024-05-17T06:10:22.193150",
     "status": "completed"
    },
    "tags": []
   },
   "outputs": [
    {
     "data": {
      "text/html": [
       "<div>\n",
       "<style scoped>\n",
       "    .dataframe tbody tr th:only-of-type {\n",
       "        vertical-align: middle;\n",
       "    }\n",
       "\n",
       "    .dataframe tbody tr th {\n",
       "        vertical-align: top;\n",
       "    }\n",
       "\n",
       "    .dataframe thead th {\n",
       "        text-align: right;\n",
       "    }\n",
       "</style>\n",
       "<table border=\"1\" class=\"dataframe\">\n",
       "  <thead>\n",
       "    <tr style=\"text-align: right;\">\n",
       "      <th></th>\n",
       "      <th>luxery_sales_ratio</th>\n",
       "      <th>fresh_sales_ratio</th>\n",
       "      <th>dry_sales_ratio</th>\n",
       "    </tr>\n",
       "  </thead>\n",
       "  <tbody>\n",
       "    <tr>\n",
       "      <th>0</th>\n",
       "      <td>0.18</td>\n",
       "      <td>0.13</td>\n",
       "      <td>0.69</td>\n",
       "    </tr>\n",
       "    <tr>\n",
       "      <th>1</th>\n",
       "      <td>0.16</td>\n",
       "      <td>0.13</td>\n",
       "      <td>0.71</td>\n",
       "    </tr>\n",
       "    <tr>\n",
       "      <th>2</th>\n",
       "      <td>0.21</td>\n",
       "      <td>0.10</td>\n",
       "      <td>0.69</td>\n",
       "    </tr>\n",
       "    <tr>\n",
       "      <th>3</th>\n",
       "      <td>0.16</td>\n",
       "      <td>0.14</td>\n",
       "      <td>0.71</td>\n",
       "    </tr>\n",
       "    <tr>\n",
       "      <th>4</th>\n",
       "      <td>0.19</td>\n",
       "      <td>0.10</td>\n",
       "      <td>0.71</td>\n",
       "    </tr>\n",
       "    <tr>\n",
       "      <th>...</th>\n",
       "      <td>...</td>\n",
       "      <td>...</td>\n",
       "      <td>...</td>\n",
       "    </tr>\n",
       "    <tr>\n",
       "      <th>612077</th>\n",
       "      <td>0.33</td>\n",
       "      <td>0.34</td>\n",
       "      <td>0.32</td>\n",
       "    </tr>\n",
       "    <tr>\n",
       "      <th>612078</th>\n",
       "      <td>0.33</td>\n",
       "      <td>0.32</td>\n",
       "      <td>0.35</td>\n",
       "    </tr>\n",
       "    <tr>\n",
       "      <th>612079</th>\n",
       "      <td>0.33</td>\n",
       "      <td>0.32</td>\n",
       "      <td>0.34</td>\n",
       "    </tr>\n",
       "    <tr>\n",
       "      <th>612080</th>\n",
       "      <td>0.33</td>\n",
       "      <td>0.31</td>\n",
       "      <td>0.36</td>\n",
       "    </tr>\n",
       "    <tr>\n",
       "      <th>612081</th>\n",
       "      <td>0.35</td>\n",
       "      <td>0.35</td>\n",
       "      <td>0.31</td>\n",
       "    </tr>\n",
       "  </tbody>\n",
       "</table>\n",
       "<p>612082 rows × 3 columns</p>\n",
       "</div>"
      ],
      "text/plain": [
       "        luxery_sales_ratio  fresh_sales_ratio  dry_sales_ratio\n",
       "0                     0.18               0.13             0.69\n",
       "1                     0.16               0.13             0.71\n",
       "2                     0.21               0.10             0.69\n",
       "3                     0.16               0.14             0.71\n",
       "4                     0.19               0.10             0.71\n",
       "...                    ...                ...              ...\n",
       "612077                0.33               0.34             0.32\n",
       "612078                0.33               0.32             0.35\n",
       "612079                0.33               0.32             0.34\n",
       "612080                0.33               0.31             0.36\n",
       "612081                0.35               0.35             0.31\n",
       "\n",
       "[612082 rows x 3 columns]"
      ]
     },
     "execution_count": 13,
     "metadata": {},
     "output_type": "execute_result"
    }
   ],
   "source": [
    "X"
   ]
  },
  {
   "cell_type": "code",
   "execution_count": 14,
   "id": "ef9eaef1",
   "metadata": {
    "execution": {
     "iopub.execute_input": "2024-05-17T06:10:22.261031Z",
     "iopub.status.busy": "2024-05-17T06:10:22.260615Z",
     "iopub.status.idle": "2024-05-17T06:10:28.266624Z",
     "shell.execute_reply": "2024-05-17T06:10:28.264763Z"
    },
    "papermill": {
     "duration": 6.025476,
     "end_time": "2024-05-17T06:10:28.269260",
     "exception": false,
     "start_time": "2024-05-17T06:10:22.243784",
     "status": "completed"
    },
    "tags": []
   },
   "outputs": [
    {
     "name": "stdout",
     "output_type": "stream",
     "text": [
      "Validation MSE: 0.1386\n"
     ]
    }
   ],
   "source": [
    "import numpy as np\n",
    "import pandas as pd\n",
    "from lightgbm import LGBMRegressor\n",
    "from sklearn.metrics import mean_squared_error\n",
    "from tqdm import tqdm\n",
    "\n",
    "\n",
    "\n",
    "# Identify categorical features\n",
    "categorical_features = [feature for feature in X.columns if X[feature].dtype == 'object']\n",
    "\n",
    "# Convert categorical features to category data type\n",
    "for feature in categorical_features:\n",
    "    X_train[feature] = X_train[feature].astype('category')\n",
    "    X_val[feature] = X_val[feature].astype('category')\n",
    "\n",
    "# Define hyperparameters\n",
    "params = {\n",
    "    'boosting_type': 'gbdt',\n",
    "    'objective': 'regression',\n",
    "    'metric': 'rmse',\n",
    "    'num_leaves': 31,\n",
    "    'learning_rate': 0.1,\n",
    "    'feature_fraction': 0.8,\n",
    "    'bagging_fraction': 0.8,\n",
    "    'bagging_freq': 5,\n",
    "    'verbose': -1,\n",
    "    'reg_alpha': 0.1,\n",
    "    'reg_lambda': 0.1,\n",
    "    'max_depth': -1,\n",
    "    'random_state': 42\n",
    "}\n",
    "\n",
    "# Train the model with early stopping and optimized hyperparameters\n",
    "lgbm_model = LGBMRegressor(**params)\n",
    "lgbm_model.fit(X_train, y_train, eval_set=[(X_val, y_val)])\n",
    "\n",
    "\n",
    "# Make predictions on the validation set\n",
    "val_preds = lgbm_model.predict(X_val)\n",
    "\n",
    "# Evaluate the model\n",
    "mse = mean_squared_error(y_val, val_preds)\n",
    "print(f'Validation MSE: {mse:.4f}')"
   ]
  },
  {
   "cell_type": "code",
   "execution_count": 15,
   "id": "83ae6262",
   "metadata": {
    "execution": {
     "iopub.execute_input": "2024-05-17T06:10:28.302986Z",
     "iopub.status.busy": "2024-05-17T06:10:28.302407Z",
     "iopub.status.idle": "2024-05-17T06:10:28.307328Z",
     "shell.execute_reply": "2024-05-17T06:10:28.306024Z"
    },
    "papermill": {
     "duration": 0.024352,
     "end_time": "2024-05-17T06:10:28.309674",
     "exception": false,
     "start_time": "2024-05-17T06:10:28.285322",
     "status": "completed"
    },
    "tags": []
   },
   "outputs": [],
   "source": [
    "from sklearn.metrics import accuracy_score, f1_score, precision_score"
   ]
  },
  {
   "cell_type": "code",
   "execution_count": 16,
   "id": "95cc752b",
   "metadata": {
    "execution": {
     "iopub.execute_input": "2024-05-17T06:10:28.343026Z",
     "iopub.status.busy": "2024-05-17T06:10:28.342583Z",
     "iopub.status.idle": "2024-05-17T06:10:28.532414Z",
     "shell.execute_reply": "2024-05-17T06:10:28.531298Z"
    },
    "papermill": {
     "duration": 0.209777,
     "end_time": "2024-05-17T06:10:28.534943",
     "exception": false,
     "start_time": "2024-05-17T06:10:28.325166",
     "status": "completed"
    },
    "tags": []
   },
   "outputs": [
    {
     "name": "stdout",
     "output_type": "stream",
     "text": [
      "Validation Accuracy: 0.8892\n",
      "Validation F1-score (macro): 0.5893\n",
      "Micro-averaged Precision: 0.8892\n"
     ]
    }
   ],
   "source": [
    "val_preds = np.round(val_preds).astype(int)\n",
    "# Evaluate the final model\n",
    "accuracy = accuracy_score(y_val, val_preds)\n",
    "f1 = f1_score(y_val, val_preds, average='macro')\n",
    "print(f'Validation Accuracy: {accuracy:.4f}')\n",
    "print(f'Validation F1-score (macro): {f1:.4f}')\n",
    "micro_prec = precision_score(y_val, val_preds, average='micro')\n",
    "print(f\"Micro-averaged Precision: {micro_prec:.4f}\")"
   ]
  },
  {
   "cell_type": "code",
   "execution_count": 17,
   "id": "6d44b882",
   "metadata": {
    "execution": {
     "iopub.execute_input": "2024-05-17T06:10:28.567966Z",
     "iopub.status.busy": "2024-05-17T06:10:28.567589Z",
     "iopub.status.idle": "2024-05-17T06:11:02.311296Z",
     "shell.execute_reply": "2024-05-17T06:11:02.309808Z"
    },
    "papermill": {
     "duration": 33.763247,
     "end_time": "2024-05-17T06:11:02.313815",
     "exception": false,
     "start_time": "2024-05-17T06:10:28.550568",
     "status": "completed"
    },
    "tags": []
   },
   "outputs": [
    {
     "name": "stderr",
     "output_type": "stream",
     "text": [
      "Warning: Overfitting detector is active, thus evaluation metric is calculated on every iteration. 'metric_period' is ignored for evaluation metric.\n"
     ]
    },
    {
     "name": "stdout",
     "output_type": "stream",
     "text": [
      "0:\tlearn: 1.3532878\ttest: 1.3536371\tbest: 1.3536371 (0)\ttotal: 270ms\tremaining: 4m 29s\n",
      "100:\tlearn: 0.0723613\ttest: 0.0731534\tbest: 0.0731534 (100)\ttotal: 14.6s\tremaining: 2m 9s\n",
      "200:\tlearn: 0.0720494\ttest: 0.0730360\tbest: 0.0730186 (178)\ttotal: 28.2s\tremaining: 1m 52s\n",
      "Stopped by overfitting detector  (50 iterations wait)\n",
      "\n",
      "bestTest = 0.07301860086\n",
      "bestIteration = 178\n",
      "\n",
      "Shrink model to first 179 iterations.\n",
      "Validation MSE: 0.2209\n",
      "Validation Accuracy: 0.9534\n",
      "Validation F1-score (macro): 0.7865\n",
      "Micro-averaged Precision: 0.9534\n"
     ]
    }
   ],
   "source": [
    "from catboost import CatBoostClassifier, Pool\n",
    "\n",
    "\n",
    "\n",
    "# Identify categorical features\n",
    "categorical_features = [feature for feature in X.columns if X[feature].dtype == 'object']\n",
    "\n",
    "# Create Pool objects\n",
    "train_pool = Pool(X_train, y_train, cat_features=categorical_features)\n",
    "val_pool = Pool(X_val, y_val, cat_features=categorical_features)\n",
    "\n",
    "# Set parameters\n",
    "params = {\n",
    "    'iterations': 1000,\n",
    "    'learning_rate': 0.1,\n",
    "    'depth': 6,\n",
    "    'l2_leaf_reg': 3,\n",
    "    'random_strength': 1,\n",
    "    'bagging_temperature': 0.5,\n",
    "    'metric_period': 50,\n",
    "    'od_type': 'Iter',\n",
    "    'od_wait': 50,\n",
    "    'allow_writing_files': False\n",
    "}\n",
    "\n",
    "# Train the model\n",
    "model = CatBoostClassifier(**params)\n",
    "model.fit(train_pool, eval_set=val_pool, use_best_model=True, verbose=100)\n",
    "\n",
    "# Make predictions on the validation set\n",
    "val_preds = model.predict(X_val)\n",
    "\n",
    "# Evaluate the model\n",
    "mse = mean_squared_error(y_val, val_preds)\n",
    "print(f'Validation MSE: {mse:.4f}')\n",
    "\n",
    "# Evaluate the final model\n",
    "accuracy = accuracy_score(y_val, val_preds)\n",
    "f1 = f1_score(y_val, val_preds, average='macro')\n",
    "print(f'Validation Accuracy: {accuracy:.4f}')\n",
    "print(f'Validation F1-score (macro): {f1:.4f}')\n",
    "micro_prec = precision_score(y_val, val_preds, average='micro')\n",
    "print(f\"Micro-averaged Precision: {micro_prec:.4f}\")"
   ]
  },
  {
   "cell_type": "code",
   "execution_count": 18,
   "id": "302a80f3",
   "metadata": {
    "execution": {
     "iopub.execute_input": "2024-05-17T06:11:02.348301Z",
     "iopub.status.busy": "2024-05-17T06:11:02.347885Z",
     "iopub.status.idle": "2024-05-17T06:11:02.376469Z",
     "shell.execute_reply": "2024-05-17T06:11:02.375223Z"
    },
    "papermill": {
     "duration": 0.048604,
     "end_time": "2024-05-17T06:11:02.378902",
     "exception": false,
     "start_time": "2024-05-17T06:11:02.330298",
     "status": "completed"
    },
    "tags": []
   },
   "outputs": [
    {
     "name": "stdout",
     "output_type": "stream",
     "text": [
      "Rows causing ValueError:\n",
      "Index: 6, Value: Seven Hundread and sixty Ruppees\n",
      "Index: 6299, Value: Eight Hundread and fifteen ruppes\n"
     ]
    }
   ],
   "source": [
    "def convert_to_float_and_find_errors(dataframe, column):\n",
    "    error_rows = []\n",
    "    for index, value in dataframe[column].items():\n",
    "        try:\n",
    "            float(value)\n",
    "        except ValueError:\n",
    "            error_rows.append((index, value))\n",
    "    return error_rows\n",
    "\n",
    "# Convert 'luxury_sales' column to float and find rows causing ValueError\n",
    "error_rows = convert_to_float_and_find_errors(test, 'luxury_sales')\n",
    "\n",
    "# Print rows causing ValueError\n",
    "print(\"Rows causing ValueError:\")\n",
    "for index, value in error_rows:\n",
    "    print(f\"Index: {index}, Value: {value}\")"
   ]
  },
  {
   "cell_type": "code",
   "execution_count": 19,
   "id": "c88aeffe",
   "metadata": {
    "execution": {
     "iopub.execute_input": "2024-05-17T06:11:02.413208Z",
     "iopub.status.busy": "2024-05-17T06:11:02.412765Z",
     "iopub.status.idle": "2024-05-17T06:11:02.420660Z",
     "shell.execute_reply": "2024-05-17T06:11:02.419595Z"
    },
    "papermill": {
     "duration": 0.028746,
     "end_time": "2024-05-17T06:11:02.424046",
     "exception": false,
     "start_time": "2024-05-17T06:11:02.395300",
     "status": "completed"
    },
    "tags": []
   },
   "outputs": [
    {
     "name": "stderr",
     "output_type": "stream",
     "text": [
      "/tmp/ipykernel_18/2255363823.py:1: FutureWarning: ChainedAssignmentError: behaviour will change in pandas 3.0!\n",
      "You are setting values through chained assignment. Currently this works in certain cases, but when using Copy-on-Write (which will become the default behaviour in pandas 3.0) this will never work to update the original DataFrame or Series, because the intermediate object on which we are setting values will behave as a copy.\n",
      "A typical example is when you are setting values in a column of a DataFrame, like:\n",
      "\n",
      "df[\"col\"][row_indexer] = value\n",
      "\n",
      "Use `df.loc[row_indexer, \"col\"] = values` instead, to perform the assignment in a single step and ensure this keeps updating the original `df`.\n",
      "\n",
      "See the caveats in the documentation: https://pandas.pydata.org/pandas-docs/stable/user_guide/indexing.html#returning-a-view-versus-a-copy\n",
      "\n",
      "  test['luxury_sales'][6] = 760.0\n",
      "/tmp/ipykernel_18/2255363823.py:1: SettingWithCopyWarning: \n",
      "A value is trying to be set on a copy of a slice from a DataFrame\n",
      "\n",
      "See the caveats in the documentation: https://pandas.pydata.org/pandas-docs/stable/user_guide/indexing.html#returning-a-view-versus-a-copy\n",
      "  test['luxury_sales'][6] = 760.0\n",
      "/tmp/ipykernel_18/2255363823.py:2: FutureWarning: ChainedAssignmentError: behaviour will change in pandas 3.0!\n",
      "You are setting values through chained assignment. Currently this works in certain cases, but when using Copy-on-Write (which will become the default behaviour in pandas 3.0) this will never work to update the original DataFrame or Series, because the intermediate object on which we are setting values will behave as a copy.\n",
      "A typical example is when you are setting values in a column of a DataFrame, like:\n",
      "\n",
      "df[\"col\"][row_indexer] = value\n",
      "\n",
      "Use `df.loc[row_indexer, \"col\"] = values` instead, to perform the assignment in a single step and ensure this keeps updating the original `df`.\n",
      "\n",
      "See the caveats in the documentation: https://pandas.pydata.org/pandas-docs/stable/user_guide/indexing.html#returning-a-view-versus-a-copy\n",
      "\n",
      "  test['luxury_sales'][6299] = 850.0\n",
      "/tmp/ipykernel_18/2255363823.py:2: SettingWithCopyWarning: \n",
      "A value is trying to be set on a copy of a slice from a DataFrame\n",
      "\n",
      "See the caveats in the documentation: https://pandas.pydata.org/pandas-docs/stable/user_guide/indexing.html#returning-a-view-versus-a-copy\n",
      "  test['luxury_sales'][6299] = 850.0\n"
     ]
    }
   ],
   "source": [
    "test['luxury_sales'][6] = 760.0 \n",
    "test['luxury_sales'][6299] = 850.0"
   ]
  },
  {
   "cell_type": "code",
   "execution_count": 20,
   "id": "5cee389e",
   "metadata": {
    "execution": {
     "iopub.execute_input": "2024-05-17T06:11:02.459146Z",
     "iopub.status.busy": "2024-05-17T06:11:02.458743Z",
     "iopub.status.idle": "2024-05-17T06:11:02.484511Z",
     "shell.execute_reply": "2024-05-17T06:11:02.483064Z"
    },
    "papermill": {
     "duration": 0.046165,
     "end_time": "2024-05-17T06:11:02.486965",
     "exception": false,
     "start_time": "2024-05-17T06:11:02.440800",
     "status": "completed"
    },
    "tags": []
   },
   "outputs": [
    {
     "name": "stdout",
     "output_type": "stream",
     "text": [
      "Rows causing ValueError:\n",
      "Index: 13949, Value: Nine thousand ruppess\n"
     ]
    }
   ],
   "source": [
    "# Convert 'luxury_sales' column to float and find rows causing ValueError\n",
    "error_rows = convert_to_float_and_find_errors(test, 'fresh_sales')\n",
    "\n",
    "# Print rows causing ValueError\n",
    "print(\"Rows causing ValueError:\")\n",
    "for index, value in error_rows:\n",
    "    print(f\"Index: {index}, Value: {value}\")"
   ]
  },
  {
   "cell_type": "code",
   "execution_count": 21,
   "id": "b8191962",
   "metadata": {
    "execution": {
     "iopub.execute_input": "2024-05-17T06:11:02.521844Z",
     "iopub.status.busy": "2024-05-17T06:11:02.521466Z",
     "iopub.status.idle": "2024-05-17T06:11:02.527720Z",
     "shell.execute_reply": "2024-05-17T06:11:02.526534Z"
    },
    "papermill": {
     "duration": 0.027419,
     "end_time": "2024-05-17T06:11:02.530956",
     "exception": false,
     "start_time": "2024-05-17T06:11:02.503537",
     "status": "completed"
    },
    "tags": []
   },
   "outputs": [
    {
     "name": "stderr",
     "output_type": "stream",
     "text": [
      "/tmp/ipykernel_18/1902044106.py:1: FutureWarning: ChainedAssignmentError: behaviour will change in pandas 3.0!\n",
      "You are setting values through chained assignment. Currently this works in certain cases, but when using Copy-on-Write (which will become the default behaviour in pandas 3.0) this will never work to update the original DataFrame or Series, because the intermediate object on which we are setting values will behave as a copy.\n",
      "A typical example is when you are setting values in a column of a DataFrame, like:\n",
      "\n",
      "df[\"col\"][row_indexer] = value\n",
      "\n",
      "Use `df.loc[row_indexer, \"col\"] = values` instead, to perform the assignment in a single step and ensure this keeps updating the original `df`.\n",
      "\n",
      "See the caveats in the documentation: https://pandas.pydata.org/pandas-docs/stable/user_guide/indexing.html#returning-a-view-versus-a-copy\n",
      "\n",
      "  test['fresh_sales'][13949] = 9000.0\n",
      "/tmp/ipykernel_18/1902044106.py:1: SettingWithCopyWarning: \n",
      "A value is trying to be set on a copy of a slice from a DataFrame\n",
      "\n",
      "See the caveats in the documentation: https://pandas.pydata.org/pandas-docs/stable/user_guide/indexing.html#returning-a-view-versus-a-copy\n",
      "  test['fresh_sales'][13949] = 9000.0\n"
     ]
    }
   ],
   "source": [
    "test['fresh_sales'][13949] = 9000.0"
   ]
  },
  {
   "cell_type": "code",
   "execution_count": 22,
   "id": "4c1fab55",
   "metadata": {
    "execution": {
     "iopub.execute_input": "2024-05-17T06:11:02.626650Z",
     "iopub.status.busy": "2024-05-17T06:11:02.626271Z",
     "iopub.status.idle": "2024-05-17T06:11:02.651723Z",
     "shell.execute_reply": "2024-05-17T06:11:02.650474Z"
    },
    "papermill": {
     "duration": 0.046314,
     "end_time": "2024-05-17T06:11:02.654118",
     "exception": false,
     "start_time": "2024-05-17T06:11:02.607804",
     "status": "completed"
    },
    "tags": []
   },
   "outputs": [
    {
     "name": "stdout",
     "output_type": "stream",
     "text": [
      "Rows causing ValueError:\n",
      "Index: 40746, Value: Three Thousand seven hundread ruppees\n"
     ]
    }
   ],
   "source": [
    "# Convert 'luxury_sales' column to float and find rows causing ValueError\n",
    "error_rows = convert_to_float_and_find_errors(test, 'dry_sales')\n",
    "\n",
    "# Print rows causing ValueError\n",
    "print(\"Rows causing ValueError:\")\n",
    "for index, value in error_rows:\n",
    "    print(f\"Index: {index}, Value: {value}\")"
   ]
  },
  {
   "cell_type": "code",
   "execution_count": 23,
   "id": "2e5d7682",
   "metadata": {
    "execution": {
     "iopub.execute_input": "2024-05-17T06:11:02.690202Z",
     "iopub.status.busy": "2024-05-17T06:11:02.689776Z",
     "iopub.status.idle": "2024-05-17T06:11:02.696991Z",
     "shell.execute_reply": "2024-05-17T06:11:02.695698Z"
    },
    "papermill": {
     "duration": 0.028303,
     "end_time": "2024-05-17T06:11:02.699530",
     "exception": false,
     "start_time": "2024-05-17T06:11:02.671227",
     "status": "completed"
    },
    "tags": []
   },
   "outputs": [
    {
     "name": "stderr",
     "output_type": "stream",
     "text": [
      "/tmp/ipykernel_18/807833885.py:1: FutureWarning: ChainedAssignmentError: behaviour will change in pandas 3.0!\n",
      "You are setting values through chained assignment. Currently this works in certain cases, but when using Copy-on-Write (which will become the default behaviour in pandas 3.0) this will never work to update the original DataFrame or Series, because the intermediate object on which we are setting values will behave as a copy.\n",
      "A typical example is when you are setting values in a column of a DataFrame, like:\n",
      "\n",
      "df[\"col\"][row_indexer] = value\n",
      "\n",
      "Use `df.loc[row_indexer, \"col\"] = values` instead, to perform the assignment in a single step and ensure this keeps updating the original `df`.\n",
      "\n",
      "See the caveats in the documentation: https://pandas.pydata.org/pandas-docs/stable/user_guide/indexing.html#returning-a-view-versus-a-copy\n",
      "\n",
      "  test['dry_sales'][40746] = 3700.0\n",
      "/tmp/ipykernel_18/807833885.py:1: SettingWithCopyWarning: \n",
      "A value is trying to be set on a copy of a slice from a DataFrame\n",
      "\n",
      "See the caveats in the documentation: https://pandas.pydata.org/pandas-docs/stable/user_guide/indexing.html#returning-a-view-versus-a-copy\n",
      "  test['dry_sales'][40746] = 3700.0\n"
     ]
    }
   ],
   "source": [
    "test['dry_sales'][40746] = 3700.0"
   ]
  },
  {
   "cell_type": "code",
   "execution_count": 24,
   "id": "aefde4d0",
   "metadata": {
    "execution": {
     "iopub.execute_input": "2024-05-17T06:11:02.735185Z",
     "iopub.status.busy": "2024-05-17T06:11:02.734774Z",
     "iopub.status.idle": "2024-05-17T06:11:02.769012Z",
     "shell.execute_reply": "2024-05-17T06:11:02.767865Z"
    },
    "papermill": {
     "duration": 0.055625,
     "end_time": "2024-05-17T06:11:02.772064",
     "exception": false,
     "start_time": "2024-05-17T06:11:02.716439",
     "status": "completed"
    },
    "tags": []
   },
   "outputs": [],
   "source": [
    "test['luxury_sales'] = test['luxury_sales'].astype(float)\n",
    "test['fresh_sales'] = test['fresh_sales'].astype(float)\n",
    "test['dry_sales'] = test['dry_sales'].astype(float)"
   ]
  },
  {
   "cell_type": "code",
   "execution_count": 25,
   "id": "b1079893",
   "metadata": {
    "execution": {
     "iopub.execute_input": "2024-05-17T06:11:02.807686Z",
     "iopub.status.busy": "2024-05-17T06:11:02.807294Z",
     "iopub.status.idle": "2024-05-17T06:11:02.825855Z",
     "shell.execute_reply": "2024-05-17T06:11:02.824721Z"
    },
    "papermill": {
     "duration": 0.039411,
     "end_time": "2024-05-17T06:11:02.828456",
     "exception": false,
     "start_time": "2024-05-17T06:11:02.789045",
     "status": "completed"
    },
    "tags": []
   },
   "outputs": [
    {
     "data": {
      "text/plain": [
       "count    40749.00\n",
       "mean     11061.55\n",
       "std       3832.32\n",
       "min       4603.68\n",
       "25%       7861.56\n",
       "50%      10801.00\n",
       "75%      13748.40\n",
       "max      20784.40\n",
       "Name: total_sales, dtype: float64"
      ]
     },
     "execution_count": 25,
     "metadata": {},
     "output_type": "execute_result"
    }
   ],
   "source": [
    "test['total_sales'] = test['luxury_sales'] + test['fresh_sales'] + test['dry_sales']\n",
    "test['total_sales'].describe().round(2)"
   ]
  },
  {
   "cell_type": "code",
   "execution_count": 26,
   "id": "cc8a7ec9",
   "metadata": {
    "execution": {
     "iopub.execute_input": "2024-05-17T06:11:02.865225Z",
     "iopub.status.busy": "2024-05-17T06:11:02.864758Z",
     "iopub.status.idle": "2024-05-17T06:11:02.891981Z",
     "shell.execute_reply": "2024-05-17T06:11:02.890554Z"
    },
    "papermill": {
     "duration": 0.049022,
     "end_time": "2024-05-17T06:11:02.894598",
     "exception": false,
     "start_time": "2024-05-17T06:11:02.845576",
     "status": "completed"
    },
    "tags": []
   },
   "outputs": [
    {
     "name": "stdout",
     "output_type": "stream",
     "text": [
      "<class 'pandas.core.frame.DataFrame'>\n",
      "RangeIndex: 40749 entries, 0 to 40748\n",
      "Data columns (total 6 columns):\n",
      " #   Column        Non-Null Count  Dtype  \n",
      "---  ------        --------------  -----  \n",
      " 0   Customer_ID   40749 non-null  int64  \n",
      " 1   outlet_city   40749 non-null  object \n",
      " 2   luxury_sales  40749 non-null  float64\n",
      " 3   fresh_sales   40749 non-null  float64\n",
      " 4   dry_sales     40749 non-null  float64\n",
      " 5   total_sales   40749 non-null  float64\n",
      "dtypes: float64(4), int64(1), object(1)\n",
      "memory usage: 1.9+ MB\n"
     ]
    }
   ],
   "source": [
    "test.info()"
   ]
  },
  {
   "cell_type": "code",
   "execution_count": 27,
   "id": "d21ef72d",
   "metadata": {
    "execution": {
     "iopub.execute_input": "2024-05-17T06:11:02.932023Z",
     "iopub.status.busy": "2024-05-17T06:11:02.931619Z",
     "iopub.status.idle": "2024-05-17T06:11:02.940097Z",
     "shell.execute_reply": "2024-05-17T06:11:02.939105Z"
    },
    "papermill": {
     "duration": 0.029853,
     "end_time": "2024-05-17T06:11:02.942385",
     "exception": false,
     "start_time": "2024-05-17T06:11:02.912532",
     "status": "completed"
    },
    "tags": []
   },
   "outputs": [],
   "source": [
    "test['luxury_sales'] = (test['luxury_sales'] / test['total_sales']).round(2)  # Round to four decimal places\n",
    "test['fresh_sales'] = (test['fresh_sales'] / test['total_sales']).round(2)\n",
    "test['dry_sales'] = (test['dry_sales'] / test['total_sales']).round(2)\n"
   ]
  },
  {
   "cell_type": "code",
   "execution_count": 28,
   "id": "b49921b5",
   "metadata": {
    "execution": {
     "iopub.execute_input": "2024-05-17T06:11:02.980354Z",
     "iopub.status.busy": "2024-05-17T06:11:02.979953Z",
     "iopub.status.idle": "2024-05-17T06:11:02.994701Z",
     "shell.execute_reply": "2024-05-17T06:11:02.993449Z"
    },
    "papermill": {
     "duration": 0.036898,
     "end_time": "2024-05-17T06:11:02.997366",
     "exception": false,
     "start_time": "2024-05-17T06:11:02.960468",
     "status": "completed"
    },
    "tags": []
   },
   "outputs": [
    {
     "name": "stdout",
     "output_type": "stream",
     "text": [
      "<class 'pandas.core.frame.DataFrame'>\n",
      "RangeIndex: 612082 entries, 0 to 612081\n",
      "Data columns (total 4 columns):\n",
      " #   Column              Non-Null Count   Dtype  \n",
      "---  ------              --------------   -----  \n",
      " 0   cluster_catgeory    612082 non-null  int64  \n",
      " 1   luxery_sales_ratio  612082 non-null  float64\n",
      " 2   fresh_sales_ratio   612082 non-null  float64\n",
      " 3   dry_sales_ratio     612082 non-null  float64\n",
      "dtypes: float64(3), int64(1)\n",
      "memory usage: 18.7 MB\n"
     ]
    }
   ],
   "source": [
    "clean_set.info()"
   ]
  },
  {
   "cell_type": "code",
   "execution_count": 29,
   "id": "e503894d",
   "metadata": {
    "execution": {
     "iopub.execute_input": "2024-05-17T06:11:03.034435Z",
     "iopub.status.busy": "2024-05-17T06:11:03.034024Z",
     "iopub.status.idle": "2024-05-17T06:11:03.040077Z",
     "shell.execute_reply": "2024-05-17T06:11:03.038947Z"
    },
    "papermill": {
     "duration": 0.027937,
     "end_time": "2024-05-17T06:11:03.042607",
     "exception": false,
     "start_time": "2024-05-17T06:11:03.014670",
     "status": "completed"
    },
    "tags": []
   },
   "outputs": [],
   "source": [
    "Customer_ID = test[['Customer_ID']]"
   ]
  },
  {
   "cell_type": "code",
   "execution_count": 30,
   "id": "fc4b48ea",
   "metadata": {
    "execution": {
     "iopub.execute_input": "2024-05-17T06:11:03.079114Z",
     "iopub.status.busy": "2024-05-17T06:11:03.078723Z",
     "iopub.status.idle": "2024-05-17T06:11:03.086259Z",
     "shell.execute_reply": "2024-05-17T06:11:03.085061Z"
    },
    "papermill": {
     "duration": 0.028563,
     "end_time": "2024-05-17T06:11:03.088610",
     "exception": false,
     "start_time": "2024-05-17T06:11:03.060047",
     "status": "completed"
    },
    "tags": []
   },
   "outputs": [],
   "source": [
    "test['luxery_sales_ratio'] = test['luxury_sales']\n",
    "test['fresh_sales_ratio'] = test['fresh_sales']\n",
    "test['dry_sales_ratio'] = test['dry_sales']"
   ]
  },
  {
   "cell_type": "code",
   "execution_count": 31,
   "id": "c8f8c5d5",
   "metadata": {
    "execution": {
     "iopub.execute_input": "2024-05-17T06:11:03.125748Z",
     "iopub.status.busy": "2024-05-17T06:11:03.125375Z",
     "iopub.status.idle": "2024-05-17T06:11:03.136148Z",
     "shell.execute_reply": "2024-05-17T06:11:03.134825Z"
    },
    "papermill": {
     "duration": 0.032121,
     "end_time": "2024-05-17T06:11:03.138360",
     "exception": false,
     "start_time": "2024-05-17T06:11:03.106239",
     "status": "completed"
    },
    "tags": []
   },
   "outputs": [
    {
     "data": {
      "text/html": [
       "<div>\n",
       "<style scoped>\n",
       "    .dataframe tbody tr th:only-of-type {\n",
       "        vertical-align: middle;\n",
       "    }\n",
       "\n",
       "    .dataframe tbody tr th {\n",
       "        vertical-align: top;\n",
       "    }\n",
       "\n",
       "    .dataframe thead th {\n",
       "        text-align: right;\n",
       "    }\n",
       "</style>\n",
       "<table border=\"1\" class=\"dataframe\">\n",
       "  <thead>\n",
       "    <tr style=\"text-align: right;\">\n",
       "      <th></th>\n",
       "      <th>Customer_ID</th>\n",
       "    </tr>\n",
       "  </thead>\n",
       "  <tbody>\n",
       "    <tr>\n",
       "      <th>0</th>\n",
       "      <td>33574</td>\n",
       "    </tr>\n",
       "    <tr>\n",
       "      <th>1</th>\n",
       "      <td>10089</td>\n",
       "    </tr>\n",
       "    <tr>\n",
       "      <th>2</th>\n",
       "      <td>38329</td>\n",
       "    </tr>\n",
       "    <tr>\n",
       "      <th>3</th>\n",
       "      <td>11376</td>\n",
       "    </tr>\n",
       "    <tr>\n",
       "      <th>4</th>\n",
       "      <td>12410</td>\n",
       "    </tr>\n",
       "    <tr>\n",
       "      <th>...</th>\n",
       "      <td>...</td>\n",
       "    </tr>\n",
       "    <tr>\n",
       "      <th>40744</th>\n",
       "      <td>33698</td>\n",
       "    </tr>\n",
       "    <tr>\n",
       "      <th>40745</th>\n",
       "      <td>4185</td>\n",
       "    </tr>\n",
       "    <tr>\n",
       "      <th>40746</th>\n",
       "      <td>28664</td>\n",
       "    </tr>\n",
       "    <tr>\n",
       "      <th>40747</th>\n",
       "      <td>11874</td>\n",
       "    </tr>\n",
       "    <tr>\n",
       "      <th>40748</th>\n",
       "      <td>11431</td>\n",
       "    </tr>\n",
       "  </tbody>\n",
       "</table>\n",
       "<p>40749 rows × 1 columns</p>\n",
       "</div>"
      ],
      "text/plain": [
       "       Customer_ID\n",
       "0            33574\n",
       "1            10089\n",
       "2            38329\n",
       "3            11376\n",
       "4            12410\n",
       "...            ...\n",
       "40744        33698\n",
       "40745         4185\n",
       "40746        28664\n",
       "40747        11874\n",
       "40748        11431\n",
       "\n",
       "[40749 rows x 1 columns]"
      ]
     },
     "execution_count": 31,
     "metadata": {},
     "output_type": "execute_result"
    }
   ],
   "source": [
    "Customer_ID"
   ]
  },
  {
   "cell_type": "code",
   "execution_count": 32,
   "id": "91660992",
   "metadata": {
    "execution": {
     "iopub.execute_input": "2024-05-17T06:11:03.176015Z",
     "iopub.status.busy": "2024-05-17T06:11:03.175628Z",
     "iopub.status.idle": "2024-05-17T06:11:03.184005Z",
     "shell.execute_reply": "2024-05-17T06:11:03.182844Z"
    },
    "papermill": {
     "duration": 0.029883,
     "end_time": "2024-05-17T06:11:03.186469",
     "exception": false,
     "start_time": "2024-05-17T06:11:03.156586",
     "status": "completed"
    },
    "tags": []
   },
   "outputs": [],
   "source": [
    "X = test.drop(columns=['Customer_ID', 'total_sales', 'outlet_city', 'luxury_sales', 'fresh_sales', 'dry_sales'])\n"
   ]
  },
  {
   "cell_type": "code",
   "execution_count": 33,
   "id": "03543251",
   "metadata": {
    "execution": {
     "iopub.execute_input": "2024-05-17T06:11:03.223954Z",
     "iopub.status.busy": "2024-05-17T06:11:03.223576Z",
     "iopub.status.idle": "2024-05-17T06:11:03.238012Z",
     "shell.execute_reply": "2024-05-17T06:11:03.236886Z"
    },
    "papermill": {
     "duration": 0.035966,
     "end_time": "2024-05-17T06:11:03.240560",
     "exception": false,
     "start_time": "2024-05-17T06:11:03.204594",
     "status": "completed"
    },
    "tags": []
   },
   "outputs": [
    {
     "data": {
      "text/html": [
       "<div>\n",
       "<style scoped>\n",
       "    .dataframe tbody tr th:only-of-type {\n",
       "        vertical-align: middle;\n",
       "    }\n",
       "\n",
       "    .dataframe tbody tr th {\n",
       "        vertical-align: top;\n",
       "    }\n",
       "\n",
       "    .dataframe thead th {\n",
       "        text-align: right;\n",
       "    }\n",
       "</style>\n",
       "<table border=\"1\" class=\"dataframe\">\n",
       "  <thead>\n",
       "    <tr style=\"text-align: right;\">\n",
       "      <th></th>\n",
       "      <th>luxery_sales_ratio</th>\n",
       "      <th>fresh_sales_ratio</th>\n",
       "      <th>dry_sales_ratio</th>\n",
       "    </tr>\n",
       "  </thead>\n",
       "  <tbody>\n",
       "    <tr>\n",
       "      <th>0</th>\n",
       "      <td>0.14</td>\n",
       "      <td>0.19</td>\n",
       "      <td>0.67</td>\n",
       "    </tr>\n",
       "    <tr>\n",
       "      <th>1</th>\n",
       "      <td>0.12</td>\n",
       "      <td>0.19</td>\n",
       "      <td>0.69</td>\n",
       "    </tr>\n",
       "    <tr>\n",
       "      <th>2</th>\n",
       "      <td>0.12</td>\n",
       "      <td>0.17</td>\n",
       "      <td>0.71</td>\n",
       "    </tr>\n",
       "    <tr>\n",
       "      <th>3</th>\n",
       "      <td>0.12</td>\n",
       "      <td>0.18</td>\n",
       "      <td>0.70</td>\n",
       "    </tr>\n",
       "    <tr>\n",
       "      <th>4</th>\n",
       "      <td>0.13</td>\n",
       "      <td>0.19</td>\n",
       "      <td>0.68</td>\n",
       "    </tr>\n",
       "    <tr>\n",
       "      <th>...</th>\n",
       "      <td>...</td>\n",
       "      <td>...</td>\n",
       "      <td>...</td>\n",
       "    </tr>\n",
       "    <tr>\n",
       "      <th>40744</th>\n",
       "      <td>0.33</td>\n",
       "      <td>0.35</td>\n",
       "      <td>0.33</td>\n",
       "    </tr>\n",
       "    <tr>\n",
       "      <th>40745</th>\n",
       "      <td>0.34</td>\n",
       "      <td>0.32</td>\n",
       "      <td>0.33</td>\n",
       "    </tr>\n",
       "    <tr>\n",
       "      <th>40746</th>\n",
       "      <td>0.33</td>\n",
       "      <td>0.34</td>\n",
       "      <td>0.32</td>\n",
       "    </tr>\n",
       "    <tr>\n",
       "      <th>40747</th>\n",
       "      <td>0.34</td>\n",
       "      <td>0.33</td>\n",
       "      <td>0.34</td>\n",
       "    </tr>\n",
       "    <tr>\n",
       "      <th>40748</th>\n",
       "      <td>0.33</td>\n",
       "      <td>0.33</td>\n",
       "      <td>0.33</td>\n",
       "    </tr>\n",
       "  </tbody>\n",
       "</table>\n",
       "<p>40749 rows × 3 columns</p>\n",
       "</div>"
      ],
      "text/plain": [
       "       luxery_sales_ratio  fresh_sales_ratio  dry_sales_ratio\n",
       "0                    0.14               0.19             0.67\n",
       "1                    0.12               0.19             0.69\n",
       "2                    0.12               0.17             0.71\n",
       "3                    0.12               0.18             0.70\n",
       "4                    0.13               0.19             0.68\n",
       "...                   ...                ...              ...\n",
       "40744                0.33               0.35             0.33\n",
       "40745                0.34               0.32             0.33\n",
       "40746                0.33               0.34             0.32\n",
       "40747                0.34               0.33             0.34\n",
       "40748                0.33               0.33             0.33\n",
       "\n",
       "[40749 rows x 3 columns]"
      ]
     },
     "execution_count": 33,
     "metadata": {},
     "output_type": "execute_result"
    }
   ],
   "source": [
    "X"
   ]
  },
  {
   "cell_type": "code",
   "execution_count": 34,
   "id": "793d9991",
   "metadata": {
    "execution": {
     "iopub.execute_input": "2024-05-17T06:11:03.278225Z",
     "iopub.status.busy": "2024-05-17T06:11:03.277829Z",
     "iopub.status.idle": "2024-05-17T06:11:03.283990Z",
     "shell.execute_reply": "2024-05-17T06:11:03.282626Z"
    },
    "papermill": {
     "duration": 0.027852,
     "end_time": "2024-05-17T06:11:03.286341",
     "exception": false,
     "start_time": "2024-05-17T06:11:03.258489",
     "status": "completed"
    },
    "tags": []
   },
   "outputs": [],
   "source": [
    "# Identify categorical features\n",
    "categorical_features = [feature for feature in X.columns if X[feature].dtype == 'object']\n",
    "\n",
    "# Convert categorical features to category data type\n",
    "for feature in categorical_features:\n",
    "    X[feature] = X[feature].astype('category')"
   ]
  },
  {
   "cell_type": "code",
   "execution_count": 35,
   "id": "6b521e5c",
   "metadata": {
    "execution": {
     "iopub.execute_input": "2024-05-17T06:11:03.324077Z",
     "iopub.status.busy": "2024-05-17T06:11:03.323704Z",
     "iopub.status.idle": "2024-05-17T06:11:03.339682Z",
     "shell.execute_reply": "2024-05-17T06:11:03.338435Z"
    },
    "papermill": {
     "duration": 0.037908,
     "end_time": "2024-05-17T06:11:03.342344",
     "exception": false,
     "start_time": "2024-05-17T06:11:03.304436",
     "status": "completed"
    },
    "tags": []
   },
   "outputs": [
    {
     "data": {
      "text/html": [
       "<div>\n",
       "<style scoped>\n",
       "    .dataframe tbody tr th:only-of-type {\n",
       "        vertical-align: middle;\n",
       "    }\n",
       "\n",
       "    .dataframe tbody tr th {\n",
       "        vertical-align: top;\n",
       "    }\n",
       "\n",
       "    .dataframe thead th {\n",
       "        text-align: right;\n",
       "    }\n",
       "</style>\n",
       "<table border=\"1\" class=\"dataframe\">\n",
       "  <thead>\n",
       "    <tr style=\"text-align: right;\">\n",
       "      <th></th>\n",
       "      <th>luxery_sales_ratio</th>\n",
       "      <th>fresh_sales_ratio</th>\n",
       "      <th>dry_sales_ratio</th>\n",
       "    </tr>\n",
       "  </thead>\n",
       "  <tbody>\n",
       "    <tr>\n",
       "      <th>0</th>\n",
       "      <td>0.14</td>\n",
       "      <td>0.19</td>\n",
       "      <td>0.67</td>\n",
       "    </tr>\n",
       "    <tr>\n",
       "      <th>1</th>\n",
       "      <td>0.12</td>\n",
       "      <td>0.19</td>\n",
       "      <td>0.69</td>\n",
       "    </tr>\n",
       "    <tr>\n",
       "      <th>2</th>\n",
       "      <td>0.12</td>\n",
       "      <td>0.17</td>\n",
       "      <td>0.71</td>\n",
       "    </tr>\n",
       "    <tr>\n",
       "      <th>3</th>\n",
       "      <td>0.12</td>\n",
       "      <td>0.18</td>\n",
       "      <td>0.70</td>\n",
       "    </tr>\n",
       "    <tr>\n",
       "      <th>4</th>\n",
       "      <td>0.13</td>\n",
       "      <td>0.19</td>\n",
       "      <td>0.68</td>\n",
       "    </tr>\n",
       "  </tbody>\n",
       "</table>\n",
       "</div>"
      ],
      "text/plain": [
       "   luxery_sales_ratio  fresh_sales_ratio  dry_sales_ratio\n",
       "0                0.14               0.19             0.67\n",
       "1                0.12               0.19             0.69\n",
       "2                0.12               0.17             0.71\n",
       "3                0.12               0.18             0.70\n",
       "4                0.13               0.19             0.68"
      ]
     },
     "execution_count": 35,
     "metadata": {},
     "output_type": "execute_result"
    }
   ],
   "source": [
    "X.head()"
   ]
  },
  {
   "cell_type": "code",
   "execution_count": 36,
   "id": "3e8b5299",
   "metadata": {
    "execution": {
     "iopub.execute_input": "2024-05-17T06:11:03.381039Z",
     "iopub.status.busy": "2024-05-17T06:11:03.380243Z",
     "iopub.status.idle": "2024-05-17T06:11:03.437183Z",
     "shell.execute_reply": "2024-05-17T06:11:03.436124Z"
    },
    "papermill": {
     "duration": 0.079249,
     "end_time": "2024-05-17T06:11:03.439991",
     "exception": false,
     "start_time": "2024-05-17T06:11:03.360742",
     "status": "completed"
    },
    "tags": []
   },
   "outputs": [],
   "source": [
    "# Make predictions on the validation set\n",
    "val_preds = model.predict(X)"
   ]
  },
  {
   "cell_type": "code",
   "execution_count": 37,
   "id": "ec38b40e",
   "metadata": {
    "execution": {
     "iopub.execute_input": "2024-05-17T06:11:03.479035Z",
     "iopub.status.busy": "2024-05-17T06:11:03.478280Z",
     "iopub.status.idle": "2024-05-17T06:11:03.484519Z",
     "shell.execute_reply": "2024-05-17T06:11:03.483742Z"
    },
    "papermill": {
     "duration": 0.028223,
     "end_time": "2024-05-17T06:11:03.486884",
     "exception": false,
     "start_time": "2024-05-17T06:11:03.458661",
     "status": "completed"
    },
    "tags": []
   },
   "outputs": [
    {
     "data": {
      "text/plain": [
       "array([[0],\n",
       "       [0],\n",
       "       [0],\n",
       "       ...,\n",
       "       [4],\n",
       "       [4],\n",
       "       [4]])"
      ]
     },
     "execution_count": 37,
     "metadata": {},
     "output_type": "execute_result"
    }
   ],
   "source": [
    "val_preds"
   ]
  },
  {
   "cell_type": "code",
   "execution_count": 38,
   "id": "2a9f7c95",
   "metadata": {
    "execution": {
     "iopub.execute_input": "2024-05-17T06:11:03.527442Z",
     "iopub.status.busy": "2024-05-17T06:11:03.527030Z",
     "iopub.status.idle": "2024-05-17T06:11:03.533504Z",
     "shell.execute_reply": "2024-05-17T06:11:03.532292Z"
    },
    "papermill": {
     "duration": 0.031201,
     "end_time": "2024-05-17T06:11:03.536397",
     "exception": false,
     "start_time": "2024-05-17T06:11:03.505196",
     "status": "completed"
    },
    "tags": []
   },
   "outputs": [],
   "source": [
    "val_preds = np.round(val_preds).astype(int)"
   ]
  },
  {
   "cell_type": "code",
   "execution_count": 39,
   "id": "e14b1f26",
   "metadata": {
    "execution": {
     "iopub.execute_input": "2024-05-17T06:11:03.576554Z",
     "iopub.status.busy": "2024-05-17T06:11:03.576118Z",
     "iopub.status.idle": "2024-05-17T06:11:03.582426Z",
     "shell.execute_reply": "2024-05-17T06:11:03.581503Z"
    },
    "papermill": {
     "duration": 0.028325,
     "end_time": "2024-05-17T06:11:03.584827",
     "exception": false,
     "start_time": "2024-05-17T06:11:03.556502",
     "status": "completed"
    },
    "tags": []
   },
   "outputs": [
    {
     "data": {
      "text/plain": [
       "array([[0],\n",
       "       [0],\n",
       "       [0],\n",
       "       ...,\n",
       "       [4],\n",
       "       [4],\n",
       "       [4]])"
      ]
     },
     "execution_count": 39,
     "metadata": {},
     "output_type": "execute_result"
    }
   ],
   "source": [
    "val_preds"
   ]
  },
  {
   "cell_type": "code",
   "execution_count": 40,
   "id": "c93a37ec",
   "metadata": {
    "execution": {
     "iopub.execute_input": "2024-05-17T06:11:03.624292Z",
     "iopub.status.busy": "2024-05-17T06:11:03.623863Z",
     "iopub.status.idle": "2024-05-17T06:11:03.629142Z",
     "shell.execute_reply": "2024-05-17T06:11:03.627938Z"
    },
    "papermill": {
     "duration": 0.028248,
     "end_time": "2024-05-17T06:11:03.631535",
     "exception": false,
     "start_time": "2024-05-17T06:11:03.603287",
     "status": "completed"
    },
    "tags": []
   },
   "outputs": [],
   "source": [
    "array_df = pd.DataFrame(val_preds, columns=['cluster category'])"
   ]
  },
  {
   "cell_type": "code",
   "execution_count": 41,
   "id": "1ba2df15",
   "metadata": {
    "execution": {
     "iopub.execute_input": "2024-05-17T06:11:03.677943Z",
     "iopub.status.busy": "2024-05-17T06:11:03.677375Z",
     "iopub.status.idle": "2024-05-17T06:11:03.691394Z",
     "shell.execute_reply": "2024-05-17T06:11:03.690080Z"
    },
    "papermill": {
     "duration": 0.043857,
     "end_time": "2024-05-17T06:11:03.694533",
     "exception": false,
     "start_time": "2024-05-17T06:11:03.650676",
     "status": "completed"
    },
    "tags": []
   },
   "outputs": [
    {
     "data": {
      "text/plain": [
       "array([0, 5, 4, 2, 1, 3])"
      ]
     },
     "execution_count": 41,
     "metadata": {},
     "output_type": "execute_result"
    }
   ],
   "source": [
    "array_df['cluster category'].unique()"
   ]
  },
  {
   "cell_type": "code",
   "execution_count": 42,
   "id": "da2115a2",
   "metadata": {
    "execution": {
     "iopub.execute_input": "2024-05-17T06:11:03.741829Z",
     "iopub.status.busy": "2024-05-17T06:11:03.741390Z",
     "iopub.status.idle": "2024-05-17T06:11:03.750550Z",
     "shell.execute_reply": "2024-05-17T06:11:03.749389Z"
    },
    "papermill": {
     "duration": 0.032072,
     "end_time": "2024-05-17T06:11:03.752941",
     "exception": false,
     "start_time": "2024-05-17T06:11:03.720869",
     "status": "completed"
    },
    "tags": []
   },
   "outputs": [],
   "source": [
    "label_unmapping = {0: 1, 1: 2, 2: 3, 3: 4, 4: 5, 5: 6}\n",
    "\n",
    "array_df['cluster category'] = array_df['cluster category'].replace(label_unmapping)"
   ]
  },
  {
   "cell_type": "code",
   "execution_count": 43,
   "id": "59387274",
   "metadata": {
    "execution": {
     "iopub.execute_input": "2024-05-17T06:11:03.793249Z",
     "iopub.status.busy": "2024-05-17T06:11:03.792622Z",
     "iopub.status.idle": "2024-05-17T06:11:03.799154Z",
     "shell.execute_reply": "2024-05-17T06:11:03.797700Z"
    },
    "papermill": {
     "duration": 0.029375,
     "end_time": "2024-05-17T06:11:03.801751",
     "exception": false,
     "start_time": "2024-05-17T06:11:03.772376",
     "status": "completed"
    },
    "tags": []
   },
   "outputs": [],
   "source": [
    "submission_1 = pd.concat([Customer_ID, array_df], axis=1)"
   ]
  },
  {
   "cell_type": "code",
   "execution_count": 44,
   "id": "cc4ed9ad",
   "metadata": {
    "execution": {
     "iopub.execute_input": "2024-05-17T06:11:03.841447Z",
     "iopub.status.busy": "2024-05-17T06:11:03.841046Z",
     "iopub.status.idle": "2024-05-17T06:11:03.902292Z",
     "shell.execute_reply": "2024-05-17T06:11:03.901342Z"
    },
    "papermill": {
     "duration": 0.084074,
     "end_time": "2024-05-17T06:11:03.904978",
     "exception": false,
     "start_time": "2024-05-17T06:11:03.820904",
     "status": "completed"
    },
    "tags": []
   },
   "outputs": [],
   "source": [
    "submission_1.to_csv('cat_output_file.csv', index=False)"
   ]
  },
  {
   "cell_type": "code",
   "execution_count": null,
   "id": "4c56bf45",
   "metadata": {
    "papermill": {
     "duration": 0.018279,
     "end_time": "2024-05-17T06:11:03.941926",
     "exception": false,
     "start_time": "2024-05-17T06:11:03.923647",
     "status": "completed"
    },
    "tags": []
   },
   "outputs": [],
   "source": []
  }
 ],
 "metadata": {
  "kaggle": {
   "accelerator": "none",
   "dataSources": [
    {
     "databundleVersionId": 8564874,
     "sourceId": 78060,
     "sourceType": "competition"
    },
    {
     "datasetId": 5024792,
     "sourceId": 8436181,
     "sourceType": "datasetVersion"
    }
   ],
   "dockerImageVersionId": 30698,
   "isGpuEnabled": false,
   "isInternetEnabled": false,
   "language": "python",
   "sourceType": "notebook"
  },
  "kernelspec": {
   "display_name": "Python 3",
   "language": "python",
   "name": "python3"
  },
  "language_info": {
   "codemirror_mode": {
    "name": "ipython",
    "version": 3
   },
   "file_extension": ".py",
   "mimetype": "text/x-python",
   "name": "python",
   "nbconvert_exporter": "python",
   "pygments_lexer": "ipython3",
   "version": "3.10.13"
  },
  "papermill": {
   "default_parameters": {},
   "duration": 50.353901,
   "end_time": "2024-05-17T06:11:04.783454",
   "environment_variables": {},
   "exception": null,
   "input_path": "__notebook__.ipynb",
   "output_path": "__notebook__.ipynb",
   "parameters": {},
   "start_time": "2024-05-17T06:10:14.429553",
   "version": "2.5.0"
  }
 },
 "nbformat": 4,
 "nbformat_minor": 5
}
