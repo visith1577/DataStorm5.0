{
 "cells": [
  {
   "cell_type": "code",
   "execution_count": 1,
   "id": "9babfbfe",
   "metadata": {
    "_cell_guid": "b1076dfc-b9ad-4769-8c92-a6c4dae69d19",
    "_uuid": "8f2839f25d086af736a60e9eeb907d3b93b6e0e5",
    "execution": {
     "iopub.execute_input": "2024-05-17T06:26:27.381642Z",
     "iopub.status.busy": "2024-05-17T06:26:27.380751Z",
     "iopub.status.idle": "2024-05-17T06:26:28.327031Z",
     "shell.execute_reply": "2024-05-17T06:26:28.325711Z"
    },
    "papermill": {
     "duration": 0.970446,
     "end_time": "2024-05-17T06:26:28.329616",
     "exception": false,
     "start_time": "2024-05-17T06:26:27.359170",
     "status": "completed"
    },
    "tags": []
   },
   "outputs": [
    {
     "name": "stdout",
     "output_type": "stream",
     "text": [
      "/kaggle/input/datastorm-data/final_val.csv\n",
      "/kaggle/input/datastorm-data/final_cleaned.csv\n",
      "/kaggle/input/test-set/test_kaggle.csv\n",
      "/kaggle/input/cleaned/cleaned.csv\n",
      "/kaggle/input/cleaned-data/cleaned (1).csv\n"
     ]
    }
   ],
   "source": [
    "# This Python 3 environment comes with many helpful analytics libraries installed\n",
    "# It is defined by the kaggle/python Docker image: https://github.com/kaggle/docker-python\n",
    "# For example, here's several helpful packages to load\n",
    "\n",
    "import numpy as np # linear algebra\n",
    "import pandas as pd # data processing, CSV file I/O (e.g. pd.read_csv)\n",
    "\n",
    "# Input data files are available in the read-only \"../input/\" directory\n",
    "# For example, running this (by clicking run or pressing Shift+Enter) will list all files under the input directory\n",
    "\n",
    "import os\n",
    "for dirname, _, filenames in os.walk('/kaggle/input'):\n",
    "    for filename in filenames:\n",
    "        print(os.path.join(dirname, filename))\n",
    "\n",
    "# You can write up to 20GB to the current directory (/kaggle/working/) that gets preserved as output when you create a version using \"Save & Run All\" \n",
    "# You can also write temporary files to /kaggle/temp/, but they won't be saved outside of the current session"
   ]
  },
  {
   "cell_type": "code",
   "execution_count": 2,
   "id": "1b393fa9",
   "metadata": {
    "execution": {
     "iopub.execute_input": "2024-05-17T06:26:28.370218Z",
     "iopub.status.busy": "2024-05-17T06:26:28.369168Z",
     "iopub.status.idle": "2024-05-17T06:26:29.319407Z",
     "shell.execute_reply": "2024-05-17T06:26:29.318272Z"
    },
    "papermill": {
     "duration": 0.973428,
     "end_time": "2024-05-17T06:26:29.322223",
     "exception": false,
     "start_time": "2024-05-17T06:26:28.348795",
     "status": "completed"
    },
    "tags": []
   },
   "outputs": [],
   "source": [
    "train_set = pd.read_csv('/kaggle/input/datastorm-data/final_cleaned.csv')\n",
    "val_set = pd.read_csv('/kaggle/input/datastorm-data/final_val.csv')"
   ]
  },
  {
   "cell_type": "code",
   "execution_count": 3,
   "id": "4d6c8f0f",
   "metadata": {
    "execution": {
     "iopub.execute_input": "2024-05-17T06:26:29.364753Z",
     "iopub.status.busy": "2024-05-17T06:26:29.364373Z",
     "iopub.status.idle": "2024-05-17T06:26:30.928458Z",
     "shell.execute_reply": "2024-05-17T06:26:30.927388Z"
    },
    "papermill": {
     "duration": 1.589498,
     "end_time": "2024-05-17T06:26:30.931279",
     "exception": false,
     "start_time": "2024-05-17T06:26:29.341781",
     "status": "completed"
    },
    "tags": []
   },
   "outputs": [],
   "source": [
    "clean_set = pd.read_csv('/kaggle/input/cleaned-data/cleaned (1).csv')"
   ]
  },
  {
   "cell_type": "code",
   "execution_count": 4,
   "id": "50cd30a5",
   "metadata": {
    "execution": {
     "iopub.execute_input": "2024-05-17T06:26:30.971684Z",
     "iopub.status.busy": "2024-05-17T06:26:30.971308Z",
     "iopub.status.idle": "2024-05-17T06:26:30.997160Z",
     "shell.execute_reply": "2024-05-17T06:26:30.995959Z"
    },
    "papermill": {
     "duration": 0.049464,
     "end_time": "2024-05-17T06:26:30.999981",
     "exception": false,
     "start_time": "2024-05-17T06:26:30.950517",
     "status": "completed"
    },
    "tags": []
   },
   "outputs": [],
   "source": [
    "train_set = train_set.drop(columns=train_set.columns[0])\n",
    "val_set = val_set.drop(columns=val_set.columns[0])"
   ]
  },
  {
   "cell_type": "code",
   "execution_count": 5,
   "id": "df89bfec",
   "metadata": {
    "execution": {
     "iopub.execute_input": "2024-05-17T06:26:31.040405Z",
     "iopub.status.busy": "2024-05-17T06:26:31.039997Z",
     "iopub.status.idle": "2024-05-17T06:26:31.045797Z",
     "shell.execute_reply": "2024-05-17T06:26:31.044564Z"
    },
    "papermill": {
     "duration": 0.028739,
     "end_time": "2024-05-17T06:26:31.048222",
     "exception": false,
     "start_time": "2024-05-17T06:26:31.019483",
     "status": "completed"
    },
    "tags": []
   },
   "outputs": [],
   "source": [
    "label_mapping = {1: 0, 2: 1, 3: 2, 4: 3, 5: 4, 6: 5}"
   ]
  },
  {
   "cell_type": "code",
   "execution_count": 6,
   "id": "a2dfc0e6",
   "metadata": {
    "execution": {
     "iopub.execute_input": "2024-05-17T06:26:31.088322Z",
     "iopub.status.busy": "2024-05-17T06:26:31.087891Z",
     "iopub.status.idle": "2024-05-17T06:26:31.099974Z",
     "shell.execute_reply": "2024-05-17T06:26:31.098899Z"
    },
    "papermill": {
     "duration": 0.035356,
     "end_time": "2024-05-17T06:26:31.102681",
     "exception": false,
     "start_time": "2024-05-17T06:26:31.067325",
     "status": "completed"
    },
    "tags": []
   },
   "outputs": [],
   "source": [
    "X_train = train_set.drop(columns=['category'])\n",
    "y_train = train_set['category']\n",
    "\n",
    "X_val = val_set.drop(columns=['cluster_catgeory'])\n",
    "y_val = val_set['cluster_catgeory']"
   ]
  },
  {
   "cell_type": "code",
   "execution_count": 7,
   "id": "b34f2691",
   "metadata": {
    "execution": {
     "iopub.execute_input": "2024-05-17T06:26:31.142579Z",
     "iopub.status.busy": "2024-05-17T06:26:31.142201Z",
     "iopub.status.idle": "2024-05-17T06:26:31.176754Z",
     "shell.execute_reply": "2024-05-17T06:26:31.175514Z"
    },
    "papermill": {
     "duration": 0.057791,
     "end_time": "2024-05-17T06:26:31.179548",
     "exception": false,
     "start_time": "2024-05-17T06:26:31.121757",
     "status": "completed"
    },
    "tags": []
   },
   "outputs": [],
   "source": [
    "# label rearrenge\n",
    "y_val_mod = y_val.replace(label_mapping)\n",
    "y_train_mod = y_train.replace(label_mapping)"
   ]
  },
  {
   "cell_type": "code",
   "execution_count": 8,
   "id": "02b0b31d",
   "metadata": {
    "execution": {
     "iopub.execute_input": "2024-05-17T06:26:31.220135Z",
     "iopub.status.busy": "2024-05-17T06:26:31.219073Z",
     "iopub.status.idle": "2024-05-17T06:26:32.688230Z",
     "shell.execute_reply": "2024-05-17T06:26:32.686893Z"
    },
    "papermill": {
     "duration": 1.492718,
     "end_time": "2024-05-17T06:26:32.691359",
     "exception": false,
     "start_time": "2024-05-17T06:26:31.198641",
     "status": "completed"
    },
    "tags": []
   },
   "outputs": [],
   "source": [
    "import xgboost as xgb\n",
    "from sklearn.metrics import accuracy_score"
   ]
  },
  {
   "cell_type": "code",
   "execution_count": 9,
   "id": "cd50bedb",
   "metadata": {
    "execution": {
     "iopub.execute_input": "2024-05-17T06:26:32.732335Z",
     "iopub.status.busy": "2024-05-17T06:26:32.731548Z",
     "iopub.status.idle": "2024-05-17T06:26:32.809097Z",
     "shell.execute_reply": "2024-05-17T06:26:32.808164Z"
    },
    "papermill": {
     "duration": 0.100669,
     "end_time": "2024-05-17T06:26:32.811827",
     "exception": false,
     "start_time": "2024-05-17T06:26:32.711158",
     "status": "completed"
    },
    "tags": []
   },
   "outputs": [],
   "source": [
    "# Create DMatrix\n",
    "train_data = xgb.DMatrix(X_train, label=y_train_mod)\n",
    "val_data = xgb.DMatrix(X_val, label=y_val_mod)"
   ]
  },
  {
   "cell_type": "code",
   "execution_count": 10,
   "id": "88bb58ee",
   "metadata": {
    "execution": {
     "iopub.execute_input": "2024-05-17T06:26:32.854243Z",
     "iopub.status.busy": "2024-05-17T06:26:32.853815Z",
     "iopub.status.idle": "2024-05-17T06:26:32.883247Z",
     "shell.execute_reply": "2024-05-17T06:26:32.882173Z"
    },
    "papermill": {
     "duration": 0.05423,
     "end_time": "2024-05-17T06:26:32.886889",
     "exception": false,
     "start_time": "2024-05-17T06:26:32.832659",
     "status": "completed"
    },
    "tags": []
   },
   "outputs": [
    {
     "data": {
      "text/html": [
       "<div>\n",
       "<style scoped>\n",
       "    .dataframe tbody tr th:only-of-type {\n",
       "        vertical-align: middle;\n",
       "    }\n",
       "\n",
       "    .dataframe tbody tr th {\n",
       "        vertical-align: top;\n",
       "    }\n",
       "\n",
       "    .dataframe thead th {\n",
       "        text-align: right;\n",
       "    }\n",
       "</style>\n",
       "<table border=\"1\" class=\"dataframe\">\n",
       "  <thead>\n",
       "    <tr style=\"text-align: right;\">\n",
       "      <th></th>\n",
       "      <th>luxury_sales</th>\n",
       "      <th>fresh_sales</th>\n",
       "      <th>dry_sales</th>\n",
       "    </tr>\n",
       "  </thead>\n",
       "  <tbody>\n",
       "    <tr>\n",
       "      <th>0</th>\n",
       "      <td>0.1327</td>\n",
       "      <td>0.1735</td>\n",
       "      <td>0.6938</td>\n",
       "    </tr>\n",
       "    <tr>\n",
       "      <th>1</th>\n",
       "      <td>0.1183</td>\n",
       "      <td>0.1720</td>\n",
       "      <td>0.7097</td>\n",
       "    </tr>\n",
       "    <tr>\n",
       "      <th>2</th>\n",
       "      <td>0.1300</td>\n",
       "      <td>0.1800</td>\n",
       "      <td>0.6900</td>\n",
       "    </tr>\n",
       "    <tr>\n",
       "      <th>3</th>\n",
       "      <td>0.1515</td>\n",
       "      <td>0.1717</td>\n",
       "      <td>0.6768</td>\n",
       "    </tr>\n",
       "    <tr>\n",
       "      <th>4</th>\n",
       "      <td>0.1354</td>\n",
       "      <td>0.1562</td>\n",
       "      <td>0.7084</td>\n",
       "    </tr>\n",
       "    <tr>\n",
       "      <th>...</th>\n",
       "      <td>...</td>\n",
       "      <td>...</td>\n",
       "      <td>...</td>\n",
       "    </tr>\n",
       "    <tr>\n",
       "      <th>861848</th>\n",
       "      <td>0.1720</td>\n",
       "      <td>0.7205</td>\n",
       "      <td>0.1075</td>\n",
       "    </tr>\n",
       "    <tr>\n",
       "      <th>861849</th>\n",
       "      <td>0.1895</td>\n",
       "      <td>0.6842</td>\n",
       "      <td>0.1263</td>\n",
       "    </tr>\n",
       "    <tr>\n",
       "      <th>861850</th>\n",
       "      <td>0.1915</td>\n",
       "      <td>0.7021</td>\n",
       "      <td>0.1064</td>\n",
       "    </tr>\n",
       "    <tr>\n",
       "      <th>861851</th>\n",
       "      <td>0.1717</td>\n",
       "      <td>0.6869</td>\n",
       "      <td>0.1414</td>\n",
       "    </tr>\n",
       "    <tr>\n",
       "      <th>861852</th>\n",
       "      <td>0.1961</td>\n",
       "      <td>0.6568</td>\n",
       "      <td>0.1471</td>\n",
       "    </tr>\n",
       "  </tbody>\n",
       "</table>\n",
       "<p>861853 rows × 3 columns</p>\n",
       "</div>"
      ],
      "text/plain": [
       "        luxury_sales  fresh_sales  dry_sales\n",
       "0             0.1327       0.1735     0.6938\n",
       "1             0.1183       0.1720     0.7097\n",
       "2             0.1300       0.1800     0.6900\n",
       "3             0.1515       0.1717     0.6768\n",
       "4             0.1354       0.1562     0.7084\n",
       "...              ...          ...        ...\n",
       "861848        0.1720       0.7205     0.1075\n",
       "861849        0.1895       0.6842     0.1263\n",
       "861850        0.1915       0.7021     0.1064\n",
       "861851        0.1717       0.6869     0.1414\n",
       "861852        0.1961       0.6568     0.1471\n",
       "\n",
       "[861853 rows x 3 columns]"
      ]
     },
     "execution_count": 10,
     "metadata": {},
     "output_type": "execute_result"
    }
   ],
   "source": [
    "X_train"
   ]
  },
  {
   "cell_type": "code",
   "execution_count": 11,
   "id": "de4401cf",
   "metadata": {
    "execution": {
     "iopub.execute_input": "2024-05-17T06:26:32.938593Z",
     "iopub.status.busy": "2024-05-17T06:26:32.938185Z",
     "iopub.status.idle": "2024-05-17T06:26:52.627866Z",
     "shell.execute_reply": "2024-05-17T06:26:52.626958Z"
    },
    "papermill": {
     "duration": 19.718192,
     "end_time": "2024-05-17T06:26:52.630447",
     "exception": false,
     "start_time": "2024-05-17T06:26:32.912255",
     "status": "completed"
    },
    "tags": []
   },
   "outputs": [
    {
     "name": "stdout",
     "output_type": "stream",
     "text": [
      "[0]\tval-mlogloss:0.68873\n",
      "[74]\tval-mlogloss:0.08929\n"
     ]
    }
   ],
   "source": [
    "params = {\n",
    "    'objective': 'multi:softprob',  # Objective for multi-class classification\n",
    "    'num_class': 6,  # Number of classes\n",
    "    'eval_metric': 'mlogloss',  # Metric for multi-class classification\n",
    "    'max_depth': 5,\n",
    "    'eta': 0.5, \n",
    "    'missing': None,\n",
    "    'random_state':42,\n",
    "    'tree_method':'hist',\n",
    "    'subsample':0.8,\n",
    "    'colsample_bytree':1,\n",
    "    'verbosity':2   \n",
    "}\n",
    "\n",
    "# Train the model\n",
    "model = xgb.train(params, train_data, num_boost_round=1000, early_stopping_rounds=50, evals=[(val_data, 'val')], verbose_eval=100)"
   ]
  },
  {
   "cell_type": "code",
   "execution_count": 12,
   "id": "e016d945",
   "metadata": {
    "execution": {
     "iopub.execute_input": "2024-05-17T06:26:52.672367Z",
     "iopub.status.busy": "2024-05-17T06:26:52.671556Z",
     "iopub.status.idle": "2024-05-17T06:26:53.324343Z",
     "shell.execute_reply": "2024-05-17T06:26:53.323177Z"
    },
    "papermill": {
     "duration": 0.676795,
     "end_time": "2024-05-17T06:26:53.327424",
     "exception": false,
     "start_time": "2024-05-17T06:26:52.650629",
     "status": "completed"
    },
    "tags": []
   },
   "outputs": [
    {
     "name": "stdout",
     "output_type": "stream",
     "text": [
      "Validation Accuracy: 0.9371\n"
     ]
    }
   ],
   "source": [
    "# Make predictions\n",
    "y_pred_class = model.predict(xgb.DMatrix(X_val))\n",
    "y_pred_class = np.argmax(y_pred_class, axis=1)  # Get class labels\n",
    "\n",
    "# Evaluate\n",
    "accuracy = accuracy_score(y_val_mod, y_pred_class)\n",
    "print(f'Validation Accuracy: {accuracy:.4f}')"
   ]
  },
  {
   "cell_type": "code",
   "execution_count": 13,
   "id": "dbeeda3c",
   "metadata": {
    "execution": {
     "iopub.execute_input": "2024-05-17T06:26:53.369072Z",
     "iopub.status.busy": "2024-05-17T06:26:53.368651Z",
     "iopub.status.idle": "2024-05-17T06:26:53.373406Z",
     "shell.execute_reply": "2024-05-17T06:26:53.372267Z"
    },
    "papermill": {
     "duration": 0.028372,
     "end_time": "2024-05-17T06:26:53.375754",
     "exception": false,
     "start_time": "2024-05-17T06:26:53.347382",
     "status": "completed"
    },
    "tags": []
   },
   "outputs": [],
   "source": [
    "from sklearn.metrics import accuracy_score, f1_score, precision_score"
   ]
  },
  {
   "cell_type": "code",
   "execution_count": 14,
   "id": "cac67c31",
   "metadata": {
    "_kg_hide-output": true,
    "execution": {
     "iopub.execute_input": "2024-05-17T06:26:53.417036Z",
     "iopub.status.busy": "2024-05-17T06:26:53.416389Z",
     "iopub.status.idle": "2024-05-17T06:27:13.768643Z",
     "shell.execute_reply": "2024-05-17T06:27:13.767321Z"
    },
    "papermill": {
     "duration": 20.376305,
     "end_time": "2024-05-17T06:27:13.771639",
     "exception": false,
     "start_time": "2024-05-17T06:26:53.395334",
     "status": "completed"
    },
    "tags": []
   },
   "outputs": [
    {
     "name": "stdout",
     "output_type": "stream",
     "text": [
      "[LightGBM] [Warning] Accuracy may be bad since you didn't explicitly set num_leaves OR 2^max_depth > num_leaves. (num_leaves=31).\n",
      "[LightGBM] [Warning] Accuracy may be bad since you didn't explicitly set num_leaves OR 2^max_depth > num_leaves. (num_leaves=31).\n",
      "[LightGBM] [Warning] Accuracy may be bad since you didn't explicitly set num_leaves OR 2^max_depth > num_leaves. (num_leaves=31).\n",
      "[LightGBM] [Warning] No further splits with positive gain, best gain: -inf\n",
      "[LightGBM] [Warning] No further splits with positive gain, best gain: -inf\n",
      "[LightGBM] [Warning] No further splits with positive gain, best gain: -inf\n",
      "[LightGBM] [Warning] No further splits with positive gain, best gain: -inf\n",
      "[LightGBM] [Warning] No further splits with positive gain, best gain: -inf\n",
      "[LightGBM] [Warning] No further splits with positive gain, best gain: -inf\n",
      "[LightGBM] [Warning] No further splits with positive gain, best gain: -inf\n",
      "[LightGBM] [Warning] No further splits with positive gain, best gain: -inf\n",
      "[LightGBM] [Warning] No further splits with positive gain, best gain: -inf\n",
      "[LightGBM] [Warning] No further splits with positive gain, best gain: -inf\n",
      "[LightGBM] [Warning] No further splits with positive gain, best gain: -inf\n",
      "[LightGBM] [Warning] No further splits with positive gain, best gain: -inf\n",
      "[LightGBM] [Warning] No further splits with positive gain, best gain: -inf\n",
      "[LightGBM] [Warning] No further splits with positive gain, best gain: -inf\n",
      "[LightGBM] [Warning] No further splits with positive gain, best gain: -inf\n",
      "[LightGBM] [Warning] No further splits with positive gain, best gain: -inf\n",
      "[LightGBM] [Warning] No further splits with positive gain, best gain: -inf\n",
      "[LightGBM] [Warning] No further splits with positive gain, best gain: -inf\n",
      "[LightGBM] [Warning] No further splits with positive gain, best gain: -inf\n",
      "[LightGBM] [Warning] No further splits with positive gain, best gain: -inf\n",
      "[LightGBM] [Warning] No further splits with positive gain, best gain: -inf\n",
      "[LightGBM] [Warning] No further splits with positive gain, best gain: -inf\n",
      "[LightGBM] [Warning] No further splits with positive gain, best gain: -inf\n",
      "[LightGBM] [Warning] No further splits with positive gain, best gain: -inf\n",
      "[LightGBM] [Warning] No further splits with positive gain, best gain: -inf\n",
      "[LightGBM] [Warning] No further splits with positive gain, best gain: -inf\n",
      "[LightGBM] [Warning] No further splits with positive gain, best gain: -inf\n",
      "[LightGBM] [Warning] No further splits with positive gain, best gain: -inf\n",
      "[LightGBM] [Warning] No further splits with positive gain, best gain: -inf\n",
      "[LightGBM] [Warning] No further splits with positive gain, best gain: -inf\n",
      "[LightGBM] [Warning] No further splits with positive gain, best gain: -inf\n",
      "[LightGBM] [Warning] No further splits with positive gain, best gain: -inf\n",
      "[LightGBM] [Warning] No further splits with positive gain, best gain: -inf\n",
      "[LightGBM] [Warning] No further splits with positive gain, best gain: -inf\n",
      "[LightGBM] [Warning] No further splits with positive gain, best gain: -inf\n",
      "[LightGBM] [Warning] No further splits with positive gain, best gain: -inf\n",
      "[LightGBM] [Warning] No further splits with positive gain, best gain: -inf\n",
      "[LightGBM] [Warning] No further splits with positive gain, best gain: -inf\n",
      "[LightGBM] [Warning] No further splits with positive gain, best gain: -inf\n",
      "[LightGBM] [Warning] No further splits with positive gain, best gain: -inf\n",
      "[LightGBM] [Warning] No further splits with positive gain, best gain: -inf\n",
      "[LightGBM] [Warning] No further splits with positive gain, best gain: -inf\n",
      "[LightGBM] [Warning] No further splits with positive gain, best gain: -inf\n",
      "[LightGBM] [Warning] No further splits with positive gain, best gain: -inf\n",
      "[LightGBM] [Warning] No further splits with positive gain, best gain: -inf\n",
      "[LightGBM] [Warning] No further splits with positive gain, best gain: -inf\n",
      "[LightGBM] [Warning] No further splits with positive gain, best gain: -inf\n",
      "[LightGBM] [Warning] No further splits with positive gain, best gain: -inf\n",
      "[LightGBM] [Warning] No further splits with positive gain, best gain: -inf\n",
      "[LightGBM] [Warning] No further splits with positive gain, best gain: -inf\n",
      "[LightGBM] [Warning] No further splits with positive gain, best gain: -inf\n",
      "[LightGBM] [Warning] No further splits with positive gain, best gain: -inf\n",
      "[LightGBM] [Warning] No further splits with positive gain, best gain: -inf\n",
      "[LightGBM] [Warning] No further splits with positive gain, best gain: -inf\n",
      "[LightGBM] [Warning] No further splits with positive gain, best gain: -inf\n",
      "[LightGBM] [Warning] No further splits with positive gain, best gain: -inf\n",
      "[LightGBM] [Warning] No further splits with positive gain, best gain: -inf\n",
      "[LightGBM] [Warning] No further splits with positive gain, best gain: -inf\n",
      "[LightGBM] [Warning] No further splits with positive gain, best gain: -inf\n",
      "[LightGBM] [Warning] No further splits with positive gain, best gain: -inf\n",
      "[LightGBM] [Warning] No further splits with positive gain, best gain: -inf\n",
      "[LightGBM] [Warning] No further splits with positive gain, best gain: -inf\n",
      "[LightGBM] [Warning] No further splits with positive gain, best gain: -inf\n",
      "[LightGBM] [Warning] No further splits with positive gain, best gain: -inf\n",
      "[LightGBM] [Warning] No further splits with positive gain, best gain: -inf\n",
      "[LightGBM] [Warning] No further splits with positive gain, best gain: -inf\n",
      "[LightGBM] [Warning] No further splits with positive gain, best gain: -inf\n",
      "[LightGBM] [Warning] No further splits with positive gain, best gain: -inf\n",
      "[LightGBM] [Warning] No further splits with positive gain, best gain: -inf\n",
      "[LightGBM] [Warning] No further splits with positive gain, best gain: -inf\n",
      "[LightGBM] [Warning] No further splits with positive gain, best gain: -inf\n",
      "[LightGBM] [Warning] No further splits with positive gain, best gain: -inf\n",
      "[LightGBM] [Warning] No further splits with positive gain, best gain: -inf\n",
      "[LightGBM] [Warning] No further splits with positive gain, best gain: -inf\n",
      "[LightGBM] [Warning] No further splits with positive gain, best gain: -inf\n",
      "[LightGBM] [Warning] No further splits with positive gain, best gain: -inf\n",
      "[LightGBM] [Warning] No further splits with positive gain, best gain: -inf\n",
      "[LightGBM] [Warning] No further splits with positive gain, best gain: -inf\n",
      "[LightGBM] [Warning] No further splits with positive gain, best gain: -inf\n",
      "[LightGBM] [Warning] No further splits with positive gain, best gain: -inf\n",
      "[LightGBM] [Warning] No further splits with positive gain, best gain: -inf\n",
      "[LightGBM] [Warning] No further splits with positive gain, best gain: -inf\n",
      "[LightGBM] [Warning] No further splits with positive gain, best gain: -inf\n",
      "[LightGBM] [Warning] No further splits with positive gain, best gain: -inf\n",
      "[LightGBM] [Warning] No further splits with positive gain, best gain: -inf\n",
      "[LightGBM] [Warning] No further splits with positive gain, best gain: -inf\n",
      "[LightGBM] [Warning] No further splits with positive gain, best gain: -inf\n",
      "[LightGBM] [Warning] No further splits with positive gain, best gain: -inf\n",
      "[LightGBM] [Warning] No further splits with positive gain, best gain: -inf\n",
      "[LightGBM] [Warning] No further splits with positive gain, best gain: -inf\n",
      "[LightGBM] [Warning] No further splits with positive gain, best gain: -inf\n",
      "[LightGBM] [Warning] No further splits with positive gain, best gain: -inf\n",
      "[LightGBM] [Warning] No further splits with positive gain, best gain: -inf\n",
      "[LightGBM] [Warning] No further splits with positive gain, best gain: -inf\n",
      "[LightGBM] [Warning] No further splits with positive gain, best gain: -inf\n",
      "[LightGBM] [Warning] No further splits with positive gain, best gain: -inf\n",
      "[LightGBM] [Warning] No further splits with positive gain, best gain: -inf\n",
      "[LightGBM] [Warning] No further splits with positive gain, best gain: -inf\n",
      "[LightGBM] [Warning] No further splits with positive gain, best gain: -inf\n",
      "[LightGBM] [Warning] No further splits with positive gain, best gain: -inf\n",
      "[LightGBM] [Warning] No further splits with positive gain, best gain: -inf\n",
      "[LightGBM] [Warning] No further splits with positive gain, best gain: -inf\n",
      "[LightGBM] [Warning] No further splits with positive gain, best gain: -inf\n",
      "[LightGBM] [Warning] No further splits with positive gain, best gain: -inf\n",
      "[LightGBM] [Warning] No further splits with positive gain, best gain: -inf\n",
      "[LightGBM] [Warning] No further splits with positive gain, best gain: -inf\n",
      "[LightGBM] [Warning] No further splits with positive gain, best gain: -inf\n",
      "[LightGBM] [Warning] No further splits with positive gain, best gain: -inf\n",
      "[LightGBM] [Warning] No further splits with positive gain, best gain: -inf\n",
      "[LightGBM] [Warning] No further splits with positive gain, best gain: -inf\n",
      "[LightGBM] [Warning] No further splits with positive gain, best gain: -inf\n",
      "[LightGBM] [Warning] No further splits with positive gain, best gain: -inf\n",
      "[LightGBM] [Warning] No further splits with positive gain, best gain: -inf\n",
      "[LightGBM] [Warning] No further splits with positive gain, best gain: -inf\n",
      "[LightGBM] [Warning] No further splits with positive gain, best gain: -inf\n",
      "[LightGBM] [Warning] No further splits with positive gain, best gain: -inf\n",
      "[LightGBM] [Warning] No further splits with positive gain, best gain: -inf\n",
      "[LightGBM] [Warning] No further splits with positive gain, best gain: -inf\n",
      "[LightGBM] [Warning] No further splits with positive gain, best gain: -inf\n",
      "[LightGBM] [Warning] No further splits with positive gain, best gain: -inf\n",
      "[LightGBM] [Warning] No further splits with positive gain, best gain: -inf\n",
      "[LightGBM] [Warning] No further splits with positive gain, best gain: -inf\n",
      "[LightGBM] [Warning] No further splits with positive gain, best gain: -inf\n",
      "[LightGBM] [Warning] No further splits with positive gain, best gain: -inf\n",
      "[LightGBM] [Warning] No further splits with positive gain, best gain: -inf\n",
      "[LightGBM] [Warning] No further splits with positive gain, best gain: -inf\n",
      "[LightGBM] [Warning] No further splits with positive gain, best gain: -inf\n",
      "[LightGBM] [Warning] No further splits with positive gain, best gain: -inf\n",
      "[LightGBM] [Warning] No further splits with positive gain, best gain: -inf\n",
      "[LightGBM] [Warning] No further splits with positive gain, best gain: -inf\n",
      "[LightGBM] [Warning] No further splits with positive gain, best gain: -inf\n",
      "[LightGBM] [Warning] No further splits with positive gain, best gain: -inf\n",
      "[LightGBM] [Warning] No further splits with positive gain, best gain: -inf\n",
      "[LightGBM] [Warning] No further splits with positive gain, best gain: -inf\n",
      "[LightGBM] [Warning] No further splits with positive gain, best gain: -inf\n",
      "[LightGBM] [Warning] No further splits with positive gain, best gain: -inf\n",
      "[LightGBM] [Warning] No further splits with positive gain, best gain: -inf\n",
      "[LightGBM] [Warning] No further splits with positive gain, best gain: -inf\n",
      "[LightGBM] [Warning] No further splits with positive gain, best gain: -inf\n",
      "[LightGBM] [Warning] No further splits with positive gain, best gain: -inf\n",
      "[LightGBM] [Warning] No further splits with positive gain, best gain: -inf\n",
      "[LightGBM] [Warning] No further splits with positive gain, best gain: -inf\n",
      "[LightGBM] [Warning] No further splits with positive gain, best gain: -inf\n",
      "[LightGBM] [Warning] No further splits with positive gain, best gain: -inf\n",
      "[LightGBM] [Warning] No further splits with positive gain, best gain: -inf\n",
      "[LightGBM] [Warning] No further splits with positive gain, best gain: -inf\n",
      "[LightGBM] [Warning] No further splits with positive gain, best gain: -inf\n",
      "[LightGBM] [Warning] No further splits with positive gain, best gain: -inf\n",
      "[LightGBM] [Warning] No further splits with positive gain, best gain: -inf\n",
      "[LightGBM] [Warning] No further splits with positive gain, best gain: -inf\n",
      "[LightGBM] [Warning] No further splits with positive gain, best gain: -inf\n",
      "[LightGBM] [Warning] No further splits with positive gain, best gain: -inf\n",
      "[LightGBM] [Warning] No further splits with positive gain, best gain: -inf\n",
      "[LightGBM] [Warning] No further splits with positive gain, best gain: -inf\n",
      "[LightGBM] [Warning] No further splits with positive gain, best gain: -inf\n",
      "[LightGBM] [Warning] No further splits with positive gain, best gain: -inf\n",
      "[LightGBM] [Warning] No further splits with positive gain, best gain: -inf\n",
      "[LightGBM] [Warning] No further splits with positive gain, best gain: -inf\n",
      "[LightGBM] [Warning] No further splits with positive gain, best gain: -inf\n",
      "[LightGBM] [Warning] No further splits with positive gain, best gain: -inf\n",
      "[LightGBM] [Warning] No further splits with positive gain, best gain: -inf\n",
      "[LightGBM] [Warning] No further splits with positive gain, best gain: -inf\n",
      "[LightGBM] [Warning] No further splits with positive gain, best gain: -inf\n",
      "[LightGBM] [Warning] No further splits with positive gain, best gain: -inf\n",
      "[LightGBM] [Warning] No further splits with positive gain, best gain: -inf\n",
      "[LightGBM] [Warning] No further splits with positive gain, best gain: -inf\n",
      "[LightGBM] [Warning] No further splits with positive gain, best gain: -inf\n",
      "[LightGBM] [Warning] No further splits with positive gain, best gain: -inf\n",
      "[LightGBM] [Warning] No further splits with positive gain, best gain: -inf\n",
      "[LightGBM] [Warning] No further splits with positive gain, best gain: -inf\n",
      "[LightGBM] [Warning] No further splits with positive gain, best gain: -inf\n",
      "[LightGBM] [Warning] No further splits with positive gain, best gain: -inf\n",
      "[LightGBM] [Warning] No further splits with positive gain, best gain: -inf\n",
      "[LightGBM] [Warning] No further splits with positive gain, best gain: -inf\n",
      "[LightGBM] [Warning] No further splits with positive gain, best gain: -inf\n",
      "[LightGBM] [Warning] No further splits with positive gain, best gain: -inf\n",
      "[LightGBM] [Warning] No further splits with positive gain, best gain: -inf\n",
      "[LightGBM] [Warning] No further splits with positive gain, best gain: -inf\n",
      "[LightGBM] [Warning] No further splits with positive gain, best gain: -inf\n",
      "[LightGBM] [Warning] No further splits with positive gain, best gain: -inf\n",
      "[LightGBM] [Warning] No further splits with positive gain, best gain: -inf\n",
      "[LightGBM] [Warning] No further splits with positive gain, best gain: -inf\n",
      "[LightGBM] [Warning] No further splits with positive gain, best gain: -inf\n",
      "[LightGBM] [Warning] No further splits with positive gain, best gain: -inf\n",
      "[LightGBM] [Warning] No further splits with positive gain, best gain: -inf\n",
      "[LightGBM] [Warning] No further splits with positive gain, best gain: -inf\n",
      "[LightGBM] [Warning] No further splits with positive gain, best gain: -inf\n",
      "[LightGBM] [Warning] No further splits with positive gain, best gain: -inf\n",
      "[LightGBM] [Warning] No further splits with positive gain, best gain: -inf\n",
      "[LightGBM] [Warning] No further splits with positive gain, best gain: -inf\n",
      "[LightGBM] [Warning] No further splits with positive gain, best gain: -inf\n",
      "[LightGBM] [Warning] No further splits with positive gain, best gain: -inf\n",
      "[LightGBM] [Warning] No further splits with positive gain, best gain: -inf\n",
      "[LightGBM] [Warning] No further splits with positive gain, best gain: -inf\n",
      "[LightGBM] [Warning] No further splits with positive gain, best gain: -inf\n",
      "[LightGBM] [Warning] No further splits with positive gain, best gain: -inf\n",
      "[LightGBM] [Warning] No further splits with positive gain, best gain: -inf\n",
      "[LightGBM] [Warning] No further splits with positive gain, best gain: -inf\n",
      "[LightGBM] [Warning] No further splits with positive gain, best gain: -inf\n",
      "[LightGBM] [Warning] No further splits with positive gain, best gain: -inf\n",
      "[LightGBM] [Warning] No further splits with positive gain, best gain: -inf\n",
      "[LightGBM] [Warning] No further splits with positive gain, best gain: -inf\n",
      "[LightGBM] [Warning] No further splits with positive gain, best gain: -inf\n",
      "[LightGBM] [Warning] No further splits with positive gain, best gain: -inf\n",
      "[LightGBM] [Warning] No further splits with positive gain, best gain: -inf\n",
      "[LightGBM] [Warning] No further splits with positive gain, best gain: -inf\n",
      "[LightGBM] [Warning] No further splits with positive gain, best gain: -inf\n",
      "[LightGBM] [Warning] No further splits with positive gain, best gain: -inf\n",
      "[LightGBM] [Warning] No further splits with positive gain, best gain: -inf\n",
      "[LightGBM] [Warning] No further splits with positive gain, best gain: -inf\n",
      "[LightGBM] [Warning] No further splits with positive gain, best gain: -inf\n",
      "[LightGBM] [Warning] No further splits with positive gain, best gain: -inf\n",
      "[LightGBM] [Warning] No further splits with positive gain, best gain: -inf\n",
      "[LightGBM] [Warning] No further splits with positive gain, best gain: -inf\n",
      "[LightGBM] [Warning] No further splits with positive gain, best gain: -inf\n",
      "[LightGBM] [Warning] No further splits with positive gain, best gain: -inf\n",
      "[LightGBM] [Warning] No further splits with positive gain, best gain: -inf\n",
      "[LightGBM] [Warning] No further splits with positive gain, best gain: -inf\n",
      "[LightGBM] [Warning] No further splits with positive gain, best gain: -inf\n",
      "[LightGBM] [Warning] No further splits with positive gain, best gain: -inf\n",
      "[LightGBM] [Warning] No further splits with positive gain, best gain: -inf\n",
      "[LightGBM] [Warning] No further splits with positive gain, best gain: -inf\n",
      "[LightGBM] [Warning] No further splits with positive gain, best gain: -inf\n",
      "[LightGBM] [Warning] No further splits with positive gain, best gain: -inf\n",
      "[LightGBM] [Warning] No further splits with positive gain, best gain: -inf\n",
      "[LightGBM] [Warning] No further splits with positive gain, best gain: -inf\n",
      "[LightGBM] [Warning] No further splits with positive gain, best gain: -inf\n",
      "[LightGBM] [Warning] No further splits with positive gain, best gain: -inf\n",
      "[LightGBM] [Warning] No further splits with positive gain, best gain: -inf\n",
      "[LightGBM] [Warning] No further splits with positive gain, best gain: -inf\n",
      "[LightGBM] [Warning] No further splits with positive gain, best gain: -inf\n",
      "[LightGBM] [Warning] No further splits with positive gain, best gain: -inf\n",
      "[LightGBM] [Warning] No further splits with positive gain, best gain: -inf\n",
      "[LightGBM] [Warning] No further splits with positive gain, best gain: -inf\n",
      "[LightGBM] [Warning] No further splits with positive gain, best gain: -inf\n",
      "[LightGBM] [Warning] No further splits with positive gain, best gain: -inf\n",
      "[LightGBM] [Warning] No further splits with positive gain, best gain: -inf\n",
      "[LightGBM] [Warning] No further splits with positive gain, best gain: -inf\n",
      "[LightGBM] [Warning] No further splits with positive gain, best gain: -inf\n",
      "[LightGBM] [Warning] No further splits with positive gain, best gain: -inf\n",
      "[LightGBM] [Warning] No further splits with positive gain, best gain: -inf\n",
      "[LightGBM] [Warning] No further splits with positive gain, best gain: -inf\n",
      "[LightGBM] [Warning] No further splits with positive gain, best gain: -inf\n",
      "[LightGBM] [Warning] No further splits with positive gain, best gain: -inf\n",
      "[LightGBM] [Warning] No further splits with positive gain, best gain: -inf\n",
      "[LightGBM] [Warning] No further splits with positive gain, best gain: -inf\n",
      "[LightGBM] [Warning] No further splits with positive gain, best gain: -inf\n",
      "[LightGBM] [Warning] No further splits with positive gain, best gain: -inf\n",
      "[LightGBM] [Warning] No further splits with positive gain, best gain: -inf\n",
      "[LightGBM] [Warning] No further splits with positive gain, best gain: -inf\n",
      "[LightGBM] [Warning] No further splits with positive gain, best gain: -inf\n",
      "[LightGBM] [Warning] No further splits with positive gain, best gain: -inf\n",
      "[LightGBM] [Warning] No further splits with positive gain, best gain: -inf\n",
      "[LightGBM] [Warning] No further splits with positive gain, best gain: -inf\n",
      "[LightGBM] [Warning] No further splits with positive gain, best gain: -inf\n",
      "[LightGBM] [Warning] No further splits with positive gain, best gain: -inf\n",
      "[LightGBM] [Warning] No further splits with positive gain, best gain: -inf\n",
      "[LightGBM] [Warning] No further splits with positive gain, best gain: -inf\n",
      "[LightGBM] [Warning] No further splits with positive gain, best gain: -inf\n",
      "[LightGBM] [Warning] No further splits with positive gain, best gain: -inf\n",
      "[LightGBM] [Warning] No further splits with positive gain, best gain: -inf\n",
      "[LightGBM] [Warning] No further splits with positive gain, best gain: -inf\n",
      "[LightGBM] [Warning] No further splits with positive gain, best gain: -inf\n",
      "[LightGBM] [Warning] No further splits with positive gain, best gain: -inf\n",
      "[LightGBM] [Warning] No further splits with positive gain, best gain: -inf\n",
      "[LightGBM] [Warning] No further splits with positive gain, best gain: -inf\n",
      "[LightGBM] [Warning] No further splits with positive gain, best gain: -inf\n",
      "[LightGBM] [Warning] No further splits with positive gain, best gain: -inf\n",
      "[LightGBM] [Warning] No further splits with positive gain, best gain: -inf\n",
      "[LightGBM] [Warning] No further splits with positive gain, best gain: -inf\n",
      "[LightGBM] [Warning] No further splits with positive gain, best gain: -inf\n",
      "[LightGBM] [Warning] No further splits with positive gain, best gain: -inf\n",
      "[LightGBM] [Warning] No further splits with positive gain, best gain: -inf\n",
      "[LightGBM] [Warning] No further splits with positive gain, best gain: -inf\n",
      "[LightGBM] [Warning] No further splits with positive gain, best gain: -inf\n",
      "[LightGBM] [Warning] No further splits with positive gain, best gain: -inf\n",
      "[LightGBM] [Warning] No further splits with positive gain, best gain: -inf\n",
      "[LightGBM] [Warning] No further splits with positive gain, best gain: -inf\n",
      "[LightGBM] [Warning] No further splits with positive gain, best gain: -inf\n",
      "[LightGBM] [Warning] No further splits with positive gain, best gain: -inf\n",
      "[LightGBM] [Warning] No further splits with positive gain, best gain: -inf\n",
      "[LightGBM] [Warning] No further splits with positive gain, best gain: -inf\n",
      "[LightGBM] [Warning] No further splits with positive gain, best gain: -inf\n",
      "[LightGBM] [Warning] No further splits with positive gain, best gain: -inf\n",
      "[LightGBM] [Warning] No further splits with positive gain, best gain: -inf\n",
      "[LightGBM] [Warning] No further splits with positive gain, best gain: -inf\n",
      "[LightGBM] [Warning] No further splits with positive gain, best gain: -inf\n",
      "[LightGBM] [Warning] No further splits with positive gain, best gain: -inf\n",
      "[LightGBM] [Warning] No further splits with positive gain, best gain: -inf\n",
      "[LightGBM] [Warning] No further splits with positive gain, best gain: -inf\n",
      "[LightGBM] [Warning] No further splits with positive gain, best gain: -inf\n",
      "[LightGBM] [Warning] No further splits with positive gain, best gain: -inf\n",
      "[LightGBM] [Warning] No further splits with positive gain, best gain: -inf\n",
      "[LightGBM] [Warning] No further splits with positive gain, best gain: -inf\n",
      "[LightGBM] [Warning] No further splits with positive gain, best gain: -inf\n",
      "[LightGBM] [Warning] No further splits with positive gain, best gain: -inf\n",
      "[LightGBM] [Warning] No further splits with positive gain, best gain: -inf\n",
      "[LightGBM] [Warning] No further splits with positive gain, best gain: -inf\n",
      "[LightGBM] [Warning] No further splits with positive gain, best gain: -inf\n",
      "[LightGBM] [Warning] No further splits with positive gain, best gain: -inf\n",
      "[LightGBM] [Warning] No further splits with positive gain, best gain: -inf\n",
      "[LightGBM] [Warning] No further splits with positive gain, best gain: -inf\n",
      "[LightGBM] [Warning] No further splits with positive gain, best gain: -inf\n",
      "[LightGBM] [Warning] No further splits with positive gain, best gain: -inf\n",
      "[LightGBM] [Warning] No further splits with positive gain, best gain: -inf\n",
      "[LightGBM] [Warning] No further splits with positive gain, best gain: -inf\n",
      "[LightGBM] [Warning] No further splits with positive gain, best gain: -inf\n",
      "[LightGBM] [Warning] No further splits with positive gain, best gain: -inf\n",
      "[LightGBM] [Warning] No further splits with positive gain, best gain: -inf\n",
      "[LightGBM] [Warning] No further splits with positive gain, best gain: -inf\n",
      "[LightGBM] [Warning] No further splits with positive gain, best gain: -inf\n",
      "[LightGBM] [Warning] No further splits with positive gain, best gain: -inf\n",
      "[LightGBM] [Warning] No further splits with positive gain, best gain: -inf\n",
      "[LightGBM] [Warning] No further splits with positive gain, best gain: -inf\n",
      "[LightGBM] [Warning] No further splits with positive gain, best gain: -inf\n",
      "[LightGBM] [Warning] No further splits with positive gain, best gain: -inf\n",
      "[LightGBM] [Warning] No further splits with positive gain, best gain: -inf\n",
      "[LightGBM] [Warning] No further splits with positive gain, best gain: -inf\n",
      "[LightGBM] [Warning] No further splits with positive gain, best gain: -inf\n",
      "[LightGBM] [Warning] No further splits with positive gain, best gain: -inf\n",
      "[LightGBM] [Warning] No further splits with positive gain, best gain: -inf\n",
      "[LightGBM] [Warning] No further splits with positive gain, best gain: -inf\n",
      "[LightGBM] [Warning] No further splits with positive gain, best gain: -inf\n",
      "[LightGBM] [Warning] No further splits with positive gain, best gain: -inf\n",
      "[LightGBM] [Warning] No further splits with positive gain, best gain: -inf\n",
      "[LightGBM] [Warning] No further splits with positive gain, best gain: -inf\n",
      "[LightGBM] [Warning] No further splits with positive gain, best gain: -inf\n",
      "[LightGBM] [Warning] No further splits with positive gain, best gain: -inf\n",
      "[LightGBM] [Warning] No further splits with positive gain, best gain: -inf\n",
      "[LightGBM] [Warning] No further splits with positive gain, best gain: -inf\n",
      "[LightGBM] [Warning] No further splits with positive gain, best gain: -inf\n",
      "[LightGBM] [Warning] No further splits with positive gain, best gain: -inf\n",
      "[LightGBM] [Warning] No further splits with positive gain, best gain: -inf\n",
      "[LightGBM] [Warning] No further splits with positive gain, best gain: -inf\n",
      "[LightGBM] [Warning] No further splits with positive gain, best gain: -inf\n",
      "[LightGBM] [Warning] No further splits with positive gain, best gain: -inf\n",
      "[LightGBM] [Warning] No further splits with positive gain, best gain: -inf\n",
      "[LightGBM] [Warning] No further splits with positive gain, best gain: -inf\n",
      "[LightGBM] [Warning] No further splits with positive gain, best gain: -inf\n",
      "[LightGBM] [Warning] No further splits with positive gain, best gain: -inf\n",
      "[LightGBM] [Warning] No further splits with positive gain, best gain: -inf\n",
      "[LightGBM] [Warning] No further splits with positive gain, best gain: -inf\n",
      "[LightGBM] [Warning] No further splits with positive gain, best gain: -inf\n",
      "[LightGBM] [Warning] No further splits with positive gain, best gain: -inf\n",
      "[LightGBM] [Warning] No further splits with positive gain, best gain: -inf\n",
      "[LightGBM] [Warning] No further splits with positive gain, best gain: -inf\n",
      "[LightGBM] [Warning] No further splits with positive gain, best gain: -inf\n",
      "[LightGBM] [Warning] No further splits with positive gain, best gain: -inf\n",
      "[LightGBM] [Warning] No further splits with positive gain, best gain: -inf\n",
      "[LightGBM] [Warning] No further splits with positive gain, best gain: -inf\n",
      "[LightGBM] [Warning] No further splits with positive gain, best gain: -inf\n",
      "[LightGBM] [Warning] No further splits with positive gain, best gain: -inf\n",
      "[LightGBM] [Warning] No further splits with positive gain, best gain: -inf\n",
      "[LightGBM] [Warning] No further splits with positive gain, best gain: -inf\n",
      "[LightGBM] [Warning] No further splits with positive gain, best gain: -inf\n",
      "[LightGBM] [Warning] No further splits with positive gain, best gain: -inf\n",
      "[LightGBM] [Warning] No further splits with positive gain, best gain: -inf\n",
      "[LightGBM] [Warning] No further splits with positive gain, best gain: -inf\n",
      "[LightGBM] [Warning] No further splits with positive gain, best gain: -inf\n",
      "[LightGBM] [Warning] No further splits with positive gain, best gain: -inf\n",
      "[LightGBM] [Warning] No further splits with positive gain, best gain: -inf\n",
      "[LightGBM] [Warning] No further splits with positive gain, best gain: -inf\n",
      "[LightGBM] [Warning] No further splits with positive gain, best gain: -inf\n",
      "[LightGBM] [Warning] No further splits with positive gain, best gain: -inf\n",
      "[LightGBM] [Warning] No further splits with positive gain, best gain: -inf\n",
      "[LightGBM] [Warning] No further splits with positive gain, best gain: -inf\n",
      "[LightGBM] [Warning] No further splits with positive gain, best gain: -inf\n",
      "[LightGBM] [Warning] No further splits with positive gain, best gain: -inf\n",
      "[LightGBM] [Warning] No further splits with positive gain, best gain: -inf\n",
      "[LightGBM] [Warning] No further splits with positive gain, best gain: -inf\n",
      "[LightGBM] [Warning] No further splits with positive gain, best gain: -inf\n",
      "[LightGBM] [Warning] No further splits with positive gain, best gain: -inf\n",
      "[LightGBM] [Warning] No further splits with positive gain, best gain: -inf\n",
      "[LightGBM] [Warning] No further splits with positive gain, best gain: -inf\n",
      "[LightGBM] [Warning] No further splits with positive gain, best gain: -inf\n",
      "[LightGBM] [Warning] No further splits with positive gain, best gain: -inf\n",
      "[LightGBM] [Warning] No further splits with positive gain, best gain: -inf\n",
      "[LightGBM] [Warning] No further splits with positive gain, best gain: -inf\n",
      "[LightGBM] [Warning] No further splits with positive gain, best gain: -inf\n",
      "[LightGBM] [Warning] No further splits with positive gain, best gain: -inf\n",
      "[LightGBM] [Warning] No further splits with positive gain, best gain: -inf\n",
      "[LightGBM] [Warning] No further splits with positive gain, best gain: -inf\n",
      "[LightGBM] [Warning] No further splits with positive gain, best gain: -inf\n",
      "[LightGBM] [Warning] No further splits with positive gain, best gain: -inf\n",
      "[LightGBM] [Warning] No further splits with positive gain, best gain: -inf\n",
      "[LightGBM] [Warning] No further splits with positive gain, best gain: -inf\n",
      "[LightGBM] [Warning] No further splits with positive gain, best gain: -inf\n",
      "[LightGBM] [Warning] No further splits with positive gain, best gain: -inf\n",
      "[LightGBM] [Warning] No further splits with positive gain, best gain: -inf\n",
      "[LightGBM] [Warning] No further splits with positive gain, best gain: -inf\n",
      "[LightGBM] [Warning] No further splits with positive gain, best gain: -inf\n",
      "[LightGBM] [Warning] No further splits with positive gain, best gain: -inf\n",
      "[LightGBM] [Warning] No further splits with positive gain, best gain: -inf\n",
      "[LightGBM] [Warning] No further splits with positive gain, best gain: -inf\n",
      "[LightGBM] [Warning] No further splits with positive gain, best gain: -inf\n",
      "[LightGBM] [Warning] No further splits with positive gain, best gain: -inf\n",
      "[LightGBM] [Warning] No further splits with positive gain, best gain: -inf\n",
      "[LightGBM] [Warning] No further splits with positive gain, best gain: -inf\n",
      "[LightGBM] [Warning] No further splits with positive gain, best gain: -inf\n",
      "[LightGBM] [Warning] No further splits with positive gain, best gain: -inf\n",
      "[LightGBM] [Warning] No further splits with positive gain, best gain: -inf\n",
      "[LightGBM] [Warning] No further splits with positive gain, best gain: -inf\n",
      "[LightGBM] [Warning] No further splits with positive gain, best gain: -inf\n",
      "[LightGBM] [Warning] No further splits with positive gain, best gain: -inf\n",
      "[LightGBM] [Warning] No further splits with positive gain, best gain: -inf\n",
      "[LightGBM] [Warning] No further splits with positive gain, best gain: -inf\n",
      "[LightGBM] [Warning] No further splits with positive gain, best gain: -inf\n",
      "[LightGBM] [Warning] No further splits with positive gain, best gain: -inf\n",
      "[LightGBM] [Warning] No further splits with positive gain, best gain: -inf\n",
      "[LightGBM] [Warning] No further splits with positive gain, best gain: -inf\n",
      "[LightGBM] [Warning] No further splits with positive gain, best gain: -inf\n",
      "[LightGBM] [Warning] No further splits with positive gain, best gain: -inf\n",
      "[LightGBM] [Warning] No further splits with positive gain, best gain: -inf\n",
      "[LightGBM] [Warning] No further splits with positive gain, best gain: -inf\n",
      "[LightGBM] [Warning] No further splits with positive gain, best gain: -inf\n",
      "[LightGBM] [Warning] No further splits with positive gain, best gain: -inf\n",
      "[LightGBM] [Warning] No further splits with positive gain, best gain: -inf\n",
      "[LightGBM] [Warning] No further splits with positive gain, best gain: -inf\n",
      "[LightGBM] [Warning] No further splits with positive gain, best gain: -inf\n",
      "[LightGBM] [Warning] No further splits with positive gain, best gain: -inf\n",
      "[LightGBM] [Warning] No further splits with positive gain, best gain: -inf\n",
      "[LightGBM] [Warning] No further splits with positive gain, best gain: -inf\n",
      "[LightGBM] [Warning] No further splits with positive gain, best gain: -inf\n",
      "[LightGBM] [Warning] No further splits with positive gain, best gain: -inf\n",
      "[LightGBM] [Warning] No further splits with positive gain, best gain: -inf\n",
      "[LightGBM] [Warning] No further splits with positive gain, best gain: -inf\n",
      "[LightGBM] [Warning] No further splits with positive gain, best gain: -inf\n",
      "[LightGBM] [Warning] No further splits with positive gain, best gain: -inf\n",
      "[LightGBM] [Warning] No further splits with positive gain, best gain: -inf\n",
      "[LightGBM] [Warning] No further splits with positive gain, best gain: -inf\n",
      "[LightGBM] [Warning] No further splits with positive gain, best gain: -inf\n",
      "[LightGBM] [Warning] No further splits with positive gain, best gain: -inf\n",
      "[LightGBM] [Warning] No further splits with positive gain, best gain: -inf\n",
      "[LightGBM] [Warning] No further splits with positive gain, best gain: -inf\n",
      "[LightGBM] [Warning] No further splits with positive gain, best gain: -inf\n",
      "[LightGBM] [Warning] No further splits with positive gain, best gain: -inf\n",
      "[LightGBM] [Warning] No further splits with positive gain, best gain: -inf\n",
      "[LightGBM] [Warning] No further splits with positive gain, best gain: -inf\n",
      "[LightGBM] [Warning] No further splits with positive gain, best gain: -inf\n",
      "[LightGBM] [Warning] No further splits with positive gain, best gain: -inf\n",
      "[LightGBM] [Warning] No further splits with positive gain, best gain: -inf\n",
      "[LightGBM] [Warning] No further splits with positive gain, best gain: -inf\n",
      "[LightGBM] [Warning] No further splits with positive gain, best gain: -inf\n",
      "[LightGBM] [Warning] No further splits with positive gain, best gain: -inf\n",
      "[LightGBM] [Warning] No further splits with positive gain, best gain: -inf\n",
      "[LightGBM] [Warning] No further splits with positive gain, best gain: -inf\n",
      "[LightGBM] [Warning] No further splits with positive gain, best gain: -inf\n",
      "[LightGBM] [Warning] No further splits with positive gain, best gain: -inf\n",
      "[LightGBM] [Warning] No further splits with positive gain, best gain: -inf\n",
      "[LightGBM] [Warning] No further splits with positive gain, best gain: -inf\n",
      "[LightGBM] [Warning] No further splits with positive gain, best gain: -inf\n",
      "[LightGBM] [Warning] No further splits with positive gain, best gain: -inf\n",
      "[LightGBM] [Warning] No further splits with positive gain, best gain: -inf\n",
      "[LightGBM] [Warning] No further splits with positive gain, best gain: -inf\n",
      "[LightGBM] [Warning] No further splits with positive gain, best gain: -inf\n",
      "[LightGBM] [Warning] No further splits with positive gain, best gain: -inf\n",
      "[LightGBM] [Warning] No further splits with positive gain, best gain: -inf\n",
      "[LightGBM] [Warning] No further splits with positive gain, best gain: -inf\n",
      "[LightGBM] [Warning] No further splits with positive gain, best gain: -inf\n",
      "[LightGBM] [Warning] No further splits with positive gain, best gain: -inf\n",
      "[LightGBM] [Warning] No further splits with positive gain, best gain: -inf\n",
      "[LightGBM] [Warning] No further splits with positive gain, best gain: -inf\n",
      "[LightGBM] [Warning] No further splits with positive gain, best gain: -inf\n",
      "[LightGBM] [Warning] No further splits with positive gain, best gain: -inf\n",
      "[LightGBM] [Warning] No further splits with positive gain, best gain: -inf\n",
      "[LightGBM] [Warning] No further splits with positive gain, best gain: -inf\n",
      "[LightGBM] [Warning] No further splits with positive gain, best gain: -inf\n",
      "[LightGBM] [Warning] No further splits with positive gain, best gain: -inf\n",
      "[LightGBM] [Warning] No further splits with positive gain, best gain: -inf\n",
      "[LightGBM] [Warning] No further splits with positive gain, best gain: -inf\n",
      "[LightGBM] [Warning] No further splits with positive gain, best gain: -inf\n",
      "[LightGBM] [Warning] No further splits with positive gain, best gain: -inf\n",
      "[LightGBM] [Warning] No further splits with positive gain, best gain: -inf\n",
      "[LightGBM] [Warning] No further splits with positive gain, best gain: -inf\n",
      "[LightGBM] [Warning] No further splits with positive gain, best gain: -inf\n",
      "[LightGBM] [Warning] No further splits with positive gain, best gain: -inf\n",
      "[LightGBM] [Warning] No further splits with positive gain, best gain: -inf\n",
      "[LightGBM] [Warning] No further splits with positive gain, best gain: -inf\n",
      "[LightGBM] [Warning] No further splits with positive gain, best gain: -inf\n",
      "[LightGBM] [Warning] No further splits with positive gain, best gain: -inf\n",
      "[LightGBM] [Warning] No further splits with positive gain, best gain: -inf\n",
      "[LightGBM] [Warning] No further splits with positive gain, best gain: -inf\n",
      "[LightGBM] [Warning] No further splits with positive gain, best gain: -inf\n",
      "[LightGBM] [Warning] No further splits with positive gain, best gain: -inf\n",
      "[LightGBM] [Warning] No further splits with positive gain, best gain: -inf\n",
      "[LightGBM] [Warning] No further splits with positive gain, best gain: -inf\n",
      "[LightGBM] [Warning] No further splits with positive gain, best gain: -inf\n",
      "[LightGBM] [Warning] No further splits with positive gain, best gain: -inf\n",
      "[LightGBM] [Warning] No further splits with positive gain, best gain: -inf\n",
      "[LightGBM] [Warning] No further splits with positive gain, best gain: -inf\n",
      "[LightGBM] [Warning] No further splits with positive gain, best gain: -inf\n",
      "[LightGBM] [Warning] No further splits with positive gain, best gain: -inf\n",
      "[LightGBM] [Warning] No further splits with positive gain, best gain: -inf\n",
      "[LightGBM] [Warning] No further splits with positive gain, best gain: -inf\n",
      "[LightGBM] [Warning] No further splits with positive gain, best gain: -inf\n",
      "[LightGBM] [Warning] No further splits with positive gain, best gain: -inf\n",
      "[LightGBM] [Warning] No further splits with positive gain, best gain: -inf\n",
      "[LightGBM] [Warning] No further splits with positive gain, best gain: -inf\n",
      "[LightGBM] [Warning] No further splits with positive gain, best gain: -inf\n",
      "[LightGBM] [Warning] No further splits with positive gain, best gain: -inf\n",
      "[LightGBM] [Warning] No further splits with positive gain, best gain: -inf\n",
      "[LightGBM] [Warning] No further splits with positive gain, best gain: -inf\n",
      "[LightGBM] [Warning] No further splits with positive gain, best gain: -inf\n",
      "[LightGBM] [Warning] No further splits with positive gain, best gain: -inf\n",
      "[LightGBM] [Warning] No further splits with positive gain, best gain: -inf\n",
      "[LightGBM] [Warning] No further splits with positive gain, best gain: -inf\n",
      "[LightGBM] [Warning] No further splits with positive gain, best gain: -inf\n",
      "[LightGBM] [Warning] No further splits with positive gain, best gain: -inf\n",
      "[LightGBM] [Warning] No further splits with positive gain, best gain: -inf\n",
      "[LightGBM] [Warning] No further splits with positive gain, best gain: -inf\n",
      "[LightGBM] [Warning] No further splits with positive gain, best gain: -inf\n",
      "[LightGBM] [Warning] No further splits with positive gain, best gain: -inf\n",
      "[LightGBM] [Warning] No further splits with positive gain, best gain: -inf\n",
      "[LightGBM] [Warning] No further splits with positive gain, best gain: -inf\n",
      "[LightGBM] [Warning] No further splits with positive gain, best gain: -inf\n",
      "[LightGBM] [Warning] No further splits with positive gain, best gain: -inf\n",
      "[LightGBM] [Warning] No further splits with positive gain, best gain: -inf\n",
      "[LightGBM] [Warning] No further splits with positive gain, best gain: -inf\n",
      "[LightGBM] [Warning] No further splits with positive gain, best gain: -inf\n",
      "[LightGBM] [Warning] No further splits with positive gain, best gain: -inf\n",
      "[LightGBM] [Warning] No further splits with positive gain, best gain: -inf\n",
      "[LightGBM] [Warning] No further splits with positive gain, best gain: -inf\n",
      "[LightGBM] [Warning] No further splits with positive gain, best gain: -inf\n",
      "[LightGBM] [Warning] No further splits with positive gain, best gain: -inf\n",
      "[LightGBM] [Warning] No further splits with positive gain, best gain: -inf\n",
      "[LightGBM] [Warning] No further splits with positive gain, best gain: -inf\n",
      "[LightGBM] [Warning] No further splits with positive gain, best gain: -inf\n",
      "[LightGBM] [Warning] No further splits with positive gain, best gain: -inf\n",
      "[LightGBM] [Warning] No further splits with positive gain, best gain: -inf\n",
      "[LightGBM] [Warning] No further splits with positive gain, best gain: -inf\n",
      "[LightGBM] [Warning] No further splits with positive gain, best gain: -inf\n",
      "[LightGBM] [Warning] No further splits with positive gain, best gain: -inf\n",
      "[LightGBM] [Warning] No further splits with positive gain, best gain: -inf\n",
      "[LightGBM] [Warning] No further splits with positive gain, best gain: -inf\n",
      "[LightGBM] [Warning] No further splits with positive gain, best gain: -inf\n",
      "[LightGBM] [Warning] No further splits with positive gain, best gain: -inf\n",
      "[LightGBM] [Warning] No further splits with positive gain, best gain: -inf\n",
      "[LightGBM] [Warning] No further splits with positive gain, best gain: -inf\n",
      "[LightGBM] [Warning] No further splits with positive gain, best gain: -inf\n",
      "[LightGBM] [Warning] No further splits with positive gain, best gain: -inf\n",
      "[LightGBM] [Warning] No further splits with positive gain, best gain: -inf\n",
      "[LightGBM] [Warning] No further splits with positive gain, best gain: -inf\n",
      "[LightGBM] [Warning] No further splits with positive gain, best gain: -inf\n",
      "[LightGBM] [Warning] No further splits with positive gain, best gain: -inf\n",
      "[LightGBM] [Warning] No further splits with positive gain, best gain: -inf\n",
      "[LightGBM] [Warning] No further splits with positive gain, best gain: -inf\n",
      "[LightGBM] [Warning] No further splits with positive gain, best gain: -inf\n",
      "[LightGBM] [Warning] No further splits with positive gain, best gain: -inf\n",
      "[LightGBM] [Warning] No further splits with positive gain, best gain: -inf\n",
      "[LightGBM] [Warning] No further splits with positive gain, best gain: -inf\n",
      "[LightGBM] [Warning] No further splits with positive gain, best gain: -inf\n",
      "[LightGBM] [Warning] No further splits with positive gain, best gain: -inf\n",
      "[LightGBM] [Warning] No further splits with positive gain, best gain: -inf\n",
      "[LightGBM] [Warning] No further splits with positive gain, best gain: -inf\n",
      "[LightGBM] [Warning] No further splits with positive gain, best gain: -inf\n",
      "[LightGBM] [Warning] No further splits with positive gain, best gain: -inf\n",
      "[LightGBM] [Warning] No further splits with positive gain, best gain: -inf\n",
      "[LightGBM] [Warning] No further splits with positive gain, best gain: -inf\n",
      "[LightGBM] [Warning] No further splits with positive gain, best gain: -inf\n",
      "[LightGBM] [Warning] No further splits with positive gain, best gain: -inf\n",
      "[LightGBM] [Warning] No further splits with positive gain, best gain: -inf\n",
      "[LightGBM] [Warning] No further splits with positive gain, best gain: -inf\n",
      "[LightGBM] [Warning] No further splits with positive gain, best gain: -inf\n",
      "[LightGBM] [Warning] No further splits with positive gain, best gain: -inf\n",
      "[LightGBM] [Warning] No further splits with positive gain, best gain: -inf\n",
      "[LightGBM] [Warning] No further splits with positive gain, best gain: -inf\n",
      "[LightGBM] [Warning] No further splits with positive gain, best gain: -inf\n",
      "[LightGBM] [Warning] No further splits with positive gain, best gain: -inf\n",
      "[LightGBM] [Warning] No further splits with positive gain, best gain: -inf\n",
      "[LightGBM] [Warning] No further splits with positive gain, best gain: -inf\n",
      "[LightGBM] [Warning] No further splits with positive gain, best gain: -inf\n",
      "[LightGBM] [Warning] No further splits with positive gain, best gain: -inf\n",
      "[LightGBM] [Warning] No further splits with positive gain, best gain: -inf\n",
      "[LightGBM] [Warning] No further splits with positive gain, best gain: -inf\n",
      "[LightGBM] [Warning] No further splits with positive gain, best gain: -inf\n",
      "[LightGBM] [Warning] No further splits with positive gain, best gain: -inf\n",
      "[LightGBM] [Warning] No further splits with positive gain, best gain: -inf\n",
      "[LightGBM] [Warning] No further splits with positive gain, best gain: -inf\n",
      "[LightGBM] [Warning] No further splits with positive gain, best gain: -inf\n",
      "[LightGBM] [Warning] No further splits with positive gain, best gain: -inf\n",
      "[LightGBM] [Warning] No further splits with positive gain, best gain: -inf\n",
      "[LightGBM] [Warning] No further splits with positive gain, best gain: -inf\n",
      "[LightGBM] [Warning] No further splits with positive gain, best gain: -inf\n",
      "[LightGBM] [Warning] No further splits with positive gain, best gain: -inf\n",
      "[LightGBM] [Warning] No further splits with positive gain, best gain: -inf\n",
      "[LightGBM] [Warning] No further splits with positive gain, best gain: -inf\n",
      "[LightGBM] [Warning] No further splits with positive gain, best gain: -inf\n",
      "[LightGBM] [Warning] No further splits with positive gain, best gain: -inf\n",
      "[LightGBM] [Warning] No further splits with positive gain, best gain: -inf\n",
      "[LightGBM] [Warning] No further splits with positive gain, best gain: -inf\n",
      "[LightGBM] [Warning] No further splits with positive gain, best gain: -inf\n",
      "[LightGBM] [Warning] No further splits with positive gain, best gain: -inf\n",
      "[LightGBM] [Warning] No further splits with positive gain, best gain: -inf\n",
      "[LightGBM] [Warning] No further splits with positive gain, best gain: -inf\n",
      "[LightGBM] [Warning] No further splits with positive gain, best gain: -inf\n",
      "[LightGBM] [Warning] No further splits with positive gain, best gain: -inf\n",
      "[LightGBM] [Warning] No further splits with positive gain, best gain: -inf\n",
      "[LightGBM] [Warning] No further splits with positive gain, best gain: -inf\n",
      "[LightGBM] [Warning] No further splits with positive gain, best gain: -inf\n",
      "[LightGBM] [Warning] No further splits with positive gain, best gain: -inf\n"
     ]
    }
   ],
   "source": [
    "import lightgbm as lgb\n",
    "\n",
    "# Create dataset\n",
    "train_data = lgb.Dataset(X_train, label=y_train_mod)\n",
    "val_data = lgb.Dataset(X_val, label=y_val_mod)\n",
    "\n",
    "# Set parameters\n",
    "params = {\n",
    "    'objective': 'multiclass',\n",
    "    'num_class': 6,  # Number of classes\n",
    "    'metric': 'multi_logloss',  # Metric for multi-class classification\n",
    "    'num_leaves': 31,\n",
    "    'learning_rate': 0.1,\n",
    "    'feature_fraction': 0.8,\n",
    "    'bagging_fraction': 0.8,\n",
    "    'bagging_freq': 5,\n",
    "    'verbose': -1,\n",
    "    'random_state': 42\n",
    "}\n",
    "\n",
    "lgb_params = {\n",
    "        'boosting_type': 'gbdt',\n",
    "        'objective': 'multiclass',\n",
    "        'num_class': 6,\n",
    "        'metric': 'multi_logloss',\n",
    "        'learning_rate': 0.2,\n",
    "        #'is_unbalance': 'true',  #because training data is unbalance (replaced with scale_pos_weight)\n",
    "        'num_leaves': 31,  # we should let it be smaller than 2^(max_depth)\n",
    "        'max_depth': 5,  # -1 means no limit\n",
    "        'min_child_samples': 20,  # Minimum number of data need in a child(min_data_in_leaf)\n",
    "        'max_bin': 255,  # Number of bucketed bin for feature values\n",
    "        'subsample': 0.6,  # Subsample ratio of the training instance.\n",
    "        'subsample_freq': 0,  # frequence of subsample, <=0 means no enable\n",
    "        'colsample_bytree': 0.3,  # Subsample ratio of columns when constructing each tree.\n",
    "        'min_child_weight': 5,  # Minimum sum of instance weight(hessian) needed in a child(leaf)\n",
    "        'subsample_for_bin': 200000,  # Number of samples for constructing bin\n",
    "        'reg_alpha': 0,  # L1 regularization term on weights\n",
    "        'reg_lambda': 0,  # L2 regularization term on weights\n",
    "        'nthread': 4,\n",
    "        'verbose': 0,\n",
    "    }\n",
    "\n",
    "\n",
    "# Train the model\n",
    "model = lgb.train(lgb_params, train_data, valid_sets=[val_data])\n",
    "\n",
    "# Make predictions\n",
    "y_pred = model.predict(X_val, num_iteration=model.best_iteration)\n",
    "y_pred_class = np.argmax(y_pred, axis=1)  # Get class labels"
   ]
  },
  {
   "cell_type": "code",
   "execution_count": 15,
   "id": "72ac2408",
   "metadata": {
    "execution": {
     "iopub.execute_input": "2024-05-17T06:27:13.829644Z",
     "iopub.status.busy": "2024-05-17T06:27:13.829004Z",
     "iopub.status.idle": "2024-05-17T06:27:13.994370Z",
     "shell.execute_reply": "2024-05-17T06:27:13.993171Z"
    },
    "papermill": {
     "duration": 0.196897,
     "end_time": "2024-05-17T06:27:13.996752",
     "exception": false,
     "start_time": "2024-05-17T06:27:13.799855",
     "status": "completed"
    },
    "tags": []
   },
   "outputs": [
    {
     "name": "stdout",
     "output_type": "stream",
     "text": [
      "Validation Accuracy: 0.9373\n",
      "Validation F1-score (macro): 0.8291\n",
      "Micro-averaged Precision: 0.9373\n"
     ]
    }
   ],
   "source": [
    "# Evaluate the final model\n",
    "accuracy = accuracy_score(y_val_mod, y_pred_class)\n",
    "f1 = f1_score(y_val_mod, y_pred_class, average='macro')\n",
    "print(f'Validation Accuracy: {accuracy:.4f}')\n",
    "print(f'Validation F1-score (macro): {f1:.4f}')\n",
    "micro_prec = precision_score(y_val_mod, y_pred_class, average='micro')\n",
    "print(f\"Micro-averaged Precision: {micro_prec:.4f}\")"
   ]
  },
  {
   "cell_type": "code",
   "execution_count": 16,
   "id": "85408d5e",
   "metadata": {
    "execution": {
     "iopub.execute_input": "2024-05-17T06:27:14.053509Z",
     "iopub.status.busy": "2024-05-17T06:27:14.052713Z",
     "iopub.status.idle": "2024-05-17T06:27:14.076232Z",
     "shell.execute_reply": "2024-05-17T06:27:14.075029Z"
    },
    "papermill": {
     "duration": 0.056186,
     "end_time": "2024-05-17T06:27:14.080065",
     "exception": false,
     "start_time": "2024-05-17T06:27:14.023879",
     "status": "completed"
    },
    "tags": []
   },
   "outputs": [
    {
     "data": {
      "text/plain": [
       "6"
      ]
     },
     "execution_count": 16,
     "metadata": {},
     "output_type": "execute_result"
    }
   ],
   "source": [
    "len(np.unique(y_train))"
   ]
  },
  {
   "cell_type": "code",
   "execution_count": 17,
   "id": "c807faa8",
   "metadata": {
    "execution": {
     "iopub.execute_input": "2024-05-17T06:27:14.137856Z",
     "iopub.status.busy": "2024-05-17T06:27:14.136814Z",
     "iopub.status.idle": "2024-05-17T06:27:14.144203Z",
     "shell.execute_reply": "2024-05-17T06:27:14.143014Z"
    },
    "papermill": {
     "duration": 0.038938,
     "end_time": "2024-05-17T06:27:14.146698",
     "exception": false,
     "start_time": "2024-05-17T06:27:14.107760",
     "status": "completed"
    },
    "tags": []
   },
   "outputs": [
    {
     "data": {
      "text/plain": [
       "Index(['luxury_sales', 'fresh_sales', 'dry_sales'], dtype='object')"
      ]
     },
     "execution_count": 17,
     "metadata": {},
     "output_type": "execute_result"
    }
   ],
   "source": [
    "X_train.columns"
   ]
  },
  {
   "cell_type": "code",
   "execution_count": 18,
   "id": "c61e4264",
   "metadata": {
    "execution": {
     "iopub.execute_input": "2024-05-17T06:27:14.203707Z",
     "iopub.status.busy": "2024-05-17T06:27:14.203339Z",
     "iopub.status.idle": "2024-05-17T06:27:14.211891Z",
     "shell.execute_reply": "2024-05-17T06:27:14.210910Z"
    },
    "papermill": {
     "duration": 0.040206,
     "end_time": "2024-05-17T06:27:14.214514",
     "exception": false,
     "start_time": "2024-05-17T06:27:14.174308",
     "status": "completed"
    },
    "tags": []
   },
   "outputs": [],
   "source": [
    "X_train_ground = X_train.copy()"
   ]
  },
  {
   "cell_type": "code",
   "execution_count": 19,
   "id": "77973210",
   "metadata": {
    "execution": {
     "iopub.execute_input": "2024-05-17T06:27:14.273104Z",
     "iopub.status.busy": "2024-05-17T06:27:14.272704Z",
     "iopub.status.idle": "2024-05-17T06:27:14.289968Z",
     "shell.execute_reply": "2024-05-17T06:27:14.288730Z"
    },
    "papermill": {
     "duration": 0.050094,
     "end_time": "2024-05-17T06:27:14.292706",
     "exception": false,
     "start_time": "2024-05-17T06:27:14.242612",
     "status": "completed"
    },
    "tags": []
   },
   "outputs": [],
   "source": [
    "X_train_ground['luxury_sales'] = X_train['luxury_sales'].round(2)\n",
    "X_train_ground['fresh_sales'] = X_train['fresh_sales'].round(2)\n",
    "X_train_ground['dry_sales'] = X_train['dry_sales'].round(2)"
   ]
  },
  {
   "cell_type": "code",
   "execution_count": 20,
   "id": "42621010",
   "metadata": {
    "execution": {
     "iopub.execute_input": "2024-05-17T06:27:14.350296Z",
     "iopub.status.busy": "2024-05-17T06:27:14.349887Z",
     "iopub.status.idle": "2024-05-17T06:27:14.355161Z",
     "shell.execute_reply": "2024-05-17T06:27:14.354143Z"
    },
    "papermill": {
     "duration": 0.03686,
     "end_time": "2024-05-17T06:27:14.357394",
     "exception": false,
     "start_time": "2024-05-17T06:27:14.320534",
     "status": "completed"
    },
    "tags": []
   },
   "outputs": [],
   "source": [
    "X_val_ground = X_val.copy()"
   ]
  },
  {
   "cell_type": "code",
   "execution_count": 21,
   "id": "297e082a",
   "metadata": {
    "execution": {
     "iopub.execute_input": "2024-05-17T06:27:14.478591Z",
     "iopub.status.busy": "2024-05-17T06:27:14.478194Z",
     "iopub.status.idle": "2024-05-17T06:27:14.487228Z",
     "shell.execute_reply": "2024-05-17T06:27:14.485963Z"
    },
    "papermill": {
     "duration": 0.104934,
     "end_time": "2024-05-17T06:27:14.489771",
     "exception": false,
     "start_time": "2024-05-17T06:27:14.384837",
     "status": "completed"
    },
    "tags": []
   },
   "outputs": [],
   "source": [
    "X_val_ground['luxury_sales'] = X_val['luxury_sales'].round(2)\n",
    "X_val_ground['fresh_sales'] = X_val['fresh_sales'].round(2)\n",
    "X_val_ground['dry_sales'] = X_val['dry_sales'].round(2)"
   ]
  },
  {
   "cell_type": "code",
   "execution_count": 22,
   "id": "f177a097",
   "metadata": {
    "execution": {
     "iopub.execute_input": "2024-05-17T06:27:14.548840Z",
     "iopub.status.busy": "2024-05-17T06:27:14.548453Z",
     "iopub.status.idle": "2024-05-17T06:43:58.160862Z",
     "shell.execute_reply": "2024-05-17T06:43:58.159655Z"
    },
    "papermill": {
     "duration": 1004.632326,
     "end_time": "2024-05-17T06:43:59.151180",
     "exception": false,
     "start_time": "2024-05-17T06:27:14.518854",
     "status": "completed"
    },
    "tags": []
   },
   "outputs": [
    {
     "name": "stderr",
     "output_type": "stream",
     "text": [
      "2024-05-17 06:27:16.842144: E external/local_xla/xla/stream_executor/cuda/cuda_dnn.cc:9261] Unable to register cuDNN factory: Attempting to register factory for plugin cuDNN when one has already been registered\n",
      "2024-05-17 06:27:16.842395: E external/local_xla/xla/stream_executor/cuda/cuda_fft.cc:607] Unable to register cuFFT factory: Attempting to register factory for plugin cuFFT when one has already been registered\n",
      "2024-05-17 06:27:17.018799: E external/local_xla/xla/stream_executor/cuda/cuda_blas.cc:1515] Unable to register cuBLAS factory: Attempting to register factory for plugin cuBLAS when one has already been registered\n",
      "/opt/conda/lib/python3.10/site-packages/keras/src/layers/core/dense.py:86: UserWarning: Do not pass an `input_shape`/`input_dim` argument to a layer. When using Sequential models, prefer using an `Input(shape)` object as the first layer in the model instead.\n",
      "  super().__init__(activity_regularizer=activity_regularizer, **kwargs)\n"
     ]
    },
    {
     "name": "stdout",
     "output_type": "stream",
     "text": [
      "Epoch 1/100\n",
      "\u001b[1m26933/26933\u001b[0m \u001b[32m━━━━━━━━━━━━━━━━━━━━\u001b[0m\u001b[37m\u001b[0m \u001b[1m49s\u001b[0m 2ms/step - accuracy: 0.7603 - loss: 0.4030 - val_accuracy: 0.9439 - val_loss: 0.0926\n",
      "Epoch 2/100\n",
      "\u001b[1m26933/26933\u001b[0m \u001b[32m━━━━━━━━━━━━━━━━━━━━\u001b[0m\u001b[37m\u001b[0m \u001b[1m81s\u001b[0m 2ms/step - accuracy: 0.8185 - loss: 0.2669 - val_accuracy: 0.9437 - val_loss: 0.0921\n",
      "Epoch 3/100\n",
      "\u001b[1m26933/26933\u001b[0m \u001b[32m━━━━━━━━━━━━━━━━━━━━\u001b[0m\u001b[37m\u001b[0m \u001b[1m82s\u001b[0m 2ms/step - accuracy: 0.8186 - loss: 0.2641 - val_accuracy: 0.9439 - val_loss: 0.0975\n",
      "Epoch 4/100\n",
      "\u001b[1m26933/26933\u001b[0m \u001b[32m━━━━━━━━━━━━━━━━━━━━\u001b[0m\u001b[37m\u001b[0m \u001b[1m81s\u001b[0m 2ms/step - accuracy: 0.8187 - loss: 0.2641 - val_accuracy: 0.9315 - val_loss: 0.0960\n",
      "Epoch 5/100\n",
      "\u001b[1m26933/26933\u001b[0m \u001b[32m━━━━━━━━━━━━━━━━━━━━\u001b[0m\u001b[37m\u001b[0m \u001b[1m82s\u001b[0m 2ms/step - accuracy: 0.8191 - loss: 0.2619 - val_accuracy: 0.9375 - val_loss: 0.1071\n",
      "Epoch 6/100\n",
      "\u001b[1m26933/26933\u001b[0m \u001b[32m━━━━━━━━━━━━━━━━━━━━\u001b[0m\u001b[37m\u001b[0m \u001b[1m82s\u001b[0m 2ms/step - accuracy: 0.8188 - loss: 0.2610 - val_accuracy: 0.9311 - val_loss: 0.0965\n",
      "Epoch 7/100\n",
      "\u001b[1m26933/26933\u001b[0m \u001b[32m━━━━━━━━━━━━━━━━━━━━\u001b[0m\u001b[37m\u001b[0m \u001b[1m83s\u001b[0m 2ms/step - accuracy: 0.8191 - loss: 0.2616 - val_accuracy: 0.9310 - val_loss: 0.1044\n",
      "Epoch 8/100\n",
      "\u001b[1m26933/26933\u001b[0m \u001b[32m━━━━━━━━━━━━━━━━━━━━\u001b[0m\u001b[37m\u001b[0m \u001b[1m82s\u001b[0m 2ms/step - accuracy: 0.8188 - loss: 0.2617 - val_accuracy: 0.9439 - val_loss: 0.1025\n",
      "Epoch 9/100\n",
      "\u001b[1m26933/26933\u001b[0m \u001b[32m━━━━━━━━━━━━━━━━━━━━\u001b[0m\u001b[37m\u001b[0m \u001b[1m81s\u001b[0m 2ms/step - accuracy: 0.8190 - loss: 0.2608 - val_accuracy: 0.9439 - val_loss: 0.1002\n",
      "Epoch 10/100\n",
      "\u001b[1m26933/26933\u001b[0m \u001b[32m━━━━━━━━━━━━━━━━━━━━\u001b[0m\u001b[37m\u001b[0m \u001b[1m82s\u001b[0m 2ms/step - accuracy: 0.8193 - loss: 0.2603 - val_accuracy: 0.9434 - val_loss: 0.1023\n",
      "Epoch 11/100\n",
      "\u001b[1m26933/26933\u001b[0m \u001b[32m━━━━━━━━━━━━━━━━━━━━\u001b[0m\u001b[37m\u001b[0m \u001b[1m82s\u001b[0m 2ms/step - accuracy: 0.8195 - loss: 0.2591 - val_accuracy: 0.9315 - val_loss: 0.1031\n",
      "Epoch 12/100\n",
      "\u001b[1m26933/26933\u001b[0m \u001b[32m━━━━━━━━━━━━━━━━━━━━\u001b[0m\u001b[37m\u001b[0m \u001b[1m81s\u001b[0m 2ms/step - accuracy: 0.8203 - loss: 0.2593 - val_accuracy: 0.9439 - val_loss: 0.1102\n",
      "Epoch 12: early stopping\n",
      "Validation Accuracy: 0.9439\n"
     ]
    }
   ],
   "source": [
    "import numpy as np\n",
    "import tensorflow as tf\n",
    "from tensorflow.keras.models import Sequential\n",
    "from tensorflow.keras.layers import Dense, Dropout\n",
    "from tensorflow.keras.optimizers import Adam\n",
    "from tensorflow.keras.callbacks import EarlyStopping\n",
    "\n",
    "\n",
    "one_hot_encoded_train = tf.keras.utils.to_categorical(y_train_mod)\n",
    "one_hot_encoded_test = tf.keras.utils.to_categorical(y_val_mod)\n",
    "\n",
    "# Convert labels to one-hot encoding\n",
    "num_classes = len(np.unique(y_train))\n",
    "\n",
    "# Define the model architecture\n",
    "model = Sequential()\n",
    "model.add(Dense(64, activation='relu', input_shape=(X_train_ground.shape[1],)))\n",
    "model.add(Dropout(0.2))\n",
    "model.add(Dense(32, activation='relu'))\n",
    "model.add(Dropout(0.2))\n",
    "model.add(Dense(16, activation='relu'))\n",
    "model.add(Dropout(0.2))\n",
    "model.add(Dense(num_classes, activation='softmax'))\n",
    "\n",
    "# Compile the model\n",
    "optimizer = Adam(learning_rate=0.001)\n",
    "model.compile(optimizer=optimizer, loss='categorical_crossentropy', metrics=['accuracy'])\n",
    "\n",
    "# Train the model\n",
    "early_stop = EarlyStopping(monitor='val_loss', patience=10, verbose=1)\n",
    "model.fit(X_train_ground, one_hot_encoded_train, epochs=100, batch_size=32, validation_data=(X_val_ground, one_hot_encoded_test), callbacks=[early_stop], verbose=1)\n",
    "\n",
    "# Evaluate the model\n",
    "loss, accuracy = model.evaluate(X_val_ground, one_hot_encoded_test, verbose=0)\n",
    "print(f'Validation Accuracy: {accuracy:.4f}')"
   ]
  },
  {
   "cell_type": "code",
   "execution_count": 23,
   "id": "7ec17676",
   "metadata": {
    "execution": {
     "iopub.execute_input": "2024-05-17T06:44:01.174169Z",
     "iopub.status.busy": "2024-05-17T06:44:01.173336Z",
     "iopub.status.idle": "2024-05-17T06:44:02.236616Z",
     "shell.execute_reply": "2024-05-17T06:44:02.235525Z"
    },
    "papermill": {
     "duration": 2.112059,
     "end_time": "2024-05-17T06:44:02.239364",
     "exception": false,
     "start_time": "2024-05-17T06:44:00.127305",
     "status": "completed"
    },
    "tags": []
   },
   "outputs": [],
   "source": [
    "clean_set = pd.read_csv('/kaggle/input/cleaned-data/cleaned (1).csv')"
   ]
  },
  {
   "cell_type": "code",
   "execution_count": 24,
   "id": "972b0ea6",
   "metadata": {
    "execution": {
     "iopub.execute_input": "2024-05-17T06:44:04.290138Z",
     "iopub.status.busy": "2024-05-17T06:44:04.288999Z",
     "iopub.status.idle": "2024-05-17T06:44:04.313180Z",
     "shell.execute_reply": "2024-05-17T06:44:04.311909Z"
    },
    "papermill": {
     "duration": 1.078861,
     "end_time": "2024-05-17T06:44:04.316078",
     "exception": false,
     "start_time": "2024-05-17T06:44:03.237217",
     "status": "completed"
    },
    "tags": []
   },
   "outputs": [
    {
     "data": {
      "text/html": [
       "<div>\n",
       "<style scoped>\n",
       "    .dataframe tbody tr th:only-of-type {\n",
       "        vertical-align: middle;\n",
       "    }\n",
       "\n",
       "    .dataframe tbody tr th {\n",
       "        vertical-align: top;\n",
       "    }\n",
       "\n",
       "    .dataframe thead th {\n",
       "        text-align: right;\n",
       "    }\n",
       "</style>\n",
       "<table border=\"1\" class=\"dataframe\">\n",
       "  <thead>\n",
       "    <tr style=\"text-align: right;\">\n",
       "      <th></th>\n",
       "      <th>Unnamed: 0</th>\n",
       "      <th>Customer_ID</th>\n",
       "      <th>outlet_city</th>\n",
       "      <th>luxury_sales</th>\n",
       "      <th>fresh_sales</th>\n",
       "      <th>dry_sales</th>\n",
       "      <th>cluster_catgeory</th>\n",
       "      <th>total_sales</th>\n",
       "      <th>cluster_city_enco</th>\n",
       "      <th>luxery_sales_ratio</th>\n",
       "      <th>fresh_sales_ratio</th>\n",
       "      <th>dry_sales_ratio</th>\n",
       "    </tr>\n",
       "  </thead>\n",
       "  <tbody>\n",
       "    <tr>\n",
       "      <th>0</th>\n",
       "      <td>131072</td>\n",
       "      <td>10370993.0</td>\n",
       "      <td>Moratuwa</td>\n",
       "      <td>2072.47</td>\n",
       "      <td>1462.92</td>\n",
       "      <td>8046.06</td>\n",
       "      <td>4.0</td>\n",
       "      <td>11581.45</td>\n",
       "      <td>3</td>\n",
       "      <td>0.18</td>\n",
       "      <td>0.13</td>\n",
       "      <td>0.69</td>\n",
       "    </tr>\n",
       "    <tr>\n",
       "      <th>1</th>\n",
       "      <td>131073</td>\n",
       "      <td>10751334.0</td>\n",
       "      <td>Nuwara Eliya</td>\n",
       "      <td>1500.60</td>\n",
       "      <td>1200.48</td>\n",
       "      <td>6502.60</td>\n",
       "      <td>4.0</td>\n",
       "      <td>9203.68</td>\n",
       "      <td>4</td>\n",
       "      <td>0.16</td>\n",
       "      <td>0.13</td>\n",
       "      <td>0.71</td>\n",
       "    </tr>\n",
       "    <tr>\n",
       "      <th>2</th>\n",
       "      <td>131074</td>\n",
       "      <td>10482183.0</td>\n",
       "      <td>Dehiwala-Mount Lavinia</td>\n",
       "      <td>2862.00</td>\n",
       "      <td>1431.00</td>\n",
       "      <td>9444.60</td>\n",
       "      <td>4.0</td>\n",
       "      <td>13737.60</td>\n",
       "      <td>2</td>\n",
       "      <td>0.21</td>\n",
       "      <td>0.10</td>\n",
       "      <td>0.69</td>\n",
       "    </tr>\n",
       "    <tr>\n",
       "      <th>3</th>\n",
       "      <td>131075</td>\n",
       "      <td>10594832.0</td>\n",
       "      <td>Kelaniya</td>\n",
       "      <td>2103.15</td>\n",
       "      <td>1822.73</td>\n",
       "      <td>9394.07</td>\n",
       "      <td>4.0</td>\n",
       "      <td>13319.95</td>\n",
       "      <td>2</td>\n",
       "      <td>0.16</td>\n",
       "      <td>0.14</td>\n",
       "      <td>0.71</td>\n",
       "    </tr>\n",
       "    <tr>\n",
       "      <th>4</th>\n",
       "      <td>131076</td>\n",
       "      <td>10418774.0</td>\n",
       "      <td>Peliyagoda</td>\n",
       "      <td>1115.46</td>\n",
       "      <td>619.70</td>\n",
       "      <td>4275.93</td>\n",
       "      <td>4.0</td>\n",
       "      <td>6011.09</td>\n",
       "      <td>2</td>\n",
       "      <td>0.19</td>\n",
       "      <td>0.10</td>\n",
       "      <td>0.71</td>\n",
       "    </tr>\n",
       "  </tbody>\n",
       "</table>\n",
       "</div>"
      ],
      "text/plain": [
       "   Unnamed: 0  Customer_ID             outlet_city  luxury_sales  fresh_sales  \\\n",
       "0      131072   10370993.0                Moratuwa       2072.47      1462.92   \n",
       "1      131073   10751334.0            Nuwara Eliya       1500.60      1200.48   \n",
       "2      131074   10482183.0  Dehiwala-Mount Lavinia       2862.00      1431.00   \n",
       "3      131075   10594832.0                Kelaniya       2103.15      1822.73   \n",
       "4      131076   10418774.0              Peliyagoda       1115.46       619.70   \n",
       "\n",
       "   dry_sales  cluster_catgeory  total_sales  cluster_city_enco  \\\n",
       "0    8046.06               4.0     11581.45                  3   \n",
       "1    6502.60               4.0      9203.68                  4   \n",
       "2    9444.60               4.0     13737.60                  2   \n",
       "3    9394.07               4.0     13319.95                  2   \n",
       "4    4275.93               4.0      6011.09                  2   \n",
       "\n",
       "   luxery_sales_ratio  fresh_sales_ratio  dry_sales_ratio  \n",
       "0                0.18               0.13             0.69  \n",
       "1                0.16               0.13             0.71  \n",
       "2                0.21               0.10             0.69  \n",
       "3                0.16               0.14             0.71  \n",
       "4                0.19               0.10             0.71  "
      ]
     },
     "execution_count": 24,
     "metadata": {},
     "output_type": "execute_result"
    }
   ],
   "source": [
    "clean_set.head()"
   ]
  },
  {
   "cell_type": "code",
   "execution_count": 25,
   "id": "5121b374",
   "metadata": {
    "execution": {
     "iopub.execute_input": "2024-05-17T06:44:06.249832Z",
     "iopub.status.busy": "2024-05-17T06:44:06.249462Z",
     "iopub.status.idle": "2024-05-17T06:44:06.269670Z",
     "shell.execute_reply": "2024-05-17T06:44:06.268714Z"
    },
    "papermill": {
     "duration": 0.989092,
     "end_time": "2024-05-17T06:44:06.272258",
     "exception": false,
     "start_time": "2024-05-17T06:44:05.283166",
     "status": "completed"
    },
    "tags": []
   },
   "outputs": [],
   "source": [
    "clean_set = clean_set.drop(columns=['Customer_ID', 'luxury_sales', 'fresh_sales', 'total_sales', 'cluster_city_enco', 'dry_sales'])"
   ]
  },
  {
   "cell_type": "code",
   "execution_count": 26,
   "id": "ce9090f7",
   "metadata": {
    "execution": {
     "iopub.execute_input": "2024-05-17T06:44:08.263029Z",
     "iopub.status.busy": "2024-05-17T06:44:08.262608Z",
     "iopub.status.idle": "2024-05-17T06:44:08.282706Z",
     "shell.execute_reply": "2024-05-17T06:44:08.281701Z"
    },
    "papermill": {
     "duration": 0.982696,
     "end_time": "2024-05-17T06:44:08.285263",
     "exception": false,
     "start_time": "2024-05-17T06:44:07.302567",
     "status": "completed"
    },
    "tags": []
   },
   "outputs": [],
   "source": [
    "clean_set = clean_set.drop(columns=[clean_set.columns[0]])"
   ]
  },
  {
   "cell_type": "code",
   "execution_count": 27,
   "id": "532d50cd",
   "metadata": {
    "execution": {
     "iopub.execute_input": "2024-05-17T06:44:10.289255Z",
     "iopub.status.busy": "2024-05-17T06:44:10.288830Z",
     "iopub.status.idle": "2024-05-17T06:44:10.303957Z",
     "shell.execute_reply": "2024-05-17T06:44:10.302840Z"
    },
    "papermill": {
     "duration": 0.977555,
     "end_time": "2024-05-17T06:44:10.306227",
     "exception": false,
     "start_time": "2024-05-17T06:44:09.328672",
     "status": "completed"
    },
    "tags": []
   },
   "outputs": [
    {
     "data": {
      "text/html": [
       "<div>\n",
       "<style scoped>\n",
       "    .dataframe tbody tr th:only-of-type {\n",
       "        vertical-align: middle;\n",
       "    }\n",
       "\n",
       "    .dataframe tbody tr th {\n",
       "        vertical-align: top;\n",
       "    }\n",
       "\n",
       "    .dataframe thead th {\n",
       "        text-align: right;\n",
       "    }\n",
       "</style>\n",
       "<table border=\"1\" class=\"dataframe\">\n",
       "  <thead>\n",
       "    <tr style=\"text-align: right;\">\n",
       "      <th></th>\n",
       "      <th>outlet_city</th>\n",
       "      <th>cluster_catgeory</th>\n",
       "      <th>luxery_sales_ratio</th>\n",
       "      <th>fresh_sales_ratio</th>\n",
       "      <th>dry_sales_ratio</th>\n",
       "    </tr>\n",
       "  </thead>\n",
       "  <tbody>\n",
       "    <tr>\n",
       "      <th>0</th>\n",
       "      <td>Moratuwa</td>\n",
       "      <td>4.0</td>\n",
       "      <td>0.18</td>\n",
       "      <td>0.13</td>\n",
       "      <td>0.69</td>\n",
       "    </tr>\n",
       "    <tr>\n",
       "      <th>1</th>\n",
       "      <td>Nuwara Eliya</td>\n",
       "      <td>4.0</td>\n",
       "      <td>0.16</td>\n",
       "      <td>0.13</td>\n",
       "      <td>0.71</td>\n",
       "    </tr>\n",
       "    <tr>\n",
       "      <th>2</th>\n",
       "      <td>Dehiwala-Mount Lavinia</td>\n",
       "      <td>4.0</td>\n",
       "      <td>0.21</td>\n",
       "      <td>0.10</td>\n",
       "      <td>0.69</td>\n",
       "    </tr>\n",
       "    <tr>\n",
       "      <th>3</th>\n",
       "      <td>Kelaniya</td>\n",
       "      <td>4.0</td>\n",
       "      <td>0.16</td>\n",
       "      <td>0.14</td>\n",
       "      <td>0.71</td>\n",
       "    </tr>\n",
       "    <tr>\n",
       "      <th>4</th>\n",
       "      <td>Peliyagoda</td>\n",
       "      <td>4.0</td>\n",
       "      <td>0.19</td>\n",
       "      <td>0.10</td>\n",
       "      <td>0.71</td>\n",
       "    </tr>\n",
       "  </tbody>\n",
       "</table>\n",
       "</div>"
      ],
      "text/plain": [
       "              outlet_city  cluster_catgeory  luxery_sales_ratio  \\\n",
       "0                Moratuwa               4.0                0.18   \n",
       "1            Nuwara Eliya               4.0                0.16   \n",
       "2  Dehiwala-Mount Lavinia               4.0                0.21   \n",
       "3                Kelaniya               4.0                0.16   \n",
       "4              Peliyagoda               4.0                0.19   \n",
       "\n",
       "   fresh_sales_ratio  dry_sales_ratio  \n",
       "0               0.13             0.69  \n",
       "1               0.13             0.71  \n",
       "2               0.10             0.69  \n",
       "3               0.14             0.71  \n",
       "4               0.10             0.71  "
      ]
     },
     "execution_count": 27,
     "metadata": {},
     "output_type": "execute_result"
    }
   ],
   "source": [
    "clean_set.head()"
   ]
  },
  {
   "cell_type": "code",
   "execution_count": 28,
   "id": "9f80400f",
   "metadata": {
    "execution": {
     "iopub.execute_input": "2024-05-17T06:44:12.297215Z",
     "iopub.status.busy": "2024-05-17T06:44:12.296384Z",
     "iopub.status.idle": "2024-05-17T06:44:12.304651Z",
     "shell.execute_reply": "2024-05-17T06:44:12.303430Z"
    },
    "papermill": {
     "duration": 0.971808,
     "end_time": "2024-05-17T06:44:12.307266",
     "exception": false,
     "start_time": "2024-05-17T06:44:11.335458",
     "status": "completed"
    },
    "tags": []
   },
   "outputs": [],
   "source": [
    "clean_set['cluster_catgeory'] = clean_set['cluster_catgeory'].astype(int)"
   ]
  },
  {
   "cell_type": "code",
   "execution_count": 29,
   "id": "1b8fa7d7",
   "metadata": {
    "execution": {
     "iopub.execute_input": "2024-05-17T06:44:14.329848Z",
     "iopub.status.busy": "2024-05-17T06:44:14.329466Z",
     "iopub.status.idle": "2024-05-17T06:44:14.351359Z",
     "shell.execute_reply": "2024-05-17T06:44:14.350299Z"
    },
    "papermill": {
     "duration": 1.071444,
     "end_time": "2024-05-17T06:44:14.353967",
     "exception": false,
     "start_time": "2024-05-17T06:44:13.282523",
     "status": "completed"
    },
    "tags": []
   },
   "outputs": [],
   "source": [
    "label_mapping = {1: 0, 2: 1, 3: 2, 4: 3, 5: 4, 6: 5}\n",
    "\n",
    "clean_set['cluster_catgeory'] = clean_set['cluster_catgeory'].replace(label_mapping)"
   ]
  },
  {
   "cell_type": "code",
   "execution_count": 30,
   "id": "68f1e9f9",
   "metadata": {
    "execution": {
     "iopub.execute_input": "2024-05-17T06:44:16.348484Z",
     "iopub.status.busy": "2024-05-17T06:44:16.348101Z",
     "iopub.status.idle": "2024-05-17T06:44:16.361433Z",
     "shell.execute_reply": "2024-05-17T06:44:16.360220Z"
    },
    "papermill": {
     "duration": 1.050479,
     "end_time": "2024-05-17T06:44:16.364023",
     "exception": false,
     "start_time": "2024-05-17T06:44:15.313544",
     "status": "completed"
    },
    "tags": []
   },
   "outputs": [
    {
     "data": {
      "text/html": [
       "<div>\n",
       "<style scoped>\n",
       "    .dataframe tbody tr th:only-of-type {\n",
       "        vertical-align: middle;\n",
       "    }\n",
       "\n",
       "    .dataframe tbody tr th {\n",
       "        vertical-align: top;\n",
       "    }\n",
       "\n",
       "    .dataframe thead th {\n",
       "        text-align: right;\n",
       "    }\n",
       "</style>\n",
       "<table border=\"1\" class=\"dataframe\">\n",
       "  <thead>\n",
       "    <tr style=\"text-align: right;\">\n",
       "      <th></th>\n",
       "      <th>outlet_city</th>\n",
       "      <th>cluster_catgeory</th>\n",
       "      <th>luxery_sales_ratio</th>\n",
       "      <th>fresh_sales_ratio</th>\n",
       "      <th>dry_sales_ratio</th>\n",
       "    </tr>\n",
       "  </thead>\n",
       "  <tbody>\n",
       "    <tr>\n",
       "      <th>0</th>\n",
       "      <td>Moratuwa</td>\n",
       "      <td>3</td>\n",
       "      <td>0.18</td>\n",
       "      <td>0.13</td>\n",
       "      <td>0.69</td>\n",
       "    </tr>\n",
       "    <tr>\n",
       "      <th>1</th>\n",
       "      <td>Nuwara Eliya</td>\n",
       "      <td>3</td>\n",
       "      <td>0.16</td>\n",
       "      <td>0.13</td>\n",
       "      <td>0.71</td>\n",
       "    </tr>\n",
       "    <tr>\n",
       "      <th>2</th>\n",
       "      <td>Dehiwala-Mount Lavinia</td>\n",
       "      <td>3</td>\n",
       "      <td>0.21</td>\n",
       "      <td>0.10</td>\n",
       "      <td>0.69</td>\n",
       "    </tr>\n",
       "    <tr>\n",
       "      <th>3</th>\n",
       "      <td>Kelaniya</td>\n",
       "      <td>3</td>\n",
       "      <td>0.16</td>\n",
       "      <td>0.14</td>\n",
       "      <td>0.71</td>\n",
       "    </tr>\n",
       "    <tr>\n",
       "      <th>4</th>\n",
       "      <td>Peliyagoda</td>\n",
       "      <td>3</td>\n",
       "      <td>0.19</td>\n",
       "      <td>0.10</td>\n",
       "      <td>0.71</td>\n",
       "    </tr>\n",
       "  </tbody>\n",
       "</table>\n",
       "</div>"
      ],
      "text/plain": [
       "              outlet_city  cluster_catgeory  luxery_sales_ratio  \\\n",
       "0                Moratuwa                 3                0.18   \n",
       "1            Nuwara Eliya                 3                0.16   \n",
       "2  Dehiwala-Mount Lavinia                 3                0.21   \n",
       "3                Kelaniya                 3                0.16   \n",
       "4              Peliyagoda                 3                0.19   \n",
       "\n",
       "   fresh_sales_ratio  dry_sales_ratio  \n",
       "0               0.13             0.69  \n",
       "1               0.13             0.71  \n",
       "2               0.10             0.69  \n",
       "3               0.14             0.71  \n",
       "4               0.10             0.71  "
      ]
     },
     "execution_count": 30,
     "metadata": {},
     "output_type": "execute_result"
    }
   ],
   "source": [
    "clean_set.head()"
   ]
  },
  {
   "cell_type": "code",
   "execution_count": 31,
   "id": "dafa5d88",
   "metadata": {
    "execution": {
     "iopub.execute_input": "2024-05-17T06:44:18.278745Z",
     "iopub.status.busy": "2024-05-17T06:44:18.278357Z",
     "iopub.status.idle": "2024-05-17T06:44:18.283385Z",
     "shell.execute_reply": "2024-05-17T06:44:18.282124Z"
    },
    "papermill": {
     "duration": 0.966058,
     "end_time": "2024-05-17T06:44:18.285820",
     "exception": false,
     "start_time": "2024-05-17T06:44:17.319762",
     "status": "completed"
    },
    "tags": []
   },
   "outputs": [],
   "source": [
    "from sklearn.model_selection import train_test_split"
   ]
  },
  {
   "cell_type": "code",
   "execution_count": 32,
   "id": "18326e14",
   "metadata": {
    "execution": {
     "iopub.execute_input": "2024-05-17T06:44:20.302908Z",
     "iopub.status.busy": "2024-05-17T06:44:20.302527Z",
     "iopub.status.idle": "2024-05-17T06:44:20.420577Z",
     "shell.execute_reply": "2024-05-17T06:44:20.419637Z"
    },
    "papermill": {
     "duration": 1.088635,
     "end_time": "2024-05-17T06:44:20.423084",
     "exception": false,
     "start_time": "2024-05-17T06:44:19.334449",
     "status": "completed"
    },
    "tags": []
   },
   "outputs": [],
   "source": [
    "X = clean_set.drop(columns=['cluster_catgeory'])\n",
    "y = clean_set['cluster_catgeory']\n",
    "\n",
    "X_train, X_val, y_train, y_val = train_test_split(X, y, test_size=0.2, random_state=42)"
   ]
  },
  {
   "cell_type": "code",
   "execution_count": 33,
   "id": "79446c75",
   "metadata": {
    "execution": {
     "iopub.execute_input": "2024-05-17T06:44:22.412582Z",
     "iopub.status.busy": "2024-05-17T06:44:22.411888Z",
     "iopub.status.idle": "2024-05-17T06:44:28.959420Z",
     "shell.execute_reply": "2024-05-17T06:44:28.957940Z"
    },
    "papermill": {
     "duration": 7.58168,
     "end_time": "2024-05-17T06:44:28.962051",
     "exception": false,
     "start_time": "2024-05-17T06:44:21.380371",
     "status": "completed"
    },
    "tags": []
   },
   "outputs": [
    {
     "name": "stdout",
     "output_type": "stream",
     "text": [
      "Validation MSE: 0.0011\n"
     ]
    }
   ],
   "source": [
    "import numpy as np\n",
    "import pandas as pd\n",
    "from lightgbm import LGBMRegressor\n",
    "from sklearn.metrics import mean_squared_error\n",
    "from tqdm import tqdm\n",
    "\n",
    "\n",
    "\n",
    "# Identify categorical features\n",
    "categorical_features = [feature for feature in X.columns if X[feature].dtype == 'object']\n",
    "\n",
    "# Convert categorical features to category data type\n",
    "for feature in categorical_features:\n",
    "    X_train[feature] = X_train[feature].astype('category')\n",
    "    X_val[feature] = X_val[feature].astype('category')\n",
    "\n",
    "# Define hyperparameters\n",
    "params = {\n",
    "    'boosting_type': 'gbdt',\n",
    "    'objective': 'regression',\n",
    "    'metric': 'rmse',\n",
    "    'num_leaves': 31,\n",
    "    'learning_rate': 0.1,\n",
    "    'feature_fraction': 0.8,\n",
    "    'bagging_fraction': 0.8,\n",
    "    'bagging_freq': 5,\n",
    "    'verbose': -1,\n",
    "    'reg_alpha': 0.1,\n",
    "    'reg_lambda': 0.1,\n",
    "    'max_depth': -1,\n",
    "    'random_state': 42\n",
    "}\n",
    "\n",
    "# Train the model with early stopping and optimized hyperparameters\n",
    "model = LGBMRegressor(**params)\n",
    "model.fit(X_train, y_train, eval_set=[(X_val, y_val)])\n",
    "\n",
    "\n",
    "# Make predictions on the validation set\n",
    "val_preds = model.predict(X_val)\n",
    "\n",
    "# Evaluate the model\n",
    "mse = mean_squared_error(y_val, val_preds)\n",
    "print(f'Validation MSE: {mse:.4f}')"
   ]
  },
  {
   "cell_type": "code",
   "execution_count": 34,
   "id": "1bafc442",
   "metadata": {
    "execution": {
     "iopub.execute_input": "2024-05-17T06:44:31.016187Z",
     "iopub.status.busy": "2024-05-17T06:44:31.015364Z",
     "iopub.status.idle": "2024-05-17T06:44:31.020906Z",
     "shell.execute_reply": "2024-05-17T06:44:31.020078Z"
    },
    "papermill": {
     "duration": 1.053599,
     "end_time": "2024-05-17T06:44:31.023246",
     "exception": false,
     "start_time": "2024-05-17T06:44:29.969647",
     "status": "completed"
    },
    "tags": []
   },
   "outputs": [],
   "source": [
    "val_preds = np.round(val_preds).astype(int)"
   ]
  },
  {
   "cell_type": "code",
   "execution_count": 35,
   "id": "27ec2487",
   "metadata": {
    "execution": {
     "iopub.execute_input": "2024-05-17T06:44:32.938682Z",
     "iopub.status.busy": "2024-05-17T06:44:32.938285Z",
     "iopub.status.idle": "2024-05-17T06:44:33.077410Z",
     "shell.execute_reply": "2024-05-17T06:44:33.076011Z"
    },
    "papermill": {
     "duration": 1.101766,
     "end_time": "2024-05-17T06:44:33.080440",
     "exception": false,
     "start_time": "2024-05-17T06:44:31.978674",
     "status": "completed"
    },
    "tags": []
   },
   "outputs": [
    {
     "name": "stdout",
     "output_type": "stream",
     "text": [
      "Validation Accuracy: 0.9998\n",
      "Validation F1-score (macro): 0.9997\n",
      "Micro-averaged Precision: 0.9998\n"
     ]
    }
   ],
   "source": [
    "# Evaluate the final model\n",
    "accuracy = accuracy_score(y_val, val_preds)\n",
    "f1 = f1_score(y_val, val_preds, average='macro')\n",
    "print(f'Validation Accuracy: {accuracy:.4f}')\n",
    "print(f'Validation F1-score (macro): {f1:.4f}')\n",
    "micro_prec = precision_score(y_val, val_preds, average='micro')\n",
    "print(f\"Micro-averaged Precision: {micro_prec:.4f}\")"
   ]
  },
  {
   "cell_type": "code",
   "execution_count": 36,
   "id": "763265a0",
   "metadata": {
    "execution": {
     "iopub.execute_input": "2024-05-17T06:44:35.091185Z",
     "iopub.status.busy": "2024-05-17T06:44:35.089566Z",
     "iopub.status.idle": "2024-05-17T06:47:03.766212Z",
     "shell.execute_reply": "2024-05-17T06:47:03.764993Z"
    },
    "papermill": {
     "duration": 150.555013,
     "end_time": "2024-05-17T06:47:04.676327",
     "exception": false,
     "start_time": "2024-05-17T06:44:34.121314",
     "status": "completed"
    },
    "tags": []
   },
   "outputs": [
    {
     "name": "stderr",
     "output_type": "stream",
     "text": [
      "Warning: Overfitting detector is active, thus evaluation metric is calculated on every iteration. 'metric_period' is ignored for evaluation metric.\n"
     ]
    },
    {
     "name": "stdout",
     "output_type": "stream",
     "text": [
      "0:\tlearn: 1.3529215\ttest: 1.3528612\tbest: 1.3528612 (0)\ttotal: 1.39s\tremaining: 23m 13s\n",
      "100:\tlearn: 0.0018878\ttest: 0.0018037\tbest: 0.0018030 (98)\ttotal: 1m 33s\tremaining: 13m 48s\n",
      "Stopped by overfitting detector  (50 iterations wait)\n",
      "\n",
      "bestTest = 0.001794152772\n",
      "bestIteration = 121\n",
      "\n",
      "Shrink model to first 122 iterations.\n",
      "Validation MSE: 0.0011\n",
      "Validation Accuracy: 0.9998\n",
      "Validation F1-score (macro): 0.9997\n",
      "Micro-averaged Precision: 0.9998\n"
     ]
    }
   ],
   "source": [
    "from catboost import CatBoostClassifier, Pool\n",
    "\n",
    "\n",
    "\n",
    "# Identify categorical features\n",
    "categorical_features = [feature for feature in X.columns if X[feature].dtype == 'object']\n",
    "\n",
    "# Create Pool objects\n",
    "train_pool = Pool(X_train, y_train, cat_features=categorical_features)\n",
    "val_pool = Pool(X_val, y_val, cat_features=categorical_features)\n",
    "\n",
    "# Set parameters\n",
    "params = {\n",
    "    'iterations': 1000,\n",
    "    'learning_rate': 0.1,\n",
    "    'depth': 6,\n",
    "    'l2_leaf_reg': 3,\n",
    "    'random_strength': 1,\n",
    "    'bagging_temperature': 0.5,\n",
    "    'metric_period': 50,\n",
    "    'od_type': 'Iter',\n",
    "    'od_wait': 50,\n",
    "    'allow_writing_files': False\n",
    "}\n",
    "\n",
    "# Train the model\n",
    "model = CatBoostClassifier(**params)\n",
    "model.fit(train_pool, eval_set=val_pool, use_best_model=True, verbose=100)\n",
    "\n",
    "# Make predictions on the validation set\n",
    "val_preds = model.predict(X_val)\n",
    "\n",
    "# Evaluate the model\n",
    "mse = mean_squared_error(y_val, val_preds)\n",
    "print(f'Validation MSE: {mse:.4f}')\n",
    "\n",
    "# Evaluate the final model\n",
    "accuracy = accuracy_score(y_val, val_preds)\n",
    "f1 = f1_score(y_val, val_preds, average='macro')\n",
    "print(f'Validation Accuracy: {accuracy:.4f}')\n",
    "print(f'Validation F1-score (macro): {f1:.4f}')\n",
    "micro_prec = precision_score(y_val, val_preds, average='micro')\n",
    "print(f\"Micro-averaged Precision: {micro_prec:.4f}\")"
   ]
  },
  {
   "cell_type": "code",
   "execution_count": 37,
   "id": "9bd7a6a7",
   "metadata": {
    "execution": {
     "iopub.execute_input": "2024-05-17T06:47:06.655607Z",
     "iopub.status.busy": "2024-05-17T06:47:06.655215Z",
     "iopub.status.idle": "2024-05-17T06:47:06.663852Z",
     "shell.execute_reply": "2024-05-17T06:47:06.662836Z"
    },
    "papermill": {
     "duration": 1.039658,
     "end_time": "2024-05-17T06:47:06.666202",
     "exception": false,
     "start_time": "2024-05-17T06:47:05.626544",
     "status": "completed"
    },
    "tags": []
   },
   "outputs": [],
   "source": [
    "X_train_np = X_train.copy()\n",
    "X_val_np = X_val.copy()"
   ]
  },
  {
   "cell_type": "code",
   "execution_count": 38,
   "id": "a6425309",
   "metadata": {
    "execution": {
     "iopub.execute_input": "2024-05-17T06:47:08.612472Z",
     "iopub.status.busy": "2024-05-17T06:47:08.611519Z",
     "iopub.status.idle": "2024-05-17T06:47:08.622334Z",
     "shell.execute_reply": "2024-05-17T06:47:08.621192Z"
    },
    "papermill": {
     "duration": 1.001881,
     "end_time": "2024-05-17T06:47:08.624725",
     "exception": false,
     "start_time": "2024-05-17T06:47:07.622844",
     "status": "completed"
    },
    "tags": []
   },
   "outputs": [],
   "source": [
    "X_train_np = X_train.drop(columns=['outlet_city'])\n",
    "X_val_np = X_val.drop(columns=['outlet_city'])"
   ]
  },
  {
   "cell_type": "code",
   "execution_count": 39,
   "id": "8c18d967",
   "metadata": {
    "execution": {
     "iopub.execute_input": "2024-05-17T06:47:10.615017Z",
     "iopub.status.busy": "2024-05-17T06:47:10.614272Z",
     "iopub.status.idle": "2024-05-17T06:56:10.030199Z",
     "shell.execute_reply": "2024-05-17T06:56:10.029013Z"
    },
    "papermill": {
     "duration": 542.010664,
     "end_time": "2024-05-17T06:56:11.659345",
     "exception": false,
     "start_time": "2024-05-17T06:47:09.648681",
     "status": "completed"
    },
    "tags": []
   },
   "outputs": [
    {
     "name": "stderr",
     "output_type": "stream",
     "text": [
      "/opt/conda/lib/python3.10/site-packages/keras/src/layers/core/dense.py:86: UserWarning: Do not pass an `input_shape`/`input_dim` argument to a layer. When using Sequential models, prefer using an `Input(shape)` object as the first layer in the model instead.\n",
      "  super().__init__(activity_regularizer=activity_regularizer, **kwargs)\n"
     ]
    },
    {
     "name": "stdout",
     "output_type": "stream",
     "text": [
      "Epoch 1/15\n",
      "\u001b[1m15303/15303\u001b[0m \u001b[32m━━━━━━━━━━━━━━━━━━━━\u001b[0m\u001b[37m\u001b[0m \u001b[1m30s\u001b[0m 2ms/step - accuracy: 0.8781 - loss: 0.2714 - val_accuracy: 0.9534 - val_loss: 0.0779\n",
      "Epoch 2/15\n",
      "\u001b[1m15303/15303\u001b[0m \u001b[32m━━━━━━━━━━━━━━━━━━━━\u001b[0m\u001b[37m\u001b[0m \u001b[1m41s\u001b[0m 2ms/step - accuracy: 0.9481 - loss: 0.0954 - val_accuracy: 0.9509 - val_loss: 0.0930\n",
      "Epoch 3/15\n",
      "\u001b[1m15303/15303\u001b[0m \u001b[32m━━━━━━━━━━━━━━━━━━━━\u001b[0m\u001b[37m\u001b[0m \u001b[1m41s\u001b[0m 2ms/step - accuracy: 0.9495 - loss: 0.0901 - val_accuracy: 0.9542 - val_loss: 0.0759\n",
      "Epoch 4/15\n",
      "\u001b[1m15303/15303\u001b[0m \u001b[32m━━━━━━━━━━━━━━━━━━━━\u001b[0m\u001b[37m\u001b[0m \u001b[1m41s\u001b[0m 2ms/step - accuracy: 0.9499 - loss: 0.0870 - val_accuracy: 0.9540 - val_loss: 0.0775\n",
      "Epoch 5/15\n",
      "\u001b[1m15303/15303\u001b[0m \u001b[32m━━━━━━━━━━━━━━━━━━━━\u001b[0m\u001b[37m\u001b[0m \u001b[1m41s\u001b[0m 2ms/step - accuracy: 0.9510 - loss: 0.0856 - val_accuracy: 0.9525 - val_loss: 0.0775\n",
      "Epoch 6/15\n",
      "\u001b[1m15303/15303\u001b[0m \u001b[32m━━━━━━━━━━━━━━━━━━━━\u001b[0m\u001b[37m\u001b[0m \u001b[1m41s\u001b[0m 2ms/step - accuracy: 0.9507 - loss: 0.0853 - val_accuracy: 0.9542 - val_loss: 0.0830\n",
      "Epoch 7/15\n",
      "\u001b[1m15303/15303\u001b[0m \u001b[32m━━━━━━━━━━━━━━━━━━━━\u001b[0m\u001b[37m\u001b[0m \u001b[1m41s\u001b[0m 2ms/step - accuracy: 0.9508 - loss: 0.0854 - val_accuracy: 0.9516 - val_loss: 0.0798\n",
      "Epoch 8/15\n",
      "\u001b[1m15303/15303\u001b[0m \u001b[32m━━━━━━━━━━━━━━━━━━━━\u001b[0m\u001b[37m\u001b[0m \u001b[1m41s\u001b[0m 2ms/step - accuracy: 0.9513 - loss: 0.0855 - val_accuracy: 0.9542 - val_loss: 0.0764\n",
      "Epoch 9/15\n",
      "\u001b[1m15303/15303\u001b[0m \u001b[32m━━━━━━━━━━━━━━━━━━━━\u001b[0m\u001b[37m\u001b[0m \u001b[1m41s\u001b[0m 2ms/step - accuracy: 0.9522 - loss: 0.0830 - val_accuracy: 0.9514 - val_loss: 0.0905\n",
      "Epoch 10/15\n",
      "\u001b[1m15303/15303\u001b[0m \u001b[32m━━━━━━━━━━━━━━━━━━━━\u001b[0m\u001b[37m\u001b[0m \u001b[1m41s\u001b[0m 2ms/step - accuracy: 0.9512 - loss: 0.0856 - val_accuracy: 0.9540 - val_loss: 0.0768\n",
      "Epoch 11/15\n",
      "\u001b[1m15303/15303\u001b[0m \u001b[32m━━━━━━━━━━━━━━━━━━━━\u001b[0m\u001b[37m\u001b[0m \u001b[1m41s\u001b[0m 2ms/step - accuracy: 0.9520 - loss: 0.0835 - val_accuracy: 0.9541 - val_loss: 0.0763\n",
      "Epoch 12/15\n",
      "\u001b[1m15303/15303\u001b[0m \u001b[32m━━━━━━━━━━━━━━━━━━━━\u001b[0m\u001b[37m\u001b[0m \u001b[1m41s\u001b[0m 2ms/step - accuracy: 0.9518 - loss: 0.0840 - val_accuracy: 0.9542 - val_loss: 0.0774\n",
      "Epoch 13/15\n",
      "\u001b[1m15303/15303\u001b[0m \u001b[32m━━━━━━━━━━━━━━━━━━━━\u001b[0m\u001b[37m\u001b[0m \u001b[1m41s\u001b[0m 2ms/step - accuracy: 0.9525 - loss: 0.0835 - val_accuracy: 0.9540 - val_loss: 0.0804\n",
      "Epoch 13: early stopping\n",
      "Validation Accuracy: 0.9540\n"
     ]
    }
   ],
   "source": [
    "import numpy as np\n",
    "import tensorflow as tf\n",
    "from tensorflow.keras.models import Sequential\n",
    "from tensorflow.keras.layers import Dense, Dropout\n",
    "from tensorflow.keras.optimizers import Adam\n",
    "from tensorflow.keras.callbacks import EarlyStopping\n",
    "\n",
    "\n",
    "one_hot_encoded_train = tf.keras.utils.to_categorical(y_train)\n",
    "one_hot_encoded_test = tf.keras.utils.to_categorical(y_val)\n",
    "\n",
    "# Convert labels to one-hot encoding\n",
    "num_classes = len(np.unique(y_train))\n",
    "\n",
    "# Define the model architecture\n",
    "model = Sequential()\n",
    "model.add(Dense(64, activation='relu', input_shape=(X_train_np.shape[1],)))\n",
    "model.add(Dropout(0.2))\n",
    "model.add(Dense(32, activation='relu'))\n",
    "model.add(Dropout(0.2))\n",
    "model.add(Dense(16, activation='relu'))\n",
    "model.add(Dropout(0.2))\n",
    "model.add(Dense(num_classes, activation='softmax'))\n",
    "\n",
    "# Compile the model\n",
    "optimizer = Adam(learning_rate=0.001)\n",
    "model.compile(optimizer=optimizer, loss='categorical_crossentropy', metrics=['accuracy'])\n",
    "\n",
    "# Train the model\n",
    "early_stop = EarlyStopping(monitor='val_loss', patience=10, verbose=1)\n",
    "model.fit(X_train_np, one_hot_encoded_train, epochs=15, batch_size=32, validation_data=(X_val_np, one_hot_encoded_test), callbacks=[early_stop], verbose=1)\n",
    "\n",
    "# Evaluate the model\n",
    "loss, accuracy = model.evaluate(X_val_np, one_hot_encoded_test, verbose=0)\n",
    "print(f'Validation Accuracy: {accuracy:.4f}')"
   ]
  },
  {
   "cell_type": "code",
   "execution_count": null,
   "id": "a008b1ee",
   "metadata": {
    "papermill": {
     "duration": 1.540008,
     "end_time": "2024-05-17T06:56:14.864567",
     "exception": false,
     "start_time": "2024-05-17T06:56:13.324559",
     "status": "completed"
    },
    "tags": []
   },
   "outputs": [],
   "source": []
  },
  {
   "cell_type": "code",
   "execution_count": 40,
   "id": "8dfb086d",
   "metadata": {
    "execution": {
     "iopub.execute_input": "2024-05-17T06:56:18.042897Z",
     "iopub.status.busy": "2024-05-17T06:56:18.042409Z",
     "iopub.status.idle": "2024-05-17T06:56:18.143970Z",
     "shell.execute_reply": "2024-05-17T06:56:18.142954Z"
    },
    "papermill": {
     "duration": 1.653026,
     "end_time": "2024-05-17T06:56:18.146735",
     "exception": false,
     "start_time": "2024-05-17T06:56:16.493709",
     "status": "completed"
    },
    "tags": []
   },
   "outputs": [],
   "source": [
    "test = pd.read_csv('/kaggle/input/test-set/test_kaggle.csv')"
   ]
  },
  {
   "cell_type": "code",
   "execution_count": 41,
   "id": "babd7a11",
   "metadata": {
    "execution": {
     "iopub.execute_input": "2024-05-17T06:56:21.399581Z",
     "iopub.status.busy": "2024-05-17T06:56:21.399186Z",
     "iopub.status.idle": "2024-05-17T06:56:21.427366Z",
     "shell.execute_reply": "2024-05-17T06:56:21.425876Z"
    },
    "papermill": {
     "duration": 1.664665,
     "end_time": "2024-05-17T06:56:21.429534",
     "exception": false,
     "start_time": "2024-05-17T06:56:19.764869",
     "status": "completed"
    },
    "tags": []
   },
   "outputs": [
    {
     "name": "stdout",
     "output_type": "stream",
     "text": [
      "Rows causing ValueError:\n",
      "Index: 6, Value: Seven Hundread and sixty Ruppees\n",
      "Index: 6299, Value: Eight Hundread and fifteen ruppes\n"
     ]
    }
   ],
   "source": [
    "def convert_to_float_and_find_errors(dataframe, column):\n",
    "    error_rows = []\n",
    "    for index, value in dataframe[column].items():\n",
    "        try:\n",
    "            float(value)\n",
    "        except ValueError:\n",
    "            error_rows.append((index, value))\n",
    "    return error_rows\n",
    "\n",
    "# Convert 'luxury_sales' column to float and find rows causing ValueError\n",
    "error_rows = convert_to_float_and_find_errors(test, 'luxury_sales')\n",
    "\n",
    "# Print rows causing ValueError\n",
    "print(\"Rows causing ValueError:\")\n",
    "for index, value in error_rows:\n",
    "    print(f\"Index: {index}, Value: {value}\")\n"
   ]
  },
  {
   "cell_type": "code",
   "execution_count": 42,
   "id": "303cbf3b",
   "metadata": {
    "execution": {
     "iopub.execute_input": "2024-05-17T06:56:24.625637Z",
     "iopub.status.busy": "2024-05-17T06:56:24.625212Z",
     "iopub.status.idle": "2024-05-17T06:56:24.636908Z",
     "shell.execute_reply": "2024-05-17T06:56:24.635863Z"
    },
    "papermill": {
     "duration": 1.661946,
     "end_time": "2024-05-17T06:56:24.639520",
     "exception": false,
     "start_time": "2024-05-17T06:56:22.977574",
     "status": "completed"
    },
    "tags": []
   },
   "outputs": [
    {
     "name": "stderr",
     "output_type": "stream",
     "text": [
      "/tmp/ipykernel_18/1883175211.py:1: FutureWarning: ChainedAssignmentError: behaviour will change in pandas 3.0!\n",
      "You are setting values through chained assignment. Currently this works in certain cases, but when using Copy-on-Write (which will become the default behaviour in pandas 3.0) this will never work to update the original DataFrame or Series, because the intermediate object on which we are setting values will behave as a copy.\n",
      "A typical example is when you are setting values in a column of a DataFrame, like:\n",
      "\n",
      "df[\"col\"][row_indexer] = value\n",
      "\n",
      "Use `df.loc[row_indexer, \"col\"] = values` instead, to perform the assignment in a single step and ensure this keeps updating the original `df`.\n",
      "\n",
      "See the caveats in the documentation: https://pandas.pydata.org/pandas-docs/stable/user_guide/indexing.html#returning-a-view-versus-a-copy\n",
      "\n",
      "  test['luxury_sales'][6] = 760.0\n",
      "/tmp/ipykernel_18/1883175211.py:1: SettingWithCopyWarning: \n",
      "A value is trying to be set on a copy of a slice from a DataFrame\n",
      "\n",
      "See the caveats in the documentation: https://pandas.pydata.org/pandas-docs/stable/user_guide/indexing.html#returning-a-view-versus-a-copy\n",
      "  test['luxury_sales'][6] = 760.0\n",
      "/tmp/ipykernel_18/1883175211.py:2: FutureWarning: ChainedAssignmentError: behaviour will change in pandas 3.0!\n",
      "You are setting values through chained assignment. Currently this works in certain cases, but when using Copy-on-Write (which will become the default behaviour in pandas 3.0) this will never work to update the original DataFrame or Series, because the intermediate object on which we are setting values will behave as a copy.\n",
      "A typical example is when you are setting values in a column of a DataFrame, like:\n",
      "\n",
      "df[\"col\"][row_indexer] = value\n",
      "\n",
      "Use `df.loc[row_indexer, \"col\"] = values` instead, to perform the assignment in a single step and ensure this keeps updating the original `df`.\n",
      "\n",
      "See the caveats in the documentation: https://pandas.pydata.org/pandas-docs/stable/user_guide/indexing.html#returning-a-view-versus-a-copy\n",
      "\n",
      "  test['luxury_sales'][6299] = 850.0\n",
      "/tmp/ipykernel_18/1883175211.py:2: SettingWithCopyWarning: \n",
      "A value is trying to be set on a copy of a slice from a DataFrame\n",
      "\n",
      "See the caveats in the documentation: https://pandas.pydata.org/pandas-docs/stable/user_guide/indexing.html#returning-a-view-versus-a-copy\n",
      "  test['luxury_sales'][6299] = 850.0\n",
      "/tmp/ipykernel_18/1883175211.py:3: FutureWarning: ChainedAssignmentError: behaviour will change in pandas 3.0!\n",
      "You are setting values through chained assignment. Currently this works in certain cases, but when using Copy-on-Write (which will become the default behaviour in pandas 3.0) this will never work to update the original DataFrame or Series, because the intermediate object on which we are setting values will behave as a copy.\n",
      "A typical example is when you are setting values in a column of a DataFrame, like:\n",
      "\n",
      "df[\"col\"][row_indexer] = value\n",
      "\n",
      "Use `df.loc[row_indexer, \"col\"] = values` instead, to perform the assignment in a single step and ensure this keeps updating the original `df`.\n",
      "\n",
      "See the caveats in the documentation: https://pandas.pydata.org/pandas-docs/stable/user_guide/indexing.html#returning-a-view-versus-a-copy\n",
      "\n",
      "  test['fresh_sales'][13949] = 9000.0\n",
      "/tmp/ipykernel_18/1883175211.py:3: SettingWithCopyWarning: \n",
      "A value is trying to be set on a copy of a slice from a DataFrame\n",
      "\n",
      "See the caveats in the documentation: https://pandas.pydata.org/pandas-docs/stable/user_guide/indexing.html#returning-a-view-versus-a-copy\n",
      "  test['fresh_sales'][13949] = 9000.0\n",
      "/tmp/ipykernel_18/1883175211.py:4: FutureWarning: ChainedAssignmentError: behaviour will change in pandas 3.0!\n",
      "You are setting values through chained assignment. Currently this works in certain cases, but when using Copy-on-Write (which will become the default behaviour in pandas 3.0) this will never work to update the original DataFrame or Series, because the intermediate object on which we are setting values will behave as a copy.\n",
      "A typical example is when you are setting values in a column of a DataFrame, like:\n",
      "\n",
      "df[\"col\"][row_indexer] = value\n",
      "\n",
      "Use `df.loc[row_indexer, \"col\"] = values` instead, to perform the assignment in a single step and ensure this keeps updating the original `df`.\n",
      "\n",
      "See the caveats in the documentation: https://pandas.pydata.org/pandas-docs/stable/user_guide/indexing.html#returning-a-view-versus-a-copy\n",
      "\n",
      "  test['dry_sales'][40746] = 3700.0\n",
      "/tmp/ipykernel_18/1883175211.py:4: SettingWithCopyWarning: \n",
      "A value is trying to be set on a copy of a slice from a DataFrame\n",
      "\n",
      "See the caveats in the documentation: https://pandas.pydata.org/pandas-docs/stable/user_guide/indexing.html#returning-a-view-versus-a-copy\n",
      "  test['dry_sales'][40746] = 3700.0\n"
     ]
    }
   ],
   "source": [
    "test['luxury_sales'][6] = 760.0 \n",
    "test['luxury_sales'][6299] = 850.0\n",
    "test['fresh_sales'][13949] = 9000.0\n",
    "test['dry_sales'][40746] = 3700.0"
   ]
  },
  {
   "cell_type": "code",
   "execution_count": 43,
   "id": "acea1874",
   "metadata": {
    "execution": {
     "iopub.execute_input": "2024-05-17T06:56:27.793591Z",
     "iopub.status.busy": "2024-05-17T06:56:27.793193Z",
     "iopub.status.idle": "2024-05-17T06:56:27.825496Z",
     "shell.execute_reply": "2024-05-17T06:56:27.824286Z"
    },
    "papermill": {
     "duration": 1.651545,
     "end_time": "2024-05-17T06:56:27.828077",
     "exception": false,
     "start_time": "2024-05-17T06:56:26.176532",
     "status": "completed"
    },
    "tags": []
   },
   "outputs": [],
   "source": [
    "test['luxury_sales'] = test['luxury_sales'].astype(float)\n",
    "test['fresh_sales'] = test['fresh_sales'].astype(float)\n",
    "test['dry_sales'] = test['dry_sales'].astype(float)"
   ]
  },
  {
   "cell_type": "code",
   "execution_count": 44,
   "id": "e0a5e78d",
   "metadata": {
    "execution": {
     "iopub.execute_input": "2024-05-17T06:56:31.011748Z",
     "iopub.status.busy": "2024-05-17T06:56:31.011372Z",
     "iopub.status.idle": "2024-05-17T06:56:31.028859Z",
     "shell.execute_reply": "2024-05-17T06:56:31.027757Z"
    },
    "papermill": {
     "duration": 1.580294,
     "end_time": "2024-05-17T06:56:31.031343",
     "exception": false,
     "start_time": "2024-05-17T06:56:29.451049",
     "status": "completed"
    },
    "tags": []
   },
   "outputs": [
    {
     "data": {
      "text/plain": [
       "count    40749.00\n",
       "mean     11061.55\n",
       "std       3832.32\n",
       "min       4603.68\n",
       "25%       7861.56\n",
       "50%      10801.00\n",
       "75%      13748.40\n",
       "max      20784.40\n",
       "Name: total_sales, dtype: float64"
      ]
     },
     "execution_count": 44,
     "metadata": {},
     "output_type": "execute_result"
    }
   ],
   "source": [
    "test['total_sales'] = test['luxury_sales'] + test['fresh_sales'] + test['dry_sales']\n",
    "test['total_sales'].describe().round(2)"
   ]
  },
  {
   "cell_type": "code",
   "execution_count": 45,
   "id": "04a31edf",
   "metadata": {
    "execution": {
     "iopub.execute_input": "2024-05-17T06:56:34.335518Z",
     "iopub.status.busy": "2024-05-17T06:56:34.335131Z",
     "iopub.status.idle": "2024-05-17T06:56:34.346742Z",
     "shell.execute_reply": "2024-05-17T06:56:34.345908Z"
    },
    "papermill": {
     "duration": 1.659749,
     "end_time": "2024-05-17T06:56:34.349108",
     "exception": false,
     "start_time": "2024-05-17T06:56:32.689359",
     "status": "completed"
    },
    "tags": []
   },
   "outputs": [],
   "source": [
    "test['luxury_sales'] = (test['luxury_sales'] / test['total_sales']).round(4)  # Round to four decimal places\n",
    "test['fresh_sales'] = (test['fresh_sales'] / test['total_sales']).round(4)\n",
    "test['dry_sales'] = (test['dry_sales'] / test['total_sales']).round(4)\n",
    "\n",
    "# Normalize the ratios so that the sum adds up to 1\n",
    "total_ratio = test['luxury_sales'] + test['fresh_sales'] + test['dry_sales']\n",
    "test['luxury_sales'] /= total_ratio\n",
    "test['fresh_sales'] /= total_ratio\n",
    "test['dry_sales'] /= total_ratio"
   ]
  },
  {
   "cell_type": "code",
   "execution_count": 46,
   "id": "c5ad5172",
   "metadata": {
    "execution": {
     "iopub.execute_input": "2024-05-17T06:56:37.507514Z",
     "iopub.status.busy": "2024-05-17T06:56:37.507121Z",
     "iopub.status.idle": "2024-05-17T06:56:37.515121Z",
     "shell.execute_reply": "2024-05-17T06:56:37.514179Z"
    },
    "papermill": {
     "duration": 1.628013,
     "end_time": "2024-05-17T06:56:37.517514",
     "exception": false,
     "start_time": "2024-05-17T06:56:35.889501",
     "status": "completed"
    },
    "tags": []
   },
   "outputs": [],
   "source": [
    "test['luxury_sales'] = test['luxury_sales'].round(4)  # Round to four decimal places\n",
    "test['fresh_sales'] = test['fresh_sales'].round(4)\n",
    "test['dry_sales'] = test['dry_sales'].round(4)"
   ]
  },
  {
   "cell_type": "code",
   "execution_count": 47,
   "id": "c36fb2e8",
   "metadata": {
    "execution": {
     "iopub.execute_input": "2024-05-17T06:56:40.678640Z",
     "iopub.status.busy": "2024-05-17T06:56:40.678237Z",
     "iopub.status.idle": "2024-05-17T06:56:40.692045Z",
     "shell.execute_reply": "2024-05-17T06:56:40.690974Z"
    },
    "papermill": {
     "duration": 1.634677,
     "end_time": "2024-05-17T06:56:40.694694",
     "exception": false,
     "start_time": "2024-05-17T06:56:39.060017",
     "status": "completed"
    },
    "tags": []
   },
   "outputs": [
    {
     "data": {
      "text/html": [
       "<div>\n",
       "<style scoped>\n",
       "    .dataframe tbody tr th:only-of-type {\n",
       "        vertical-align: middle;\n",
       "    }\n",
       "\n",
       "    .dataframe tbody tr th {\n",
       "        vertical-align: top;\n",
       "    }\n",
       "\n",
       "    .dataframe thead th {\n",
       "        text-align: right;\n",
       "    }\n",
       "</style>\n",
       "<table border=\"1\" class=\"dataframe\">\n",
       "  <thead>\n",
       "    <tr style=\"text-align: right;\">\n",
       "      <th></th>\n",
       "      <th>Customer_ID</th>\n",
       "      <th>outlet_city</th>\n",
       "      <th>luxury_sales</th>\n",
       "      <th>fresh_sales</th>\n",
       "      <th>dry_sales</th>\n",
       "      <th>total_sales</th>\n",
       "    </tr>\n",
       "  </thead>\n",
       "  <tbody>\n",
       "    <tr>\n",
       "      <th>0</th>\n",
       "      <td>33574</td>\n",
       "      <td>batticaloa</td>\n",
       "      <td>0.1429</td>\n",
       "      <td>0.1905</td>\n",
       "      <td>0.6666</td>\n",
       "      <td>18805.50</td>\n",
       "    </tr>\n",
       "    <tr>\n",
       "      <th>1</th>\n",
       "      <td>10089</td>\n",
       "      <td>batticaloa</td>\n",
       "      <td>0.1250</td>\n",
       "      <td>0.1875</td>\n",
       "      <td>0.6875</td>\n",
       "      <td>13740.48</td>\n",
       "    </tr>\n",
       "    <tr>\n",
       "      <th>2</th>\n",
       "      <td>38329</td>\n",
       "      <td>batticaloa</td>\n",
       "      <td>0.1170</td>\n",
       "      <td>0.1702</td>\n",
       "      <td>0.7128</td>\n",
       "      <td>7298.16</td>\n",
       "    </tr>\n",
       "    <tr>\n",
       "      <th>3</th>\n",
       "      <td>11376</td>\n",
       "      <td>batticaloa</td>\n",
       "      <td>0.1237</td>\n",
       "      <td>0.1753</td>\n",
       "      <td>0.7010</td>\n",
       "      <td>13241.47</td>\n",
       "    </tr>\n",
       "    <tr>\n",
       "      <th>4</th>\n",
       "      <td>12410</td>\n",
       "      <td>batticaloa</td>\n",
       "      <td>0.1300</td>\n",
       "      <td>0.1900</td>\n",
       "      <td>0.6800</td>\n",
       "      <td>7993.00</td>\n",
       "    </tr>\n",
       "  </tbody>\n",
       "</table>\n",
       "</div>"
      ],
      "text/plain": [
       "   Customer_ID outlet_city  luxury_sales  fresh_sales  dry_sales  total_sales\n",
       "0        33574  batticaloa        0.1429       0.1905     0.6666     18805.50\n",
       "1        10089  batticaloa        0.1250       0.1875     0.6875     13740.48\n",
       "2        38329  batticaloa        0.1170       0.1702     0.7128      7298.16\n",
       "3        11376  batticaloa        0.1237       0.1753     0.7010     13241.47\n",
       "4        12410  batticaloa        0.1300       0.1900     0.6800      7993.00"
      ]
     },
     "execution_count": 47,
     "metadata": {},
     "output_type": "execute_result"
    }
   ],
   "source": [
    "test.head()"
   ]
  },
  {
   "cell_type": "code",
   "execution_count": 48,
   "id": "ede380ba",
   "metadata": {
    "execution": {
     "iopub.execute_input": "2024-05-17T06:56:43.955562Z",
     "iopub.status.busy": "2024-05-17T06:56:43.955180Z",
     "iopub.status.idle": "2024-05-17T06:56:43.961083Z",
     "shell.execute_reply": "2024-05-17T06:56:43.959991Z"
    },
    "papermill": {
     "duration": 1.644384,
     "end_time": "2024-05-17T06:56:43.963534",
     "exception": false,
     "start_time": "2024-05-17T06:56:42.319150",
     "status": "completed"
    },
    "tags": []
   },
   "outputs": [],
   "source": [
    "Customer_ID = test[['Customer_ID']]"
   ]
  },
  {
   "cell_type": "code",
   "execution_count": 49,
   "id": "1ee12350",
   "metadata": {
    "execution": {
     "iopub.execute_input": "2024-05-17T06:56:47.140291Z",
     "iopub.status.busy": "2024-05-17T06:56:47.139618Z",
     "iopub.status.idle": "2024-05-17T06:56:47.147311Z",
     "shell.execute_reply": "2024-05-17T06:56:47.146305Z"
    },
    "papermill": {
     "duration": 1.637499,
     "end_time": "2024-05-17T06:56:47.149394",
     "exception": false,
     "start_time": "2024-05-17T06:56:45.511895",
     "status": "completed"
    },
    "tags": []
   },
   "outputs": [],
   "source": [
    "X = test.drop(columns=['Customer_ID', 'total_sales', 'outlet_city'])"
   ]
  },
  {
   "cell_type": "code",
   "execution_count": 50,
   "id": "9cbe96d2",
   "metadata": {
    "execution": {
     "iopub.execute_input": "2024-05-17T06:56:50.322676Z",
     "iopub.status.busy": "2024-05-17T06:56:50.321952Z",
     "iopub.status.idle": "2024-05-17T06:56:50.332260Z",
     "shell.execute_reply": "2024-05-17T06:56:50.331261Z"
    },
    "papermill": {
     "duration": 1.643076,
     "end_time": "2024-05-17T06:56:50.334520",
     "exception": false,
     "start_time": "2024-05-17T06:56:48.691444",
     "status": "completed"
    },
    "tags": []
   },
   "outputs": [],
   "source": [
    "submit_data = xgb.DMatrix(X)"
   ]
  },
  {
   "cell_type": "code",
   "execution_count": 51,
   "id": "6aad1fe6",
   "metadata": {
    "execution": {
     "iopub.execute_input": "2024-05-17T06:56:53.530076Z",
     "iopub.status.busy": "2024-05-17T06:56:53.529327Z",
     "iopub.status.idle": "2024-05-17T06:56:56.150119Z",
     "shell.execute_reply": "2024-05-17T06:56:56.148996Z"
    },
    "papermill": {
     "duration": 4.199664,
     "end_time": "2024-05-17T06:56:56.152640",
     "exception": false,
     "start_time": "2024-05-17T06:56:51.952976",
     "status": "completed"
    },
    "tags": []
   },
   "outputs": [
    {
     "name": "stdout",
     "output_type": "stream",
     "text": [
      "\u001b[1m1274/1274\u001b[0m \u001b[32m━━━━━━━━━━━━━━━━━━━━\u001b[0m\u001b[37m\u001b[0m \u001b[1m1s\u001b[0m 1ms/step\n"
     ]
    }
   ],
   "source": [
    "# Make predictions\n",
    "y_pred_class = model.predict(X)"
   ]
  },
  {
   "cell_type": "code",
   "execution_count": 52,
   "id": "e58dacb5",
   "metadata": {
    "execution": {
     "iopub.execute_input": "2024-05-17T06:56:59.400842Z",
     "iopub.status.busy": "2024-05-17T06:56:59.400482Z",
     "iopub.status.idle": "2024-05-17T06:56:59.407630Z",
     "shell.execute_reply": "2024-05-17T06:56:59.406518Z"
    },
    "papermill": {
     "duration": 1.641148,
     "end_time": "2024-05-17T06:56:59.409733",
     "exception": false,
     "start_time": "2024-05-17T06:56:57.768585",
     "status": "completed"
    },
    "tags": []
   },
   "outputs": [
    {
     "data": {
      "text/plain": [
       "array([[9.99999464e-01, 1.71964438e-15, 1.43749822e-20, 4.49093790e-07,\n",
       "        1.35745407e-21, 1.14621636e-30],\n",
       "       [9.99999940e-01, 3.25438082e-19, 6.69030592e-26, 1.44846179e-08,\n",
       "        3.16552375e-27, 2.24094109e-38],\n",
       "       [9.99999940e-01, 1.72384339e-21, 8.76820052e-29, 3.05798142e-09,\n",
       "        2.87956713e-30, 0.00000000e+00],\n",
       "       ...,\n",
       "       [6.93785466e-07, 1.47407878e-10, 4.16574836e-01, 9.92778732e-05,\n",
       "        5.83323538e-01, 1.71710440e-06],\n",
       "       [5.48468108e-07, 9.35948541e-11, 4.15561378e-01, 9.01541498e-05,\n",
       "        5.84346592e-01, 1.35323080e-06],\n",
       "       [7.17339049e-07, 1.54152829e-10, 4.16739047e-01, 1.01497215e-04,\n",
       "        5.83157003e-01, 1.74732065e-06]], dtype=float32)"
      ]
     },
     "execution_count": 52,
     "metadata": {},
     "output_type": "execute_result"
    }
   ],
   "source": [
    "y_pred_class"
   ]
  },
  {
   "cell_type": "code",
   "execution_count": 53,
   "id": "8f626390",
   "metadata": {
    "execution": {
     "iopub.execute_input": "2024-05-17T06:57:02.574161Z",
     "iopub.status.busy": "2024-05-17T06:57:02.573491Z",
     "iopub.status.idle": "2024-05-17T06:57:02.579636Z",
     "shell.execute_reply": "2024-05-17T06:57:02.578467Z"
    },
    "papermill": {
     "duration": 1.632267,
     "end_time": "2024-05-17T06:57:02.581884",
     "exception": false,
     "start_time": "2024-05-17T06:57:00.949617",
     "status": "completed"
    },
    "tags": []
   },
   "outputs": [],
   "source": [
    "labels = np.argmax(y_pred_class, axis=1) + 1"
   ]
  },
  {
   "cell_type": "code",
   "execution_count": 54,
   "id": "1b90cca2",
   "metadata": {
    "execution": {
     "iopub.execute_input": "2024-05-17T06:57:05.828981Z",
     "iopub.status.busy": "2024-05-17T06:57:05.828555Z",
     "iopub.status.idle": "2024-05-17T06:57:05.835581Z",
     "shell.execute_reply": "2024-05-17T06:57:05.834516Z"
    },
    "papermill": {
     "duration": 1.629007,
     "end_time": "2024-05-17T06:57:05.837997",
     "exception": false,
     "start_time": "2024-05-17T06:57:04.208990",
     "status": "completed"
    },
    "tags": []
   },
   "outputs": [
    {
     "data": {
      "text/plain": [
       "array([1, 1, 1, ..., 5, 5, 5])"
      ]
     },
     "execution_count": 54,
     "metadata": {},
     "output_type": "execute_result"
    }
   ],
   "source": [
    "labels"
   ]
  },
  {
   "cell_type": "code",
   "execution_count": 55,
   "id": "dc3065c5",
   "metadata": {
    "execution": {
     "iopub.execute_input": "2024-05-17T06:57:09.001991Z",
     "iopub.status.busy": "2024-05-17T06:57:09.001559Z",
     "iopub.status.idle": "2024-05-17T06:57:09.006886Z",
     "shell.execute_reply": "2024-05-17T06:57:09.005775Z"
    },
    "papermill": {
     "duration": 1.559349,
     "end_time": "2024-05-17T06:57:09.009204",
     "exception": false,
     "start_time": "2024-05-17T06:57:07.449855",
     "status": "completed"
    },
    "tags": []
   },
   "outputs": [],
   "source": [
    "array_df = pd.DataFrame({\"cluster category\": labels})"
   ]
  },
  {
   "cell_type": "code",
   "execution_count": 56,
   "id": "054336f8",
   "metadata": {
    "execution": {
     "iopub.execute_input": "2024-05-17T06:57:12.260073Z",
     "iopub.status.busy": "2024-05-17T06:57:12.259632Z",
     "iopub.status.idle": "2024-05-17T06:57:12.270169Z",
     "shell.execute_reply": "2024-05-17T06:57:12.269173Z"
    },
    "papermill": {
     "duration": 1.644859,
     "end_time": "2024-05-17T06:57:12.272447",
     "exception": false,
     "start_time": "2024-05-17T06:57:10.627588",
     "status": "completed"
    },
    "tags": []
   },
   "outputs": [
    {
     "data": {
      "text/plain": [
       "array([1, 6, 2, 5, 4])"
      ]
     },
     "execution_count": 56,
     "metadata": {},
     "output_type": "execute_result"
    }
   ],
   "source": [
    "array_df['cluster category'].unique()"
   ]
  },
  {
   "cell_type": "code",
   "execution_count": 57,
   "id": "d4aa9f4f",
   "metadata": {
    "execution": {
     "iopub.execute_input": "2024-05-17T06:57:15.442287Z",
     "iopub.status.busy": "2024-05-17T06:57:15.441823Z",
     "iopub.status.idle": "2024-05-17T06:57:15.450434Z",
     "shell.execute_reply": "2024-05-17T06:57:15.449373Z"
    },
    "papermill": {
     "duration": 1.627525,
     "end_time": "2024-05-17T06:57:15.452850",
     "exception": false,
     "start_time": "2024-05-17T06:57:13.825325",
     "status": "completed"
    },
    "tags": []
   },
   "outputs": [],
   "source": [
    "label_unmapping = {0: 1, 1: 2, 2: 3, 3: 4, 4: 5, 5: 6}\n",
    "\n",
    "array_df['cluster category'] = array_df['cluster category'].replace(label_unmapping)"
   ]
  },
  {
   "cell_type": "code",
   "execution_count": 58,
   "id": "4e5e81bd",
   "metadata": {
    "execution": {
     "iopub.execute_input": "2024-05-17T06:57:18.619779Z",
     "iopub.status.busy": "2024-05-17T06:57:18.619059Z",
     "iopub.status.idle": "2024-05-17T06:57:18.628663Z",
     "shell.execute_reply": "2024-05-17T06:57:18.627453Z"
    },
    "papermill": {
     "duration": 1.558614,
     "end_time": "2024-05-17T06:57:18.630859",
     "exception": false,
     "start_time": "2024-05-17T06:57:17.072245",
     "status": "completed"
    },
    "tags": []
   },
   "outputs": [
    {
     "data": {
      "text/html": [
       "<div>\n",
       "<style scoped>\n",
       "    .dataframe tbody tr th:only-of-type {\n",
       "        vertical-align: middle;\n",
       "    }\n",
       "\n",
       "    .dataframe tbody tr th {\n",
       "        vertical-align: top;\n",
       "    }\n",
       "\n",
       "    .dataframe thead th {\n",
       "        text-align: right;\n",
       "    }\n",
       "</style>\n",
       "<table border=\"1\" class=\"dataframe\">\n",
       "  <thead>\n",
       "    <tr style=\"text-align: right;\">\n",
       "      <th></th>\n",
       "      <th>cluster category</th>\n",
       "    </tr>\n",
       "  </thead>\n",
       "  <tbody>\n",
       "    <tr>\n",
       "      <th>0</th>\n",
       "      <td>2</td>\n",
       "    </tr>\n",
       "    <tr>\n",
       "      <th>1</th>\n",
       "      <td>2</td>\n",
       "    </tr>\n",
       "    <tr>\n",
       "      <th>2</th>\n",
       "      <td>2</td>\n",
       "    </tr>\n",
       "    <tr>\n",
       "      <th>3</th>\n",
       "      <td>2</td>\n",
       "    </tr>\n",
       "    <tr>\n",
       "      <th>4</th>\n",
       "      <td>2</td>\n",
       "    </tr>\n",
       "  </tbody>\n",
       "</table>\n",
       "</div>"
      ],
      "text/plain": [
       "   cluster category\n",
       "0                 2\n",
       "1                 2\n",
       "2                 2\n",
       "3                 2\n",
       "4                 2"
      ]
     },
     "execution_count": 58,
     "metadata": {},
     "output_type": "execute_result"
    }
   ],
   "source": [
    "array_df.head()"
   ]
  },
  {
   "cell_type": "code",
   "execution_count": 59,
   "id": "6f8077f2",
   "metadata": {
    "execution": {
     "iopub.execute_input": "2024-05-17T06:57:21.886619Z",
     "iopub.status.busy": "2024-05-17T06:57:21.886211Z",
     "iopub.status.idle": "2024-05-17T06:57:21.892584Z",
     "shell.execute_reply": "2024-05-17T06:57:21.891505Z"
    },
    "papermill": {
     "duration": 1.638495,
     "end_time": "2024-05-17T06:57:21.895060",
     "exception": false,
     "start_time": "2024-05-17T06:57:20.256565",
     "status": "completed"
    },
    "tags": []
   },
   "outputs": [],
   "source": [
    "submission_1 = pd.concat([Customer_ID, array_df], axis=1)\n"
   ]
  },
  {
   "cell_type": "code",
   "execution_count": 60,
   "id": "6036afa1",
   "metadata": {
    "execution": {
     "iopub.execute_input": "2024-05-17T06:57:25.099945Z",
     "iopub.status.busy": "2024-05-17T06:57:25.099532Z",
     "iopub.status.idle": "2024-05-17T06:57:25.160007Z",
     "shell.execute_reply": "2024-05-17T06:57:25.158784Z"
    },
    "papermill": {
     "duration": 1.688564,
     "end_time": "2024-05-17T06:57:25.162693",
     "exception": false,
     "start_time": "2024-05-17T06:57:23.474129",
     "status": "completed"
    },
    "tags": []
   },
   "outputs": [],
   "source": [
    "submission_1.to_csv('ann_model_out.csv', index=False)"
   ]
  },
  {
   "cell_type": "code",
   "execution_count": null,
   "id": "67efa14a",
   "metadata": {
    "papermill": {
     "duration": 1.635828,
     "end_time": "2024-05-17T06:57:28.339674",
     "exception": false,
     "start_time": "2024-05-17T06:57:26.703846",
     "status": "completed"
    },
    "tags": []
   },
   "outputs": [],
   "source": []
  }
 ],
 "metadata": {
  "kaggle": {
   "accelerator": "none",
   "dataSources": [
    {
     "datasetId": 5023568,
     "sourceId": 8434480,
     "sourceType": "datasetVersion"
    },
    {
     "datasetId": 5024773,
     "sourceId": 8436157,
     "sourceType": "datasetVersion"
    },
    {
     "datasetId": 5024792,
     "sourceId": 8436181,
     "sourceType": "datasetVersion"
    },
    {
     "datasetId": 5025208,
     "sourceId": 8436783,
     "sourceType": "datasetVersion"
    }
   ],
   "dockerImageVersionId": 30698,
   "isGpuEnabled": false,
   "isInternetEnabled": false,
   "language": "python",
   "sourceType": "notebook"
  },
  "kernelspec": {
   "display_name": "Python 3",
   "language": "python",
   "name": "python3"
  },
  "language_info": {
   "codemirror_mode": {
    "name": "ipython",
    "version": 3
   },
   "file_extension": ".py",
   "mimetype": "text/x-python",
   "name": "python",
   "nbconvert_exporter": "python",
   "pygments_lexer": "ipython3",
   "version": "3.10.13"
  },
  "papermill": {
   "default_parameters": {},
   "duration": 1867.62584,
   "end_time": "2024-05-17T06:57:31.989321",
   "environment_variables": {},
   "exception": null,
   "input_path": "__notebook__.ipynb",
   "output_path": "__notebook__.ipynb",
   "parameters": {},
   "start_time": "2024-05-17T06:26:24.363481",
   "version": "2.5.0"
  }
 },
 "nbformat": 4,
 "nbformat_minor": 5
}
